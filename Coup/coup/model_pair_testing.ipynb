{
 "cells": [
  {
   "cell_type": "code",
   "execution_count": 1,
   "metadata": {},
   "outputs": [],
   "source": [
    "import numpy as np\n",
    "def play_games(policy_1, policy_2, env, num_games):\n",
    "    scores = {agent: 0 for agent in env.possible_agents}\n",
    "    total_rewards = {agent: 0 for agent in env.possible_agents}\n",
    "    round_rewards = []\n",
    "    \n",
    "\n",
    "    for i in range(num_games):\n",
    "        print(\"Game number: \", i)\n",
    "        rewards = {agent: 0 for agent in env.possible_agents}\n",
    "        env.reset()\n",
    "\n",
    "        for agent in env.agent_iter():\n",
    "            obs, reward, termination, truncation, info = env.last()\n",
    "\n",
    "            # Separate observation and action mask\n",
    "            observation, action_mask = obs.values()\n",
    "\n",
    "            for a in env.agents:\n",
    "                rewards[a] += env.rewards[a]             \n",
    "            if termination or truncation:\n",
    "                winner = max(env.rewards, key=env.rewards.get)\n",
    "                scores[winner] += 1 # only tracks the largest reward (winner of game)\n",
    "                for a in env.possible_agents:\n",
    "                    total_rewards[a] += rewards[a]\n",
    "                break\n",
    "            else:\n",
    "                if agent == env.possible_agents[0]:\n",
    "                    act = policy_1.compute_single_action(obs)[0]\n",
    "                else:\n",
    "                    act = policy_2.compute_single_action(obs)[0]\n",
    "            env.step(act)\n",
    "    env.close()\n",
    "    print(\"Scores: \", scores)\n",
    "    print(\"Total rewards: \", total_rewards)\n",
    "    return scores, total_rewards"
   ]
  },
  {
   "cell_type": "code",
   "execution_count": null,
   "metadata": {},
   "outputs": [],
   "source": []
  },
  {
   "cell_type": "code",
   "execution_count": 2,
   "metadata": {},
   "outputs": [],
   "source": [
    "import coup_v2"
   ]
  },
  {
   "cell_type": "code",
   "execution_count": 3,
   "metadata": {},
   "outputs": [],
   "source": [
    "\n",
    "def env_creator():\n",
    "\n",
    "    env = coup_v2.env()\n",
    "    return env"
   ]
  },
  {
   "cell_type": "code",
   "execution_count": 12,
   "metadata": {},
   "outputs": [
    {
     "name": "stdout",
     "output_type": "stream",
     "text": [
      "hello\n"
     ]
    }
   ],
   "source": [
    "print(\"hello\")"
   ]
  },
  {
   "cell_type": "code",
   "execution_count": 7,
   "metadata": {},
   "outputs": [
    {
     "name": "stdout",
     "output_type": "stream",
     "text": [
      "model_names\n"
     ]
    },
    {
     "name": "stderr",
     "output_type": "stream",
     "text": [
      "2024-04-22 19:22:31,551\tINFO worker.py:1752 -- Started a local Ray instance.\n"
     ]
    },
    {
     "name": "stdout",
     "output_type": "stream",
     "text": [
      "Model 1 c:\\Users\\josep\\Documents\\Coup-RL\\Coup\\coup\\ray_results\\PPO_decentralised\\PPO_Coup_1bd85_00000_0_clip_param-0.1000-gamma-0.9000-train_batch_size-10000_2024-04-21_20-26-53\n",
      "Model 2 c:\\Users\\josep\\Documents\\Coup-RL\\Coup\\coup\\ray_results\\PPO_decentralised\\PPO_Coup_1bd85_00000_0_clip_param-0.1000-gamma-0.9000-train_batch_size-10000_2024-04-21_20-26-53\n",
      "Model 1 c:\\Users\\josep\\Documents\\Coup-RL\\Coup\\coup\\ray_results\\PPO_decentralised\\PPO_Coup_1bd85_00000_0_clip_param-0.1000-gamma-0.9000-train_batch_size-10000_2024-04-21_20-26-53\n",
      "Model 2 c:\\Users\\josep\\Documents\\Coup-RL\\Coup\\coup\\ray_results\\PPO_decentralised\\PPO_Coup_1bd85_00001_1_clip_param-0.2000-gamma-0.9000-train_batch_size-10000_2024-04-21_20-50-44\n",
      ":job_id:01000000\n",
      ":actor_name:RolloutWorker\n"
     ]
    },
    {
     "name": "stderr",
     "output_type": "stream",
     "text": [
      "c:\\Users\\josep\\Documents\\Coup-RL\\env\\lib\\site-packages\\ray\\rllib\\algorithms\\algorithm.py:500: RayDeprecationWarning: This API is deprecated and may be removed in future Ray releases. You could suppress this warning by setting env variable PYTHONWARNINGS=\"ignore::DeprecationWarning\"\n",
      "`UnifiedLogger` will be removed in Ray 2.7.\n",
      "  return UnifiedLogger(config, logdir, loggers=None)\n",
      "c:\\Users\\josep\\Documents\\Coup-RL\\env\\lib\\site-packages\\ray\\tune\\logger\\unified.py:53: RayDeprecationWarning: This API is deprecated and may be removed in future Ray releases. You could suppress this warning by setting env variable PYTHONWARNINGS=\"ignore::DeprecationWarning\"\n",
      "The `JsonLogger interface is deprecated in favor of the `ray.tune.json.JsonLoggerCallback` interface and will be removed in Ray 2.7.\n",
      "  self._loggers.append(cls(self.config, self.logdir, self.trial))\n",
      "c:\\Users\\josep\\Documents\\Coup-RL\\env\\lib\\site-packages\\ray\\tune\\logger\\unified.py:53: RayDeprecationWarning: This API is deprecated and may be removed in future Ray releases. You could suppress this warning by setting env variable PYTHONWARNINGS=\"ignore::DeprecationWarning\"\n",
      "The `CSVLogger interface is deprecated in favor of the `ray.tune.csv.CSVLoggerCallback` interface and will be removed in Ray 2.7.\n",
      "  self._loggers.append(cls(self.config, self.logdir, self.trial))\n",
      "c:\\Users\\josep\\Documents\\Coup-RL\\env\\lib\\site-packages\\ray\\tune\\logger\\unified.py:53: RayDeprecationWarning: This API is deprecated and may be removed in future Ray releases. You could suppress this warning by setting env variable PYTHONWARNINGS=\"ignore::DeprecationWarning\"\n",
      "The `TBXLogger interface is deprecated in favor of the `ray.tune.tensorboardx.TBXLoggerCallback` interface and will be removed in Ray 2.7.\n",
      "  self._loggers.append(cls(self.config, self.logdir, self.trial))\n",
      ":job_id:01000000\n",
      ":actor_name:RolloutWorker\n",
      ":actor_name:RolloutWorker\n",
      ":actor_name:RolloutWorker\n",
      ":actor_name:RolloutWorker\n",
      "2024-04-22 19:22:36,629\tWARNING util.py:62 -- Install gputil for GPU system monitoring.\n"
     ]
    },
    {
     "name": "stdout",
     "output_type": "stream",
     "text": [
      ":actor_name:RolloutWorker\n",
      ":actor_name:RolloutWorker\n",
      ":actor_name:RolloutWorker\n"
     ]
    },
    {
     "name": "stderr",
     "output_type": "stream",
     "text": [
      "c:\\Users\\josep\\Documents\\Coup-RL\\env\\lib\\site-packages\\ray\\rllib\\algorithms\\algorithm.py:500: RayDeprecationWarning: This API is deprecated and may be removed in future Ray releases. You could suppress this warning by setting env variable PYTHONWARNINGS=\"ignore::DeprecationWarning\"\n",
      "`UnifiedLogger` will be removed in Ray 2.7.\n",
      "  return UnifiedLogger(config, logdir, loggers=None)\n",
      "c:\\Users\\josep\\Documents\\Coup-RL\\env\\lib\\site-packages\\ray\\tune\\logger\\unified.py:53: RayDeprecationWarning: This API is deprecated and may be removed in future Ray releases. You could suppress this warning by setting env variable PYTHONWARNINGS=\"ignore::DeprecationWarning\"\n",
      "The `JsonLogger interface is deprecated in favor of the `ray.tune.json.JsonLoggerCallback` interface and will be removed in Ray 2.7.\n",
      "  self._loggers.append(cls(self.config, self.logdir, self.trial))\n",
      "c:\\Users\\josep\\Documents\\Coup-RL\\env\\lib\\site-packages\\ray\\tune\\logger\\unified.py:53: RayDeprecationWarning: This API is deprecated and may be removed in future Ray releases. You could suppress this warning by setting env variable PYTHONWARNINGS=\"ignore::DeprecationWarning\"\n",
      "The `CSVLogger interface is deprecated in favor of the `ray.tune.csv.CSVLoggerCallback` interface and will be removed in Ray 2.7.\n",
      "  self._loggers.append(cls(self.config, self.logdir, self.trial))\n",
      "c:\\Users\\josep\\Documents\\Coup-RL\\env\\lib\\site-packages\\ray\\tune\\logger\\unified.py:53: RayDeprecationWarning: This API is deprecated and may be removed in future Ray releases. You could suppress this warning by setting env variable PYTHONWARNINGS=\"ignore::DeprecationWarning\"\n",
      "The `TBXLogger interface is deprecated in favor of the `ray.tune.tensorboardx.TBXLoggerCallback` interface and will be removed in Ray 2.7.\n",
      "  self._loggers.append(cls(self.config, self.logdir, self.trial))\n",
      ":actor_name:RolloutWorker\n",
      ":actor_name:RolloutWorker\n",
      ":actor_name:RolloutWorker\n"
     ]
    },
    {
     "name": "stdout",
     "output_type": "stream",
     "text": [
      ":actor_name:RolloutWorker\n",
      ":actor_name:RolloutWorker\n",
      ":actor_name:RolloutWorker\n"
     ]
    },
    {
     "name": "stderr",
     "output_type": "stream",
     "text": [
      ":actor_name:RolloutWorker\n",
      "2024-04-22 19:22:37,468\tWARNING util.py:62 -- Install gputil for GPU system monitoring.\n"
     ]
    },
    {
     "name": "stdout",
     "output_type": "stream",
     "text": [
      ":actor_name:RolloutWorker\n",
      "Game number:  0\n",
      "Game number:  1\n",
      "Game number:  2\n",
      "Game number:  3\n",
      "Game number:  4\n",
      "Game number:  5\n",
      "Game number:  6\n",
      "Game number:  7\n",
      "Game number:  8\n",
      "Game number:  9\n",
      "Game number:  10\n",
      "Game number:  11\n",
      "Game number:  12\n",
      "Game number:  13\n",
      "Game number:  14\n",
      "Game number:  15\n",
      "Game number:  16\n",
      "Game number:  17\n",
      "Game number:  18\n",
      "Game number:  19\n",
      "Game number:  20\n",
      "Game number:  21\n",
      "Game number:  22\n",
      "Game number:  23\n",
      "Game number:  24\n",
      "Game number:  25\n",
      "Game number:  26\n",
      "Game number:  27\n",
      "Game number:  28\n",
      "Game number:  29\n",
      "Game number:  30\n",
      "Game number:  31\n",
      "Game number:  32\n",
      "Game number:  33\n",
      "Game number:  34\n",
      "Game number:  35\n",
      "Game number:  36\n",
      "Game number:  37\n",
      "Game number:  38\n",
      "Game number:  39\n",
      "Game number:  40\n",
      "Game number:  41\n",
      "Game number:  42\n",
      "Game number:  43\n",
      "Game number:  44\n",
      "Game number:  45\n",
      "Game number:  46\n",
      "Game number:  47\n",
      "Game number:  48\n",
      "Game number:  49\n",
      "Game number:  50\n",
      "Game number:  51\n",
      "Game number:  52\n",
      "Game number:  53\n",
      "Game number:  54\n",
      "Game number:  55\n",
      "Game number:  56\n",
      "Game number:  57\n",
      "Game number:  58\n",
      "Game number:  59\n",
      "Game number:  60\n",
      "Game number:  61\n",
      "Game number:  62\n",
      "Game number:  63\n",
      "Game number:  64\n",
      "Game number:  65\n",
      "Game number:  66\n",
      "Game number:  67\n",
      "Game number:  68\n",
      "Game number:  69\n",
      "Game number:  70\n",
      "Game number:  71\n",
      "Game number:  72\n",
      "Game number:  73\n",
      "Game number:  74\n",
      "Game number:  75\n",
      "Game number:  76\n",
      "Game number:  77\n",
      "Game number:  78\n",
      "Game number:  79\n",
      "Game number:  80\n",
      "Game number:  81\n",
      "Game number:  82\n",
      "Game number:  83\n",
      "Game number:  84\n",
      "Game number:  85\n",
      "Game number:  86\n",
      "Game number:  87\n",
      "Game number:  88\n",
      "Game number:  89\n",
      "Game number:  90\n",
      "Game number:  91\n",
      "Game number:  92\n",
      "Game number:  93\n",
      "Game number:  94\n",
      "Game number:  95\n",
      "Game number:  96\n",
      "Game number:  97\n",
      "Game number:  98\n",
      "Game number:  99\n",
      "Scores:  {'player_1': 44, 'player_2': 56}\n",
      "Total rewards:  {'player_1': -18, 'player_2': 18}\n"
     ]
    },
    {
     "name": "stderr",
     "output_type": "stream",
     "text": [
      "C:\\Users\\josep\\AppData\\Local\\Temp\\ipykernel_11988\\3011563295.py:66: FutureWarning: The behavior of DataFrame concatenation with empty or all-NA entries is deprecated. In a future version, this will no longer exclude empty or all-NA columns when determining the result dtypes. To retain the old behavior, exclude the relevant entries before the concat operation.\n",
      "  scores_df = pd.concat([scores_df, temp_scores], ignore_index=True)\n"
     ]
    },
    {
     "name": "stdout",
     "output_type": "stream",
     "text": [
      "Model 1 c:\\Users\\josep\\Documents\\Coup-RL\\Coup\\coup\\ray_results\\PPO_decentralised\\PPO_Coup_1bd85_00000_0_clip_param-0.1000-gamma-0.9000-train_batch_size-10000_2024-04-21_20-26-53\n",
      "Model 2 c:\\Users\\josep\\Documents\\Coup-RL\\Coup\\coup\\ray_results\\PPO_decentralised\\PPO_Coup_1bd85_00002_2_clip_param-0.3000-gamma-0.9000-train_batch_size-10000_2024-04-21_21-28-22\n",
      ":actor_name:RolloutWorker\n",
      ":actor_name:RolloutWorker\n",
      ":actor_name:RolloutWorker\n"
     ]
    },
    {
     "name": "stderr",
     "output_type": "stream",
     "text": [
      "c:\\Users\\josep\\Documents\\Coup-RL\\env\\lib\\site-packages\\ray\\rllib\\algorithms\\algorithm.py:500: RayDeprecationWarning: This API is deprecated and may be removed in future Ray releases. You could suppress this warning by setting env variable PYTHONWARNINGS=\"ignore::DeprecationWarning\"\n",
      "`UnifiedLogger` will be removed in Ray 2.7.\n",
      "  return UnifiedLogger(config, logdir, loggers=None)\n",
      "c:\\Users\\josep\\Documents\\Coup-RL\\env\\lib\\site-packages\\ray\\tune\\logger\\unified.py:53: RayDeprecationWarning: This API is deprecated and may be removed in future Ray releases. You could suppress this warning by setting env variable PYTHONWARNINGS=\"ignore::DeprecationWarning\"\n",
      "The `JsonLogger interface is deprecated in favor of the `ray.tune.json.JsonLoggerCallback` interface and will be removed in Ray 2.7.\n",
      "  self._loggers.append(cls(self.config, self.logdir, self.trial))\n",
      "c:\\Users\\josep\\Documents\\Coup-RL\\env\\lib\\site-packages\\ray\\tune\\logger\\unified.py:53: RayDeprecationWarning: This API is deprecated and may be removed in future Ray releases. You could suppress this warning by setting env variable PYTHONWARNINGS=\"ignore::DeprecationWarning\"\n",
      "The `CSVLogger interface is deprecated in favor of the `ray.tune.csv.CSVLoggerCallback` interface and will be removed in Ray 2.7.\n",
      "  self._loggers.append(cls(self.config, self.logdir, self.trial))\n",
      "c:\\Users\\josep\\Documents\\Coup-RL\\env\\lib\\site-packages\\ray\\tune\\logger\\unified.py:53: RayDeprecationWarning: This API is deprecated and may be removed in future Ray releases. You could suppress this warning by setting env variable PYTHONWARNINGS=\"ignore::DeprecationWarning\"\n",
      "The `TBXLogger interface is deprecated in favor of the `ray.tune.tensorboardx.TBXLoggerCallback` interface and will be removed in Ray 2.7.\n",
      "  self._loggers.append(cls(self.config, self.logdir, self.trial))\n",
      ":actor_name:RolloutWorker\n",
      ":actor_name:RolloutWorker\n",
      ":actor_name:RolloutWorker\n",
      ":actor_name:RolloutWorker\n",
      "2024-04-22 19:22:43,102\tWARNING util.py:62 -- Install gputil for GPU system monitoring.\n"
     ]
    },
    {
     "name": "stdout",
     "output_type": "stream",
     "text": [
      ":actor_name:RolloutWorker\n"
     ]
    },
    {
     "name": "stderr",
     "output_type": "stream",
     "text": [
      "c:\\Users\\josep\\Documents\\Coup-RL\\env\\lib\\site-packages\\ray\\rllib\\algorithms\\algorithm.py:500: RayDeprecationWarning: This API is deprecated and may be removed in future Ray releases. You could suppress this warning by setting env variable PYTHONWARNINGS=\"ignore::DeprecationWarning\"\n",
      "`UnifiedLogger` will be removed in Ray 2.7.\n",
      "  return UnifiedLogger(config, logdir, loggers=None)\n",
      "c:\\Users\\josep\\Documents\\Coup-RL\\env\\lib\\site-packages\\ray\\tune\\logger\\unified.py:53: RayDeprecationWarning: This API is deprecated and may be removed in future Ray releases. You could suppress this warning by setting env variable PYTHONWARNINGS=\"ignore::DeprecationWarning\"\n",
      "The `JsonLogger interface is deprecated in favor of the `ray.tune.json.JsonLoggerCallback` interface and will be removed in Ray 2.7.\n",
      "  self._loggers.append(cls(self.config, self.logdir, self.trial))\n",
      "c:\\Users\\josep\\Documents\\Coup-RL\\env\\lib\\site-packages\\ray\\tune\\logger\\unified.py:53: RayDeprecationWarning: This API is deprecated and may be removed in future Ray releases. You could suppress this warning by setting env variable PYTHONWARNINGS=\"ignore::DeprecationWarning\"\n",
      "The `CSVLogger interface is deprecated in favor of the `ray.tune.csv.CSVLoggerCallback` interface and will be removed in Ray 2.7.\n",
      "  self._loggers.append(cls(self.config, self.logdir, self.trial))\n",
      "c:\\Users\\josep\\Documents\\Coup-RL\\env\\lib\\site-packages\\ray\\tune\\logger\\unified.py:53: RayDeprecationWarning: This API is deprecated and may be removed in future Ray releases. You could suppress this warning by setting env variable PYTHONWARNINGS=\"ignore::DeprecationWarning\"\n",
      "The `TBXLogger interface is deprecated in favor of the `ray.tune.tensorboardx.TBXLoggerCallback` interface and will be removed in Ray 2.7.\n",
      "  self._loggers.append(cls(self.config, self.logdir, self.trial))\n",
      ":actor_name:RolloutWorker\n",
      ":actor_name:RolloutWorker\n",
      ":actor_name:RolloutWorker\n",
      ":actor_name:RolloutWorker\n",
      "2024-04-22 19:22:43,519\tWARNING util.py:62 -- Install gputil for GPU system monitoring.\n"
     ]
    },
    {
     "name": "stdout",
     "output_type": "stream",
     "text": [
      ":actor_name:RolloutWorker\n",
      ":actor_name:RolloutWorker\n",
      ":actor_name:RolloutWorker\n",
      ":actor_name:RolloutWorker\n",
      "Game number:  0\n",
      "Game number:  1\n",
      "Game number:  2\n",
      "Game number:  3\n",
      "Game number:  4\n",
      "Game number:  5\n",
      "Game number:  6\n",
      "Game number:  7\n",
      "Game number:  8\n",
      "Game number:  9\n",
      "Game number:  10\n",
      "Game number:  11\n",
      "Game number:  12\n",
      "Game number:  13\n",
      "Game number:  14\n",
      "Game number:  15\n",
      "Game number:  16\n",
      "Game number:  17\n",
      "Game number:  18\n",
      "Game number:  19\n",
      "Game number:  20\n",
      "Game number:  21\n",
      "Game number:  22\n",
      "Game number:  23\n",
      "Game number:  24\n",
      "Game number:  25\n",
      "Game number:  26\n",
      "Game number:  27\n",
      "Game number:  28\n",
      "Game number:  29\n",
      "Game number:  30\n",
      "Game number:  31\n",
      "Game number:  32\n",
      "Game number:  33\n",
      "Game number:  34\n",
      "Game number:  35\n",
      "Game number:  36\n",
      "Game number:  37\n",
      "Game number:  38\n",
      "Game number:  39\n",
      "Game number:  40\n",
      "Game number:  41\n",
      "Game number:  42\n",
      "Game number:  43\n",
      "Game number:  44\n",
      "Game number:  45\n",
      "Game number:  46\n",
      "Game number:  47\n",
      "Game number:  48\n",
      "Game number:  49\n",
      "Game number:  50\n",
      "Game number:  51\n",
      "Game number:  52\n",
      "Game number:  53\n",
      "Game number:  54\n",
      "Game number:  55\n",
      "Game number:  56\n",
      "Game number:  57\n",
      "Game number:  58\n",
      "Game number:  59\n",
      "Game number:  60\n",
      "Game number:  61\n",
      "Game number:  62\n",
      "Game number:  63\n",
      "Game number:  64\n",
      "Game number:  65\n",
      "Game number:  66\n",
      "Game number:  67\n",
      "Game number:  68\n",
      "Game number:  69\n",
      "Game number:  70\n",
      "Game number:  71\n",
      "Game number:  72\n",
      "Game number:  73\n",
      "Game number:  74\n",
      "Game number:  75\n",
      "Game number:  76\n",
      "Game number:  77\n",
      "Game number:  78\n",
      "Game number:  79\n",
      "Game number:  80\n",
      "Game number:  81\n",
      "Game number:  82\n",
      "Game number:  83\n",
      "Game number:  84\n",
      "Game number:  85\n",
      "Game number:  86\n",
      "Game number:  87\n",
      "Game number:  88\n",
      "Game number:  89\n",
      "Game number:  90\n",
      "Game number:  91\n",
      "Game number:  92\n",
      "Game number:  93\n",
      "Game number:  94\n",
      "Game number:  95\n",
      "Game number:  96\n",
      "Game number:  97\n",
      "Game number:  98\n",
      "Game number:  99\n",
      "Scores:  {'player_1': 52, 'player_2': 48}\n",
      "Total rewards:  {'player_1': 2, 'player_2': -2}\n",
      "Model 1 c:\\Users\\josep\\Documents\\Coup-RL\\Coup\\coup\\ray_results\\PPO_decentralised\\PPO_Coup_1bd85_00000_0_clip_param-0.1000-gamma-0.9000-train_batch_size-10000_2024-04-21_20-26-53\n",
      "Model 2 c:\\Users\\josep\\Documents\\Coup-RL\\Coup\\coup\\ray_results\\PPO_decentralised\\PPO_Coup_1bd85_00003_3_clip_param-0.1000-gamma-0.9500-train_batch_size-10000_2024-04-21_21-54-16\n",
      ":actor_name:RolloutWorker\n",
      ":actor_name:RolloutWorker\n",
      ":actor_name:RolloutWorker\n"
     ]
    },
    {
     "name": "stderr",
     "output_type": "stream",
     "text": [
      "c:\\Users\\josep\\Documents\\Coup-RL\\env\\lib\\site-packages\\ray\\rllib\\algorithms\\algorithm.py:500: RayDeprecationWarning: This API is deprecated and may be removed in future Ray releases. You could suppress this warning by setting env variable PYTHONWARNINGS=\"ignore::DeprecationWarning\"\n",
      "`UnifiedLogger` will be removed in Ray 2.7.\n",
      "  return UnifiedLogger(config, logdir, loggers=None)\n",
      "c:\\Users\\josep\\Documents\\Coup-RL\\env\\lib\\site-packages\\ray\\tune\\logger\\unified.py:53: RayDeprecationWarning: This API is deprecated and may be removed in future Ray releases. You could suppress this warning by setting env variable PYTHONWARNINGS=\"ignore::DeprecationWarning\"\n",
      "The `JsonLogger interface is deprecated in favor of the `ray.tune.json.JsonLoggerCallback` interface and will be removed in Ray 2.7.\n",
      "  self._loggers.append(cls(self.config, self.logdir, self.trial))\n",
      "c:\\Users\\josep\\Documents\\Coup-RL\\env\\lib\\site-packages\\ray\\tune\\logger\\unified.py:53: RayDeprecationWarning: This API is deprecated and may be removed in future Ray releases. You could suppress this warning by setting env variable PYTHONWARNINGS=\"ignore::DeprecationWarning\"\n",
      "The `CSVLogger interface is deprecated in favor of the `ray.tune.csv.CSVLoggerCallback` interface and will be removed in Ray 2.7.\n",
      "  self._loggers.append(cls(self.config, self.logdir, self.trial))\n",
      "c:\\Users\\josep\\Documents\\Coup-RL\\env\\lib\\site-packages\\ray\\tune\\logger\\unified.py:53: RayDeprecationWarning: This API is deprecated and may be removed in future Ray releases. You could suppress this warning by setting env variable PYTHONWARNINGS=\"ignore::DeprecationWarning\"\n",
      "The `TBXLogger interface is deprecated in favor of the `ray.tune.tensorboardx.TBXLoggerCallback` interface and will be removed in Ray 2.7.\n",
      "  self._loggers.append(cls(self.config, self.logdir, self.trial))\n",
      ":actor_name:RolloutWorker\n",
      ":actor_name:RolloutWorker\n",
      ":actor_name:RolloutWorker\n",
      ":actor_name:RolloutWorker\n",
      "2024-04-22 19:22:48,573\tWARNING util.py:62 -- Install gputil for GPU system monitoring.\n"
     ]
    },
    {
     "name": "stdout",
     "output_type": "stream",
     "text": [
      ":actor_name:RolloutWorker\n"
     ]
    },
    {
     "name": "stderr",
     "output_type": "stream",
     "text": [
      "c:\\Users\\josep\\Documents\\Coup-RL\\env\\lib\\site-packages\\ray\\rllib\\algorithms\\algorithm.py:500: RayDeprecationWarning: This API is deprecated and may be removed in future Ray releases. You could suppress this warning by setting env variable PYTHONWARNINGS=\"ignore::DeprecationWarning\"\n",
      "`UnifiedLogger` will be removed in Ray 2.7.\n",
      "  return UnifiedLogger(config, logdir, loggers=None)\n",
      "c:\\Users\\josep\\Documents\\Coup-RL\\env\\lib\\site-packages\\ray\\tune\\logger\\unified.py:53: RayDeprecationWarning: This API is deprecated and may be removed in future Ray releases. You could suppress this warning by setting env variable PYTHONWARNINGS=\"ignore::DeprecationWarning\"\n",
      "The `JsonLogger interface is deprecated in favor of the `ray.tune.json.JsonLoggerCallback` interface and will be removed in Ray 2.7.\n",
      "  self._loggers.append(cls(self.config, self.logdir, self.trial))\n",
      "c:\\Users\\josep\\Documents\\Coup-RL\\env\\lib\\site-packages\\ray\\tune\\logger\\unified.py:53: RayDeprecationWarning: This API is deprecated and may be removed in future Ray releases. You could suppress this warning by setting env variable PYTHONWARNINGS=\"ignore::DeprecationWarning\"\n",
      "The `CSVLogger interface is deprecated in favor of the `ray.tune.csv.CSVLoggerCallback` interface and will be removed in Ray 2.7.\n",
      "  self._loggers.append(cls(self.config, self.logdir, self.trial))\n",
      "c:\\Users\\josep\\Documents\\Coup-RL\\env\\lib\\site-packages\\ray\\tune\\logger\\unified.py:53: RayDeprecationWarning: This API is deprecated and may be removed in future Ray releases. You could suppress this warning by setting env variable PYTHONWARNINGS=\"ignore::DeprecationWarning\"\n",
      "The `TBXLogger interface is deprecated in favor of the `ray.tune.tensorboardx.TBXLoggerCallback` interface and will be removed in Ray 2.7.\n",
      "  self._loggers.append(cls(self.config, self.logdir, self.trial))\n",
      ":actor_name:RolloutWorker\n",
      ":actor_name:RolloutWorker\n",
      ":actor_name:RolloutWorker\n"
     ]
    },
    {
     "name": "stdout",
     "output_type": "stream",
     "text": [
      ":actor_name:RolloutWorker\n",
      ":actor_name:RolloutWorker\n",
      ":actor_name:RolloutWorker\n",
      ":actor_name:RolloutWorker\n"
     ]
    },
    {
     "name": "stderr",
     "output_type": "stream",
     "text": [
      ":actor_name:RolloutWorker\n",
      "2024-04-22 19:22:48,985\tWARNING util.py:62 -- Install gputil for GPU system monitoring.\n"
     ]
    },
    {
     "name": "stdout",
     "output_type": "stream",
     "text": [
      "Game number:  0\n",
      "Game number:  1\n",
      "Game number:  2\n",
      "Game number:  3\n",
      "Game number:  4\n",
      "Game number:  5\n",
      "Game number:  6\n",
      "Game number:  7\n",
      "Game number:  8\n",
      "Game number:  9\n",
      "Game number:  10\n",
      "Game number:  11\n",
      "Game number:  12\n",
      "Game number:  13\n",
      "Game number:  14\n",
      "Game number:  15\n",
      "Game number:  16\n",
      "Game number:  17\n",
      "Game number:  18\n",
      "Game number:  19\n",
      "Game number:  20\n",
      "Game number:  21\n",
      "Game number:  22\n",
      "Game number:  23\n",
      "Game number:  24\n",
      "Game number:  25\n",
      "Game number:  26\n",
      "Game number:  27\n",
      "Game number:  28\n",
      "Game number:  29\n",
      "Game number:  30\n",
      "Game number:  31\n",
      "Game number:  32\n",
      "Game number:  33\n",
      "Game number:  34\n",
      "Game number:  35\n",
      "Game number:  36\n",
      "Game number:  37\n",
      "Game number:  38\n",
      "Game number:  39\n",
      "Game number:  40\n",
      "Game number:  41\n",
      "Game number:  42\n",
      "Game number:  43\n",
      "Game number:  44\n",
      "Game number:  45\n",
      "Game number:  46\n",
      "Game number:  47\n",
      "Game number:  48\n",
      "Game number:  49\n",
      "Game number:  50\n",
      "Game number:  51\n",
      "Game number:  52\n",
      "Game number:  53\n",
      "Game number:  54\n",
      "Game number:  55\n",
      "Game number:  56\n",
      "Game number:  57\n",
      "Game number:  58\n",
      "Game number:  59\n",
      "Game number:  60\n",
      "Game number:  61\n",
      "Game number:  62\n",
      "Game number:  63\n",
      "Game number:  64\n",
      "Game number:  65\n",
      "Game number:  66\n",
      "Game number:  67\n",
      "Game number:  68\n",
      "Game number:  69\n",
      "Game number:  70\n",
      "Game number:  71\n",
      "Game number:  72\n",
      "Game number:  73\n",
      "Game number:  74\n",
      "Game number:  75\n",
      "Game number:  76\n",
      "Game number:  77\n",
      "Game number:  78\n",
      "Game number:  79\n",
      "Game number:  80\n",
      "Game number:  81\n",
      "Game number:  82\n",
      "Game number:  83\n",
      "Game number:  84\n",
      "Game number:  85\n",
      "Game number:  86\n",
      "Game number:  87\n",
      "Game number:  88\n",
      "Game number:  89\n",
      "Game number:  90\n",
      "Game number:  91\n",
      "Game number:  92\n",
      "Game number:  93\n",
      "Game number:  94\n",
      "Game number:  95\n",
      "Game number:  96\n",
      "Game number:  97\n",
      "Game number:  98\n",
      "Game number:  99\n",
      "Scores:  {'player_1': 53, 'player_2': 47}\n",
      "Total rewards:  {'player_1': 6, 'player_2': -6}\n",
      "Model 1 c:\\Users\\josep\\Documents\\Coup-RL\\Coup\\coup\\ray_results\\PPO_decentralised\\PPO_Coup_1bd85_00000_0_clip_param-0.1000-gamma-0.9000-train_batch_size-10000_2024-04-21_20-26-53\n",
      "Model 2 c:\\Users\\josep\\Documents\\Coup-RL\\Coup\\coup\\ray_results\\PPO_decentralised\\PPO_Coup_1bd85_00004_4_clip_param-0.2000-gamma-0.9500-train_batch_size-10000_2024-04-21_22-20-05\n",
      ":actor_name:RolloutWorker\n",
      ":actor_name:RolloutWorker\n",
      ":actor_name:RolloutWorker\n"
     ]
    },
    {
     "name": "stderr",
     "output_type": "stream",
     "text": [
      "c:\\Users\\josep\\Documents\\Coup-RL\\env\\lib\\site-packages\\ray\\rllib\\algorithms\\algorithm.py:500: RayDeprecationWarning: This API is deprecated and may be removed in future Ray releases. You could suppress this warning by setting env variable PYTHONWARNINGS=\"ignore::DeprecationWarning\"\n",
      "`UnifiedLogger` will be removed in Ray 2.7.\n",
      "  return UnifiedLogger(config, logdir, loggers=None)\n",
      "c:\\Users\\josep\\Documents\\Coup-RL\\env\\lib\\site-packages\\ray\\tune\\logger\\unified.py:53: RayDeprecationWarning: This API is deprecated and may be removed in future Ray releases. You could suppress this warning by setting env variable PYTHONWARNINGS=\"ignore::DeprecationWarning\"\n",
      "The `JsonLogger interface is deprecated in favor of the `ray.tune.json.JsonLoggerCallback` interface and will be removed in Ray 2.7.\n",
      "  self._loggers.append(cls(self.config, self.logdir, self.trial))\n",
      "c:\\Users\\josep\\Documents\\Coup-RL\\env\\lib\\site-packages\\ray\\tune\\logger\\unified.py:53: RayDeprecationWarning: This API is deprecated and may be removed in future Ray releases. You could suppress this warning by setting env variable PYTHONWARNINGS=\"ignore::DeprecationWarning\"\n",
      "The `CSVLogger interface is deprecated in favor of the `ray.tune.csv.CSVLoggerCallback` interface and will be removed in Ray 2.7.\n",
      "  self._loggers.append(cls(self.config, self.logdir, self.trial))\n",
      "c:\\Users\\josep\\Documents\\Coup-RL\\env\\lib\\site-packages\\ray\\tune\\logger\\unified.py:53: RayDeprecationWarning: This API is deprecated and may be removed in future Ray releases. You could suppress this warning by setting env variable PYTHONWARNINGS=\"ignore::DeprecationWarning\"\n",
      "The `TBXLogger interface is deprecated in favor of the `ray.tune.tensorboardx.TBXLoggerCallback` interface and will be removed in Ray 2.7.\n",
      "  self._loggers.append(cls(self.config, self.logdir, self.trial))\n",
      ":actor_name:RolloutWorker\n",
      ":actor_name:RolloutWorker\n",
      ":actor_name:RolloutWorker\n",
      ":actor_name:RolloutWorker\n",
      "2024-04-22 19:22:54,577\tWARNING util.py:62 -- Install gputil for GPU system monitoring.\n"
     ]
    },
    {
     "name": "stdout",
     "output_type": "stream",
     "text": [
      ":actor_name:RolloutWorker\n"
     ]
    },
    {
     "name": "stderr",
     "output_type": "stream",
     "text": [
      "c:\\Users\\josep\\Documents\\Coup-RL\\env\\lib\\site-packages\\ray\\rllib\\algorithms\\algorithm.py:500: RayDeprecationWarning: This API is deprecated and may be removed in future Ray releases. You could suppress this warning by setting env variable PYTHONWARNINGS=\"ignore::DeprecationWarning\"\n",
      "`UnifiedLogger` will be removed in Ray 2.7.\n",
      "  return UnifiedLogger(config, logdir, loggers=None)\n",
      "c:\\Users\\josep\\Documents\\Coup-RL\\env\\lib\\site-packages\\ray\\tune\\logger\\unified.py:53: RayDeprecationWarning: This API is deprecated and may be removed in future Ray releases. You could suppress this warning by setting env variable PYTHONWARNINGS=\"ignore::DeprecationWarning\"\n",
      "The `JsonLogger interface is deprecated in favor of the `ray.tune.json.JsonLoggerCallback` interface and will be removed in Ray 2.7.\n",
      "  self._loggers.append(cls(self.config, self.logdir, self.trial))\n",
      "c:\\Users\\josep\\Documents\\Coup-RL\\env\\lib\\site-packages\\ray\\tune\\logger\\unified.py:53: RayDeprecationWarning: This API is deprecated and may be removed in future Ray releases. You could suppress this warning by setting env variable PYTHONWARNINGS=\"ignore::DeprecationWarning\"\n",
      "The `CSVLogger interface is deprecated in favor of the `ray.tune.csv.CSVLoggerCallback` interface and will be removed in Ray 2.7.\n",
      "  self._loggers.append(cls(self.config, self.logdir, self.trial))\n",
      "c:\\Users\\josep\\Documents\\Coup-RL\\env\\lib\\site-packages\\ray\\tune\\logger\\unified.py:53: RayDeprecationWarning: This API is deprecated and may be removed in future Ray releases. You could suppress this warning by setting env variable PYTHONWARNINGS=\"ignore::DeprecationWarning\"\n",
      "The `TBXLogger interface is deprecated in favor of the `ray.tune.tensorboardx.TBXLoggerCallback` interface and will be removed in Ray 2.7.\n",
      "  self._loggers.append(cls(self.config, self.logdir, self.trial))\n",
      ":actor_name:RolloutWorker\n",
      ":actor_name:RolloutWorker\n",
      ":actor_name:RolloutWorker\n"
     ]
    },
    {
     "name": "stdout",
     "output_type": "stream",
     "text": [
      ":actor_name:RolloutWorker\n",
      ":actor_name:RolloutWorker\n",
      ":actor_name:RolloutWorker\n",
      ":actor_name:RolloutWorker\n"
     ]
    },
    {
     "name": "stderr",
     "output_type": "stream",
     "text": [
      ":actor_name:RolloutWorker\n",
      "2024-04-22 19:22:55,058\tWARNING util.py:62 -- Install gputil for GPU system monitoring.\n"
     ]
    },
    {
     "name": "stdout",
     "output_type": "stream",
     "text": [
      "Game number:  0\n",
      "Game number:  1\n",
      "Game number:  2\n",
      "Game number:  3\n",
      "Game number:  4\n",
      "Game number:  5\n",
      "Game number:  6\n",
      "Game number:  7\n",
      "Game number:  8\n",
      "Game number:  9\n",
      "Game number:  10\n",
      "Game number:  11\n",
      "Game number:  12\n",
      "Game number:  13\n",
      "Game number:  14\n",
      "Game number:  15\n",
      "Game number:  16\n",
      "Game number:  17\n",
      "Game number:  18\n",
      "Game number:  19\n",
      "Game number:  20\n",
      "Game number:  21\n",
      "Game number:  22\n",
      "Game number:  23\n",
      "Game number:  24\n",
      "Game number:  25\n",
      "Game number:  26\n",
      "Game number:  27\n",
      "Game number:  28\n",
      "Game number:  29\n",
      "Game number:  30\n",
      "Game number:  31\n",
      "Game number:  32\n",
      "Game number:  33\n",
      "Game number:  34\n",
      "Game number:  35\n",
      "Game number:  36\n",
      "Game number:  37\n",
      "Game number:  38\n",
      "Game number:  39\n",
      "Game number:  40\n",
      "Game number:  41\n",
      "Game number:  42\n",
      "Game number:  43\n",
      "Game number:  44\n",
      "Game number:  45\n",
      "Game number:  46\n",
      "Game number:  47\n",
      "Game number:  48\n",
      "Game number:  49\n",
      "Game number:  50\n",
      "Game number:  51\n",
      "Game number:  52\n",
      "Game number:  53\n",
      "Game number:  54\n",
      "Game number:  55\n",
      "Game number:  56\n",
      "Game number:  57\n",
      "Game number:  58\n",
      "Game number:  59\n",
      "Game number:  60\n",
      "Game number:  61\n",
      "Game number:  62\n",
      "Game number:  63\n",
      "Game number:  64\n",
      "Game number:  65\n",
      "Game number:  66\n",
      "Game number:  67\n",
      "Game number:  68\n",
      "Game number:  69\n",
      "Game number:  70\n",
      "Game number:  71\n",
      "Game number:  72\n",
      "Game number:  73\n",
      "Game number:  74\n",
      "Game number:  75\n",
      "Game number:  76\n",
      "Game number:  77\n",
      "Game number:  78\n",
      "Game number:  79\n",
      "Game number:  80\n",
      "Game number:  81\n",
      "Game number:  82\n",
      "Game number:  83\n",
      "Game number:  84\n",
      "Game number:  85\n",
      "Game number:  86\n",
      "Game number:  87\n",
      "Game number:  88\n",
      "Game number:  89\n",
      "Game number:  90\n",
      "Game number:  91\n",
      "Game number:  92\n",
      "Game number:  93\n",
      "Game number:  94\n",
      "Game number:  95\n",
      "Game number:  96\n",
      "Game number:  97\n",
      "Game number:  98\n",
      "Game number:  99\n",
      "Scores:  {'player_1': 41, 'player_2': 59}\n",
      "Total rewards:  {'player_1': -27, 'player_2': 27}\n",
      "Model 1 c:\\Users\\josep\\Documents\\Coup-RL\\Coup\\coup\\ray_results\\PPO_decentralised\\PPO_Coup_1bd85_00000_0_clip_param-0.1000-gamma-0.9000-train_batch_size-10000_2024-04-21_20-26-53\n",
      "Model 2 c:\\Users\\josep\\Documents\\Coup-RL\\Coup\\coup\\ray_results\\PPO_decentralised\\PPO_Coup_1bd85_00005_5_clip_param-0.3000-gamma-0.9500-train_batch_size-10000_2024-04-21_22-44-47\n",
      ":actor_name:RolloutWorker\n",
      ":actor_name:RolloutWorker\n",
      ":actor_name:RolloutWorker\n"
     ]
    },
    {
     "name": "stderr",
     "output_type": "stream",
     "text": [
      "c:\\Users\\josep\\Documents\\Coup-RL\\env\\lib\\site-packages\\ray\\rllib\\algorithms\\algorithm.py:500: RayDeprecationWarning: This API is deprecated and may be removed in future Ray releases. You could suppress this warning by setting env variable PYTHONWARNINGS=\"ignore::DeprecationWarning\"\n",
      "`UnifiedLogger` will be removed in Ray 2.7.\n",
      "  return UnifiedLogger(config, logdir, loggers=None)\n",
      "c:\\Users\\josep\\Documents\\Coup-RL\\env\\lib\\site-packages\\ray\\tune\\logger\\unified.py:53: RayDeprecationWarning: This API is deprecated and may be removed in future Ray releases. You could suppress this warning by setting env variable PYTHONWARNINGS=\"ignore::DeprecationWarning\"\n",
      "The `JsonLogger interface is deprecated in favor of the `ray.tune.json.JsonLoggerCallback` interface and will be removed in Ray 2.7.\n",
      "  self._loggers.append(cls(self.config, self.logdir, self.trial))\n",
      "c:\\Users\\josep\\Documents\\Coup-RL\\env\\lib\\site-packages\\ray\\tune\\logger\\unified.py:53: RayDeprecationWarning: This API is deprecated and may be removed in future Ray releases. You could suppress this warning by setting env variable PYTHONWARNINGS=\"ignore::DeprecationWarning\"\n",
      "The `CSVLogger interface is deprecated in favor of the `ray.tune.csv.CSVLoggerCallback` interface and will be removed in Ray 2.7.\n",
      "  self._loggers.append(cls(self.config, self.logdir, self.trial))\n",
      "c:\\Users\\josep\\Documents\\Coup-RL\\env\\lib\\site-packages\\ray\\tune\\logger\\unified.py:53: RayDeprecationWarning: This API is deprecated and may be removed in future Ray releases. You could suppress this warning by setting env variable PYTHONWARNINGS=\"ignore::DeprecationWarning\"\n",
      "The `TBXLogger interface is deprecated in favor of the `ray.tune.tensorboardx.TBXLoggerCallback` interface and will be removed in Ray 2.7.\n",
      "  self._loggers.append(cls(self.config, self.logdir, self.trial))\n",
      ":actor_name:RolloutWorker\n",
      ":actor_name:RolloutWorker\n",
      ":actor_name:RolloutWorker\n",
      ":actor_name:RolloutWorker\n",
      "2024-04-22 19:23:01,392\tWARNING util.py:62 -- Install gputil for GPU system monitoring.\n"
     ]
    },
    {
     "name": "stdout",
     "output_type": "stream",
     "text": [
      ":actor_name:RolloutWorker\n"
     ]
    },
    {
     "name": "stderr",
     "output_type": "stream",
     "text": [
      "c:\\Users\\josep\\Documents\\Coup-RL\\env\\lib\\site-packages\\ray\\rllib\\algorithms\\algorithm.py:500: RayDeprecationWarning: This API is deprecated and may be removed in future Ray releases. You could suppress this warning by setting env variable PYTHONWARNINGS=\"ignore::DeprecationWarning\"\n",
      "`UnifiedLogger` will be removed in Ray 2.7.\n",
      "  return UnifiedLogger(config, logdir, loggers=None)\n",
      "c:\\Users\\josep\\Documents\\Coup-RL\\env\\lib\\site-packages\\ray\\tune\\logger\\unified.py:53: RayDeprecationWarning: This API is deprecated and may be removed in future Ray releases. You could suppress this warning by setting env variable PYTHONWARNINGS=\"ignore::DeprecationWarning\"\n",
      "The `JsonLogger interface is deprecated in favor of the `ray.tune.json.JsonLoggerCallback` interface and will be removed in Ray 2.7.\n",
      "  self._loggers.append(cls(self.config, self.logdir, self.trial))\n",
      "c:\\Users\\josep\\Documents\\Coup-RL\\env\\lib\\site-packages\\ray\\tune\\logger\\unified.py:53: RayDeprecationWarning: This API is deprecated and may be removed in future Ray releases. You could suppress this warning by setting env variable PYTHONWARNINGS=\"ignore::DeprecationWarning\"\n",
      "The `CSVLogger interface is deprecated in favor of the `ray.tune.csv.CSVLoggerCallback` interface and will be removed in Ray 2.7.\n",
      "  self._loggers.append(cls(self.config, self.logdir, self.trial))\n",
      "c:\\Users\\josep\\Documents\\Coup-RL\\env\\lib\\site-packages\\ray\\tune\\logger\\unified.py:53: RayDeprecationWarning: This API is deprecated and may be removed in future Ray releases. You could suppress this warning by setting env variable PYTHONWARNINGS=\"ignore::DeprecationWarning\"\n",
      "The `TBXLogger interface is deprecated in favor of the `ray.tune.tensorboardx.TBXLoggerCallback` interface and will be removed in Ray 2.7.\n",
      "  self._loggers.append(cls(self.config, self.logdir, self.trial))\n",
      ":actor_name:RolloutWorker\n",
      ":actor_name:RolloutWorker\n",
      ":actor_name:RolloutWorker\n"
     ]
    },
    {
     "name": "stdout",
     "output_type": "stream",
     "text": [
      ":actor_name:RolloutWorker\n",
      ":actor_name:RolloutWorker\n",
      ":actor_name:RolloutWorker\n",
      ":actor_name:RolloutWorker\n"
     ]
    },
    {
     "name": "stderr",
     "output_type": "stream",
     "text": [
      ":actor_name:RolloutWorker\n",
      "2024-04-22 19:23:01,841\tWARNING util.py:62 -- Install gputil for GPU system monitoring.\n"
     ]
    },
    {
     "name": "stdout",
     "output_type": "stream",
     "text": [
      "Game number:  0\n",
      "Game number:  1\n",
      "Game number:  2\n",
      "Game number:  3\n",
      "Game number:  4\n",
      "Game number:  5\n",
      "Game number:  6\n",
      "Game number:  7\n",
      "Game number:  8\n",
      "Game number:  9\n",
      "Game number:  10\n",
      "Game number:  11\n",
      "Game number:  12\n",
      "Game number:  13\n",
      "Game number:  14\n",
      "Game number:  15\n",
      "Game number:  16\n",
      "Game number:  17\n",
      "Game number:  18\n",
      "Game number:  19\n",
      "Game number:  20\n",
      "Game number:  21\n",
      "Game number:  22\n",
      "Game number:  23\n",
      "Game number:  24\n",
      "Game number:  25\n",
      "Game number:  26\n",
      "Game number:  27\n",
      "Game number:  28\n",
      "Game number:  29\n",
      "Game number:  30\n",
      "Game number:  31\n",
      "Game number:  32\n",
      "Game number:  33\n",
      "Game number:  34\n",
      "Game number:  35\n",
      "Game number:  36\n",
      "Game number:  37\n",
      "Game number:  38\n",
      "Game number:  39\n",
      "Game number:  40\n",
      "Game number:  41\n",
      "Game number:  42\n",
      "Game number:  43\n",
      "Game number:  44\n",
      "Game number:  45\n",
      "Game number:  46\n",
      "Game number:  47\n",
      "Game number:  48\n",
      "Game number:  49\n",
      "Game number:  50\n",
      "Game number:  51\n",
      "Game number:  52\n",
      "Game number:  53\n",
      "Game number:  54\n",
      "Game number:  55\n",
      "Game number:  56\n",
      "Game number:  57\n",
      "Game number:  58\n",
      "Game number:  59\n",
      "Game number:  60\n",
      "Game number:  61\n",
      "Game number:  62\n",
      "Game number:  63\n",
      "Game number:  64\n",
      "Game number:  65\n",
      "Game number:  66\n",
      "Game number:  67\n",
      "Game number:  68\n",
      "Game number:  69\n",
      "Game number:  70\n",
      "Game number:  71\n",
      "Game number:  72\n",
      "Game number:  73\n",
      "Game number:  74\n",
      "Game number:  75\n",
      "Game number:  76\n",
      "Game number:  77\n",
      "Game number:  78\n",
      "Game number:  79\n",
      "Game number:  80\n",
      "Game number:  81\n",
      "Game number:  82\n",
      "Game number:  83\n",
      "Game number:  84\n",
      "Game number:  85\n",
      "Game number:  86\n",
      "Game number:  87\n",
      "Game number:  88\n",
      "Game number:  89\n",
      "Game number:  90\n",
      "Game number:  91\n",
      "Game number:  92\n",
      "Game number:  93\n",
      "Game number:  94\n",
      "Game number:  95\n",
      "Game number:  96\n",
      "Game number:  97\n",
      "Game number:  98\n",
      "Game number:  99\n",
      "Scores:  {'player_1': 52, 'player_2': 48}\n",
      "Total rewards:  {'player_1': 4, 'player_2': -4}\n",
      "Model 1 c:\\Users\\josep\\Documents\\Coup-RL\\Coup\\coup\\ray_results\\PPO_decentralised\\PPO_Coup_1bd85_00000_0_clip_param-0.1000-gamma-0.9000-train_batch_size-10000_2024-04-21_20-26-53\n",
      "Model 2 c:\\Users\\josep\\Documents\\Coup-RL\\Coup\\coup\\ray_results\\PPO_decentralised\\PPO_Coup_1bd85_00006_6_clip_param-0.1000-gamma-0.9900-train_batch_size-10000_2024-04-21_23-10-35\n",
      ":actor_name:RolloutWorker\n",
      ":actor_name:RolloutWorker\n",
      ":actor_name:RolloutWorker\n"
     ]
    },
    {
     "name": "stderr",
     "output_type": "stream",
     "text": [
      "c:\\Users\\josep\\Documents\\Coup-RL\\env\\lib\\site-packages\\ray\\rllib\\algorithms\\algorithm.py:500: RayDeprecationWarning: This API is deprecated and may be removed in future Ray releases. You could suppress this warning by setting env variable PYTHONWARNINGS=\"ignore::DeprecationWarning\"\n",
      "`UnifiedLogger` will be removed in Ray 2.7.\n",
      "  return UnifiedLogger(config, logdir, loggers=None)\n",
      "c:\\Users\\josep\\Documents\\Coup-RL\\env\\lib\\site-packages\\ray\\tune\\logger\\unified.py:53: RayDeprecationWarning: This API is deprecated and may be removed in future Ray releases. You could suppress this warning by setting env variable PYTHONWARNINGS=\"ignore::DeprecationWarning\"\n",
      "The `JsonLogger interface is deprecated in favor of the `ray.tune.json.JsonLoggerCallback` interface and will be removed in Ray 2.7.\n",
      "  self._loggers.append(cls(self.config, self.logdir, self.trial))\n",
      "c:\\Users\\josep\\Documents\\Coup-RL\\env\\lib\\site-packages\\ray\\tune\\logger\\unified.py:53: RayDeprecationWarning: This API is deprecated and may be removed in future Ray releases. You could suppress this warning by setting env variable PYTHONWARNINGS=\"ignore::DeprecationWarning\"\n",
      "The `CSVLogger interface is deprecated in favor of the `ray.tune.csv.CSVLoggerCallback` interface and will be removed in Ray 2.7.\n",
      "  self._loggers.append(cls(self.config, self.logdir, self.trial))\n",
      "c:\\Users\\josep\\Documents\\Coup-RL\\env\\lib\\site-packages\\ray\\tune\\logger\\unified.py:53: RayDeprecationWarning: This API is deprecated and may be removed in future Ray releases. You could suppress this warning by setting env variable PYTHONWARNINGS=\"ignore::DeprecationWarning\"\n",
      "The `TBXLogger interface is deprecated in favor of the `ray.tune.tensorboardx.TBXLoggerCallback` interface and will be removed in Ray 2.7.\n",
      "  self._loggers.append(cls(self.config, self.logdir, self.trial))\n",
      ":actor_name:RolloutWorker\n",
      ":actor_name:RolloutWorker\n",
      ":actor_name:RolloutWorker\n",
      ":actor_name:RolloutWorker\n",
      "2024-04-22 19:23:07,811\tWARNING util.py:62 -- Install gputil for GPU system monitoring.\n"
     ]
    },
    {
     "name": "stdout",
     "output_type": "stream",
     "text": [
      ":actor_name:RolloutWorker\n"
     ]
    },
    {
     "name": "stderr",
     "output_type": "stream",
     "text": [
      "c:\\Users\\josep\\Documents\\Coup-RL\\env\\lib\\site-packages\\ray\\rllib\\algorithms\\algorithm.py:500: RayDeprecationWarning: This API is deprecated and may be removed in future Ray releases. You could suppress this warning by setting env variable PYTHONWARNINGS=\"ignore::DeprecationWarning\"\n",
      "`UnifiedLogger` will be removed in Ray 2.7.\n",
      "  return UnifiedLogger(config, logdir, loggers=None)\n",
      "c:\\Users\\josep\\Documents\\Coup-RL\\env\\lib\\site-packages\\ray\\tune\\logger\\unified.py:53: RayDeprecationWarning: This API is deprecated and may be removed in future Ray releases. You could suppress this warning by setting env variable PYTHONWARNINGS=\"ignore::DeprecationWarning\"\n",
      "The `JsonLogger interface is deprecated in favor of the `ray.tune.json.JsonLoggerCallback` interface and will be removed in Ray 2.7.\n",
      "  self._loggers.append(cls(self.config, self.logdir, self.trial))\n",
      "c:\\Users\\josep\\Documents\\Coup-RL\\env\\lib\\site-packages\\ray\\tune\\logger\\unified.py:53: RayDeprecationWarning: This API is deprecated and may be removed in future Ray releases. You could suppress this warning by setting env variable PYTHONWARNINGS=\"ignore::DeprecationWarning\"\n",
      "The `CSVLogger interface is deprecated in favor of the `ray.tune.csv.CSVLoggerCallback` interface and will be removed in Ray 2.7.\n",
      "  self._loggers.append(cls(self.config, self.logdir, self.trial))\n",
      "c:\\Users\\josep\\Documents\\Coup-RL\\env\\lib\\site-packages\\ray\\tune\\logger\\unified.py:53: RayDeprecationWarning: This API is deprecated and may be removed in future Ray releases. You could suppress this warning by setting env variable PYTHONWARNINGS=\"ignore::DeprecationWarning\"\n",
      "The `TBXLogger interface is deprecated in favor of the `ray.tune.tensorboardx.TBXLoggerCallback` interface and will be removed in Ray 2.7.\n",
      "  self._loggers.append(cls(self.config, self.logdir, self.trial))\n",
      ":actor_name:RolloutWorker\n",
      ":actor_name:RolloutWorker\n",
      ":actor_name:RolloutWorker\n"
     ]
    },
    {
     "name": "stdout",
     "output_type": "stream",
     "text": [
      ":actor_name:RolloutWorker\n",
      ":actor_name:RolloutWorker\n",
      ":actor_name:RolloutWorker\n"
     ]
    },
    {
     "name": "stderr",
     "output_type": "stream",
     "text": [
      ":actor_name:RolloutWorker\n",
      "2024-04-22 19:23:08,266\tWARNING util.py:62 -- Install gputil for GPU system monitoring.\n"
     ]
    },
    {
     "name": "stdout",
     "output_type": "stream",
     "text": [
      ":actor_name:RolloutWorker\n",
      "Game number:  0\n",
      "Game number:  1\n",
      "Game number:  2\n",
      "Game number:  3\n",
      "Game number:  4\n",
      "Game number:  5\n",
      "Game number:  6\n",
      "Game number:  7\n",
      "Game number:  8\n",
      "Game number:  9\n",
      "Game number:  10\n",
      "Game number:  11\n",
      "Game number:  12\n",
      "Game number:  13\n",
      "Game number:  14\n",
      "Game number:  15\n",
      "Game number:  16\n",
      "Game number:  17\n",
      "Game number:  18\n",
      "Game number:  19\n",
      "Game number:  20\n",
      "Game number:  21\n",
      "Game number:  22\n",
      "Game number:  23\n",
      "Game number:  24\n",
      "Game number:  25\n",
      "Game number:  26\n",
      "Game number:  27\n",
      "Game number:  28\n",
      "Game number:  29\n",
      "Game number:  30\n",
      "Game number:  31\n",
      "Game number:  32\n",
      "Game number:  33\n",
      "Game number:  34\n",
      "Game number:  35\n",
      "Game number:  36\n",
      "Game number:  37\n",
      "Game number:  38\n",
      "Game number:  39\n",
      "Game number:  40\n",
      "Game number:  41\n",
      "Game number:  42\n",
      "Game number:  43\n",
      "Game number:  44\n",
      "Game number:  45\n",
      "Game number:  46\n",
      "Game number:  47\n",
      "Game number:  48\n",
      "Game number:  49\n",
      "Game number:  50\n",
      "Game number:  51\n",
      "Game number:  52\n",
      "Game number:  53\n",
      "Game number:  54\n",
      "Game number:  55\n",
      "Game number:  56\n",
      "Game number:  57\n",
      "Game number:  58\n",
      "Game number:  59\n",
      "Game number:  60\n",
      "Game number:  61\n",
      "Game number:  62\n",
      "Game number:  63\n",
      "Game number:  64\n",
      "Game number:  65\n",
      "Game number:  66\n",
      "Game number:  67\n",
      "Game number:  68\n",
      "Game number:  69\n",
      "Game number:  70\n",
      "Game number:  71\n",
      "Game number:  72\n",
      "Game number:  73\n",
      "Game number:  74\n",
      "Game number:  75\n",
      "Game number:  76\n",
      "Game number:  77\n",
      "Game number:  78\n",
      "Game number:  79\n",
      "Game number:  80\n",
      "Game number:  81\n",
      "Game number:  82\n",
      "Game number:  83\n",
      "Game number:  84\n",
      "Game number:  85\n",
      "Game number:  86\n",
      "Game number:  87\n",
      "Game number:  88\n",
      "Game number:  89\n",
      "Game number:  90\n",
      "Game number:  91\n",
      "Game number:  92\n",
      "Game number:  93\n",
      "Game number:  94\n",
      "Game number:  95\n",
      "Game number:  96\n",
      "Game number:  97\n",
      "Game number:  98\n",
      "Game number:  99\n",
      "Scores:  {'player_1': 45, 'player_2': 55}\n",
      "Total rewards:  {'player_1': -10, 'player_2': 10}\n",
      "Model 1 c:\\Users\\josep\\Documents\\Coup-RL\\Coup\\coup\\ray_results\\PPO_decentralised\\PPO_Coup_1bd85_00000_0_clip_param-0.1000-gamma-0.9000-train_batch_size-10000_2024-04-21_20-26-53\n",
      "Model 2 c:\\Users\\josep\\Documents\\Coup-RL\\Coup\\coup\\ray_results\\PPO_decentralised\\PPO_Coup_1bd85_00007_7_clip_param-0.2000-gamma-0.9900-train_batch_size-10000_2024-04-21_23-37-22\n",
      ":actor_name:RolloutWorker\n",
      ":actor_name:RolloutWorker\n",
      ":actor_name:RolloutWorker\n"
     ]
    },
    {
     "name": "stderr",
     "output_type": "stream",
     "text": [
      "c:\\Users\\josep\\Documents\\Coup-RL\\env\\lib\\site-packages\\ray\\rllib\\algorithms\\algorithm.py:500: RayDeprecationWarning: This API is deprecated and may be removed in future Ray releases. You could suppress this warning by setting env variable PYTHONWARNINGS=\"ignore::DeprecationWarning\"\n",
      "`UnifiedLogger` will be removed in Ray 2.7.\n",
      "  return UnifiedLogger(config, logdir, loggers=None)\n",
      "c:\\Users\\josep\\Documents\\Coup-RL\\env\\lib\\site-packages\\ray\\tune\\logger\\unified.py:53: RayDeprecationWarning: This API is deprecated and may be removed in future Ray releases. You could suppress this warning by setting env variable PYTHONWARNINGS=\"ignore::DeprecationWarning\"\n",
      "The `JsonLogger interface is deprecated in favor of the `ray.tune.json.JsonLoggerCallback` interface and will be removed in Ray 2.7.\n",
      "  self._loggers.append(cls(self.config, self.logdir, self.trial))\n",
      "c:\\Users\\josep\\Documents\\Coup-RL\\env\\lib\\site-packages\\ray\\tune\\logger\\unified.py:53: RayDeprecationWarning: This API is deprecated and may be removed in future Ray releases. You could suppress this warning by setting env variable PYTHONWARNINGS=\"ignore::DeprecationWarning\"\n",
      "The `CSVLogger interface is deprecated in favor of the `ray.tune.csv.CSVLoggerCallback` interface and will be removed in Ray 2.7.\n",
      "  self._loggers.append(cls(self.config, self.logdir, self.trial))\n",
      "c:\\Users\\josep\\Documents\\Coup-RL\\env\\lib\\site-packages\\ray\\tune\\logger\\unified.py:53: RayDeprecationWarning: This API is deprecated and may be removed in future Ray releases. You could suppress this warning by setting env variable PYTHONWARNINGS=\"ignore::DeprecationWarning\"\n",
      "The `TBXLogger interface is deprecated in favor of the `ray.tune.tensorboardx.TBXLoggerCallback` interface and will be removed in Ray 2.7.\n",
      "  self._loggers.append(cls(self.config, self.logdir, self.trial))\n",
      ":actor_name:RolloutWorker\n",
      ":actor_name:RolloutWorker\n",
      ":actor_name:RolloutWorker\n",
      ":actor_name:RolloutWorker\n",
      "2024-04-22 19:23:13,874\tWARNING util.py:62 -- Install gputil for GPU system monitoring.\n"
     ]
    },
    {
     "name": "stdout",
     "output_type": "stream",
     "text": [
      ":actor_name:RolloutWorker\n"
     ]
    },
    {
     "name": "stderr",
     "output_type": "stream",
     "text": [
      "c:\\Users\\josep\\Documents\\Coup-RL\\env\\lib\\site-packages\\ray\\rllib\\algorithms\\algorithm.py:500: RayDeprecationWarning: This API is deprecated and may be removed in future Ray releases. You could suppress this warning by setting env variable PYTHONWARNINGS=\"ignore::DeprecationWarning\"\n",
      "`UnifiedLogger` will be removed in Ray 2.7.\n",
      "  return UnifiedLogger(config, logdir, loggers=None)\n",
      "c:\\Users\\josep\\Documents\\Coup-RL\\env\\lib\\site-packages\\ray\\tune\\logger\\unified.py:53: RayDeprecationWarning: This API is deprecated and may be removed in future Ray releases. You could suppress this warning by setting env variable PYTHONWARNINGS=\"ignore::DeprecationWarning\"\n",
      "The `JsonLogger interface is deprecated in favor of the `ray.tune.json.JsonLoggerCallback` interface and will be removed in Ray 2.7.\n",
      "  self._loggers.append(cls(self.config, self.logdir, self.trial))\n",
      "c:\\Users\\josep\\Documents\\Coup-RL\\env\\lib\\site-packages\\ray\\tune\\logger\\unified.py:53: RayDeprecationWarning: This API is deprecated and may be removed in future Ray releases. You could suppress this warning by setting env variable PYTHONWARNINGS=\"ignore::DeprecationWarning\"\n",
      "The `CSVLogger interface is deprecated in favor of the `ray.tune.csv.CSVLoggerCallback` interface and will be removed in Ray 2.7.\n",
      "  self._loggers.append(cls(self.config, self.logdir, self.trial))\n",
      "c:\\Users\\josep\\Documents\\Coup-RL\\env\\lib\\site-packages\\ray\\tune\\logger\\unified.py:53: RayDeprecationWarning: This API is deprecated and may be removed in future Ray releases. You could suppress this warning by setting env variable PYTHONWARNINGS=\"ignore::DeprecationWarning\"\n",
      "The `TBXLogger interface is deprecated in favor of the `ray.tune.tensorboardx.TBXLoggerCallback` interface and will be removed in Ray 2.7.\n",
      "  self._loggers.append(cls(self.config, self.logdir, self.trial))\n",
      ":actor_name:RolloutWorker\n",
      ":actor_name:RolloutWorker\n",
      ":actor_name:RolloutWorker\n"
     ]
    },
    {
     "name": "stdout",
     "output_type": "stream",
     "text": [
      ":actor_name:RolloutWorker\n",
      ":actor_name:RolloutWorker\n",
      ":actor_name:RolloutWorker\n"
     ]
    },
    {
     "name": "stderr",
     "output_type": "stream",
     "text": [
      ":actor_name:RolloutWorker\n",
      "2024-04-22 19:23:14,351\tWARNING util.py:62 -- Install gputil for GPU system monitoring.\n"
     ]
    },
    {
     "name": "stdout",
     "output_type": "stream",
     "text": [
      ":actor_name:RolloutWorker\n",
      "Game number:  0\n",
      "Game number:  1\n",
      "Game number:  2\n",
      "Game number:  3\n",
      "Game number:  4\n",
      "Game number:  5\n",
      "Game number:  6\n",
      "Game number:  7\n",
      "Game number:  8\n",
      "Game number:  9\n",
      "Game number:  10\n",
      "Game number:  11\n",
      "Game number:  12\n",
      "Game number:  13\n",
      "Game number:  14\n",
      "Game number:  15\n",
      "Game number:  16\n",
      "Game number:  17\n",
      "Game number:  18\n",
      "Game number:  19\n",
      "Game number:  20\n",
      "Game number:  21\n",
      "Game number:  22\n",
      "Game number:  23\n",
      "Game number:  24\n",
      "Game number:  25\n",
      "Game number:  26\n",
      "Game number:  27\n",
      "Game number:  28\n",
      "Game number:  29\n",
      "Game number:  30\n",
      "Game number:  31\n",
      "Game number:  32\n",
      "Game number:  33\n",
      "Game number:  34\n",
      "Game number:  35\n",
      "Game number:  36\n",
      "Game number:  37\n",
      "Game number:  38\n",
      "Game number:  39\n",
      "Game number:  40\n",
      "Game number:  41\n",
      "Game number:  42\n",
      "Game number:  43\n",
      "Game number:  44\n",
      "Game number:  45\n",
      "Game number:  46\n",
      "Game number:  47\n",
      "Game number:  48\n",
      "Game number:  49\n",
      "Game number:  50\n",
      "Game number:  51\n",
      "Game number:  52\n",
      "Game number:  53\n",
      "Game number:  54\n",
      "Game number:  55\n",
      "Game number:  56\n",
      "Game number:  57\n",
      "Game number:  58\n",
      "Game number:  59\n",
      "Game number:  60\n",
      "Game number:  61\n",
      "Game number:  62\n",
      "Game number:  63\n",
      "Game number:  64\n",
      "Game number:  65\n",
      "Game number:  66\n",
      "Game number:  67\n",
      "Game number:  68\n",
      "Game number:  69\n",
      "Game number:  70\n",
      "Game number:  71\n",
      "Game number:  72\n",
      "Game number:  73\n",
      "Game number:  74\n",
      "Game number:  75\n",
      "Game number:  76\n",
      "Game number:  77\n",
      "Game number:  78\n",
      "Game number:  79\n",
      "Game number:  80\n",
      "Game number:  81\n",
      "Game number:  82\n",
      "Game number:  83\n",
      "Game number:  84\n",
      "Game number:  85\n",
      "Game number:  86\n",
      "Game number:  87\n",
      "Game number:  88\n",
      "Game number:  89\n",
      "Game number:  90\n",
      "Game number:  91\n",
      "Game number:  92\n",
      "Game number:  93\n",
      "Game number:  94\n",
      "Game number:  95\n",
      "Game number:  96\n",
      "Game number:  97\n",
      "Game number:  98\n",
      "Game number:  99\n",
      "Scores:  {'player_1': 48, 'player_2': 52}\n",
      "Total rewards:  {'player_1': -12, 'player_2': 12}\n",
      "Model 1 c:\\Users\\josep\\Documents\\Coup-RL\\Coup\\coup\\ray_results\\PPO_decentralised\\PPO_Coup_1bd85_00000_0_clip_param-0.1000-gamma-0.9000-train_batch_size-10000_2024-04-21_20-26-53\n",
      "Model 2 c:\\Users\\josep\\Documents\\Coup-RL\\Coup\\coup\\ray_results\\PPO_decentralised\\PPO_Coup_1bd85_00008_8_clip_param-0.3000-gamma-0.9900-train_batch_size-10000_2024-04-22_00-04-34\n",
      ":actor_name:RolloutWorker\n",
      ":actor_name:RolloutWorker\n",
      ":actor_name:RolloutWorker\n"
     ]
    },
    {
     "name": "stderr",
     "output_type": "stream",
     "text": [
      "c:\\Users\\josep\\Documents\\Coup-RL\\env\\lib\\site-packages\\ray\\rllib\\algorithms\\algorithm.py:500: RayDeprecationWarning: This API is deprecated and may be removed in future Ray releases. You could suppress this warning by setting env variable PYTHONWARNINGS=\"ignore::DeprecationWarning\"\n",
      "`UnifiedLogger` will be removed in Ray 2.7.\n",
      "  return UnifiedLogger(config, logdir, loggers=None)\n",
      "c:\\Users\\josep\\Documents\\Coup-RL\\env\\lib\\site-packages\\ray\\tune\\logger\\unified.py:53: RayDeprecationWarning: This API is deprecated and may be removed in future Ray releases. You could suppress this warning by setting env variable PYTHONWARNINGS=\"ignore::DeprecationWarning\"\n",
      "The `JsonLogger interface is deprecated in favor of the `ray.tune.json.JsonLoggerCallback` interface and will be removed in Ray 2.7.\n",
      "  self._loggers.append(cls(self.config, self.logdir, self.trial))\n",
      "c:\\Users\\josep\\Documents\\Coup-RL\\env\\lib\\site-packages\\ray\\tune\\logger\\unified.py:53: RayDeprecationWarning: This API is deprecated and may be removed in future Ray releases. You could suppress this warning by setting env variable PYTHONWARNINGS=\"ignore::DeprecationWarning\"\n",
      "The `CSVLogger interface is deprecated in favor of the `ray.tune.csv.CSVLoggerCallback` interface and will be removed in Ray 2.7.\n",
      "  self._loggers.append(cls(self.config, self.logdir, self.trial))\n",
      "c:\\Users\\josep\\Documents\\Coup-RL\\env\\lib\\site-packages\\ray\\tune\\logger\\unified.py:53: RayDeprecationWarning: This API is deprecated and may be removed in future Ray releases. You could suppress this warning by setting env variable PYTHONWARNINGS=\"ignore::DeprecationWarning\"\n",
      "The `TBXLogger interface is deprecated in favor of the `ray.tune.tensorboardx.TBXLoggerCallback` interface and will be removed in Ray 2.7.\n",
      "  self._loggers.append(cls(self.config, self.logdir, self.trial))\n",
      ":actor_name:RolloutWorker\n",
      ":actor_name:RolloutWorker\n",
      ":actor_name:RolloutWorker\n",
      ":actor_name:RolloutWorker\n",
      "2024-04-22 19:23:20,234\tWARNING util.py:62 -- Install gputil for GPU system monitoring.\n"
     ]
    },
    {
     "name": "stdout",
     "output_type": "stream",
     "text": [
      ":actor_name:RolloutWorker\n"
     ]
    },
    {
     "name": "stderr",
     "output_type": "stream",
     "text": [
      "c:\\Users\\josep\\Documents\\Coup-RL\\env\\lib\\site-packages\\ray\\rllib\\algorithms\\algorithm.py:500: RayDeprecationWarning: This API is deprecated and may be removed in future Ray releases. You could suppress this warning by setting env variable PYTHONWARNINGS=\"ignore::DeprecationWarning\"\n",
      "`UnifiedLogger` will be removed in Ray 2.7.\n",
      "  return UnifiedLogger(config, logdir, loggers=None)\n",
      "c:\\Users\\josep\\Documents\\Coup-RL\\env\\lib\\site-packages\\ray\\tune\\logger\\unified.py:53: RayDeprecationWarning: This API is deprecated and may be removed in future Ray releases. You could suppress this warning by setting env variable PYTHONWARNINGS=\"ignore::DeprecationWarning\"\n",
      "The `JsonLogger interface is deprecated in favor of the `ray.tune.json.JsonLoggerCallback` interface and will be removed in Ray 2.7.\n",
      "  self._loggers.append(cls(self.config, self.logdir, self.trial))\n",
      "c:\\Users\\josep\\Documents\\Coup-RL\\env\\lib\\site-packages\\ray\\tune\\logger\\unified.py:53: RayDeprecationWarning: This API is deprecated and may be removed in future Ray releases. You could suppress this warning by setting env variable PYTHONWARNINGS=\"ignore::DeprecationWarning\"\n",
      "The `CSVLogger interface is deprecated in favor of the `ray.tune.csv.CSVLoggerCallback` interface and will be removed in Ray 2.7.\n",
      "  self._loggers.append(cls(self.config, self.logdir, self.trial))\n",
      "c:\\Users\\josep\\Documents\\Coup-RL\\env\\lib\\site-packages\\ray\\tune\\logger\\unified.py:53: RayDeprecationWarning: This API is deprecated and may be removed in future Ray releases. You could suppress this warning by setting env variable PYTHONWARNINGS=\"ignore::DeprecationWarning\"\n",
      "The `TBXLogger interface is deprecated in favor of the `ray.tune.tensorboardx.TBXLoggerCallback` interface and will be removed in Ray 2.7.\n",
      "  self._loggers.append(cls(self.config, self.logdir, self.trial))\n",
      ":actor_name:RolloutWorker\n",
      ":actor_name:RolloutWorker\n"
     ]
    },
    {
     "name": "stdout",
     "output_type": "stream",
     "text": [
      ":actor_name:RolloutWorker\n",
      ":actor_name:RolloutWorker\n",
      ":actor_name:RolloutWorker\n"
     ]
    },
    {
     "name": "stderr",
     "output_type": "stream",
     "text": [
      ":actor_name:RolloutWorker\n",
      ":actor_name:RolloutWorker\n",
      "2024-04-22 19:23:21,111\tWARNING util.py:62 -- Install gputil for GPU system monitoring.\n"
     ]
    },
    {
     "name": "stdout",
     "output_type": "stream",
     "text": [
      ":actor_name:RolloutWorker\n",
      "Game number:  0\n",
      "Game number:  1\n",
      "Game number:  2\n",
      "Game number:  3\n",
      "Game number:  4\n",
      "Game number:  5\n",
      "Game number:  6\n",
      "Game number:  7\n",
      "Game number:  8\n",
      "Game number:  9\n",
      "Game number:  10\n",
      "Game number:  11\n",
      "Game number:  12\n",
      "Game number:  13\n",
      "Game number:  14\n",
      "Game number:  15\n",
      "Game number:  16\n",
      "Game number:  17\n",
      "Game number:  18\n",
      "Game number:  19\n",
      "Game number:  20\n",
      "Game number:  21\n",
      "Game number:  22\n",
      "Game number:  23\n",
      "Game number:  24\n",
      "Game number:  25\n",
      "Game number:  26\n",
      "Game number:  27\n",
      "Game number:  28\n",
      "Game number:  29\n",
      "Game number:  30\n",
      "Game number:  31\n",
      "Game number:  32\n",
      "Game number:  33\n",
      "Game number:  34\n",
      "Game number:  35\n",
      "Game number:  36\n",
      "Game number:  37\n",
      "Game number:  38\n",
      "Game number:  39\n",
      "Game number:  40\n",
      "Game number:  41\n",
      "Game number:  42\n",
      "Game number:  43\n",
      "Game number:  44\n",
      "Game number:  45\n",
      "Game number:  46\n",
      "Game number:  47\n",
      "Game number:  48\n",
      "Game number:  49\n",
      "Game number:  50\n",
      "Game number:  51\n",
      "Game number:  52\n",
      "Game number:  53\n",
      "Game number:  54\n",
      "Game number:  55\n",
      "Game number:  56\n",
      "Game number:  57\n",
      "Game number:  58\n",
      "Game number:  59\n",
      "Game number:  60\n",
      "Game number:  61\n",
      "Game number:  62\n",
      "Game number:  63\n",
      "Game number:  64\n",
      "Game number:  65\n",
      "Game number:  66\n",
      "Game number:  67\n",
      "Game number:  68\n",
      "Game number:  69\n",
      "Game number:  70\n",
      "Game number:  71\n",
      "Game number:  72\n",
      "Game number:  73\n",
      "Game number:  74\n",
      "Game number:  75\n",
      "Game number:  76\n",
      "Game number:  77\n",
      "Game number:  78\n",
      "Game number:  79\n",
      "Game number:  80\n",
      "Game number:  81\n",
      "Game number:  82\n",
      "Game number:  83\n",
      "Game number:  84\n",
      "Game number:  85\n",
      "Game number:  86\n",
      "Game number:  87\n",
      "Game number:  88\n",
      "Game number:  89\n",
      "Game number:  90\n",
      "Game number:  91\n",
      "Game number:  92\n",
      "Game number:  93\n",
      "Game number:  94\n",
      "Game number:  95\n",
      "Game number:  96\n",
      "Game number:  97\n",
      "Game number:  98\n",
      "Game number:  99\n",
      "Scores:  {'player_1': 49, 'player_2': 51}\n",
      "Total rewards:  {'player_1': 0, 'player_2': 0}\n",
      "Model 1 c:\\Users\\josep\\Documents\\Coup-RL\\Coup\\coup\\ray_results\\PPO_decentralised\\PPO_Coup_1bd85_00000_0_clip_param-0.1000-gamma-0.9000-train_batch_size-10000_2024-04-21_20-26-53\n",
      "Model 2 c:\\Users\\josep\\Documents\\Coup-RL\\Coup\\coup\\ray_results\\PPO_decentralised\\PPO_Coup_1bd85_00009_9_clip_param-0.1000-gamma-0.9000-train_batch_size-20000_2024-04-22_00-31-33\n",
      ":actor_name:RolloutWorker\n",
      ":actor_name:RolloutWorker\n",
      ":actor_name:RolloutWorker\n"
     ]
    },
    {
     "name": "stderr",
     "output_type": "stream",
     "text": [
      "c:\\Users\\josep\\Documents\\Coup-RL\\env\\lib\\site-packages\\ray\\rllib\\algorithms\\algorithm.py:500: RayDeprecationWarning: This API is deprecated and may be removed in future Ray releases. You could suppress this warning by setting env variable PYTHONWARNINGS=\"ignore::DeprecationWarning\"\n",
      "`UnifiedLogger` will be removed in Ray 2.7.\n",
      "  return UnifiedLogger(config, logdir, loggers=None)\n",
      "c:\\Users\\josep\\Documents\\Coup-RL\\env\\lib\\site-packages\\ray\\tune\\logger\\unified.py:53: RayDeprecationWarning: This API is deprecated and may be removed in future Ray releases. You could suppress this warning by setting env variable PYTHONWARNINGS=\"ignore::DeprecationWarning\"\n",
      "The `JsonLogger interface is deprecated in favor of the `ray.tune.json.JsonLoggerCallback` interface and will be removed in Ray 2.7.\n",
      "  self._loggers.append(cls(self.config, self.logdir, self.trial))\n",
      "c:\\Users\\josep\\Documents\\Coup-RL\\env\\lib\\site-packages\\ray\\tune\\logger\\unified.py:53: RayDeprecationWarning: This API is deprecated and may be removed in future Ray releases. You could suppress this warning by setting env variable PYTHONWARNINGS=\"ignore::DeprecationWarning\"\n",
      "The `CSVLogger interface is deprecated in favor of the `ray.tune.csv.CSVLoggerCallback` interface and will be removed in Ray 2.7.\n",
      "  self._loggers.append(cls(self.config, self.logdir, self.trial))\n",
      "c:\\Users\\josep\\Documents\\Coup-RL\\env\\lib\\site-packages\\ray\\tune\\logger\\unified.py:53: RayDeprecationWarning: This API is deprecated and may be removed in future Ray releases. You could suppress this warning by setting env variable PYTHONWARNINGS=\"ignore::DeprecationWarning\"\n",
      "The `TBXLogger interface is deprecated in favor of the `ray.tune.tensorboardx.TBXLoggerCallback` interface and will be removed in Ray 2.7.\n",
      "  self._loggers.append(cls(self.config, self.logdir, self.trial))\n",
      ":actor_name:RolloutWorker\n",
      ":actor_name:RolloutWorker\n",
      ":actor_name:RolloutWorker\n",
      ":actor_name:RolloutWorker\n",
      "2024-04-22 19:23:27,784\tWARNING util.py:62 -- Install gputil for GPU system monitoring.\n"
     ]
    },
    {
     "name": "stdout",
     "output_type": "stream",
     "text": [
      ":actor_name:RolloutWorker\n"
     ]
    },
    {
     "name": "stderr",
     "output_type": "stream",
     "text": [
      "c:\\Users\\josep\\Documents\\Coup-RL\\env\\lib\\site-packages\\ray\\rllib\\algorithms\\algorithm.py:500: RayDeprecationWarning: This API is deprecated and may be removed in future Ray releases. You could suppress this warning by setting env variable PYTHONWARNINGS=\"ignore::DeprecationWarning\"\n",
      "`UnifiedLogger` will be removed in Ray 2.7.\n",
      "  return UnifiedLogger(config, logdir, loggers=None)\n",
      "c:\\Users\\josep\\Documents\\Coup-RL\\env\\lib\\site-packages\\ray\\tune\\logger\\unified.py:53: RayDeprecationWarning: This API is deprecated and may be removed in future Ray releases. You could suppress this warning by setting env variable PYTHONWARNINGS=\"ignore::DeprecationWarning\"\n",
      "The `JsonLogger interface is deprecated in favor of the `ray.tune.json.JsonLoggerCallback` interface and will be removed in Ray 2.7.\n",
      "  self._loggers.append(cls(self.config, self.logdir, self.trial))\n",
      "c:\\Users\\josep\\Documents\\Coup-RL\\env\\lib\\site-packages\\ray\\tune\\logger\\unified.py:53: RayDeprecationWarning: This API is deprecated and may be removed in future Ray releases. You could suppress this warning by setting env variable PYTHONWARNINGS=\"ignore::DeprecationWarning\"\n",
      "The `CSVLogger interface is deprecated in favor of the `ray.tune.csv.CSVLoggerCallback` interface and will be removed in Ray 2.7.\n",
      "  self._loggers.append(cls(self.config, self.logdir, self.trial))\n",
      "c:\\Users\\josep\\Documents\\Coup-RL\\env\\lib\\site-packages\\ray\\tune\\logger\\unified.py:53: RayDeprecationWarning: This API is deprecated and may be removed in future Ray releases. You could suppress this warning by setting env variable PYTHONWARNINGS=\"ignore::DeprecationWarning\"\n",
      "The `TBXLogger interface is deprecated in favor of the `ray.tune.tensorboardx.TBXLoggerCallback` interface and will be removed in Ray 2.7.\n",
      "  self._loggers.append(cls(self.config, self.logdir, self.trial))\n",
      ":actor_name:RolloutWorker\n",
      ":actor_name:RolloutWorker\n",
      ":actor_name:RolloutWorker\n"
     ]
    },
    {
     "name": "stdout",
     "output_type": "stream",
     "text": [
      ":actor_name:RolloutWorker\n",
      ":actor_name:RolloutWorker\n",
      ":actor_name:RolloutWorker\n"
     ]
    },
    {
     "name": "stderr",
     "output_type": "stream",
     "text": [
      ":actor_name:RolloutWorker\n",
      "2024-04-22 19:23:28,311\tWARNING util.py:62 -- Install gputil for GPU system monitoring.\n"
     ]
    },
    {
     "name": "stdout",
     "output_type": "stream",
     "text": [
      ":actor_name:RolloutWorker\n",
      "Game number:  0\n",
      "Game number:  1\n",
      "Game number:  2\n",
      "Game number:  3\n",
      "Game number:  4\n",
      "Game number:  5\n",
      "Game number:  6\n",
      "Game number:  7\n",
      "Game number:  8\n",
      "Game number:  9\n",
      "Game number:  10\n",
      "Game number:  11\n",
      "Game number:  12\n",
      "Game number:  13\n",
      "Game number:  14\n",
      "Game number:  15\n",
      "Game number:  16\n",
      "Game number:  17\n",
      "Game number:  18\n",
      "Game number:  19\n",
      "Game number:  20\n",
      "Game number:  21\n",
      "Game number:  22\n",
      "Game number:  23\n",
      "Game number:  24\n",
      "Game number:  25\n",
      "Game number:  26\n",
      "Game number:  27\n",
      "Game number:  28\n",
      "Game number:  29\n",
      "Game number:  30\n",
      "Game number:  31\n",
      "Game number:  32\n",
      "Game number:  33\n",
      "Game number:  34\n",
      "Game number:  35\n",
      "Game number:  36\n",
      "Game number:  37\n",
      "Game number:  38\n",
      "Game number:  39\n",
      "Game number:  40\n",
      "Game number:  41\n",
      "Game number:  42\n",
      "Game number:  43\n",
      "Game number:  44\n",
      "Game number:  45\n",
      "Game number:  46\n",
      "Game number:  47\n",
      "Game number:  48\n",
      "Game number:  49\n",
      "Game number:  50\n",
      "Game number:  51\n",
      "Game number:  52\n",
      "Game number:  53\n",
      "Game number:  54\n",
      "Game number:  55\n",
      "Game number:  56\n",
      "Game number:  57\n",
      "Game number:  58\n",
      "Game number:  59\n",
      "Game number:  60\n",
      "Game number:  61\n",
      "Game number:  62\n",
      "Game number:  63\n",
      "Game number:  64\n",
      "Game number:  65\n",
      "Game number:  66\n",
      "Game number:  67\n",
      "Game number:  68\n",
      "Game number:  69\n",
      "Game number:  70\n",
      "Game number:  71\n",
      "Game number:  72\n",
      "Game number:  73\n",
      "Game number:  74\n",
      "Game number:  75\n",
      "Game number:  76\n",
      "Game number:  77\n",
      "Game number:  78\n",
      "Game number:  79\n",
      "Game number:  80\n",
      "Game number:  81\n",
      "Game number:  82\n",
      "Game number:  83\n",
      "Game number:  84\n",
      "Game number:  85\n",
      "Game number:  86\n",
      "Game number:  87\n",
      "Game number:  88\n",
      "Game number:  89\n",
      "Game number:  90\n",
      "Game number:  91\n",
      "Game number:  92\n",
      "Game number:  93\n",
      "Game number:  94\n",
      "Game number:  95\n",
      "Game number:  96\n",
      "Game number:  97\n",
      "Game number:  98\n",
      "Game number:  99\n",
      "Scores:  {'player_1': 43, 'player_2': 57}\n",
      "Total rewards:  {'player_1': -17, 'player_2': 17}\n",
      "Model 1 c:\\Users\\josep\\Documents\\Coup-RL\\Coup\\coup\\ray_results\\PPO_decentralised\\PPO_Coup_1bd85_00001_1_clip_param-0.2000-gamma-0.9000-train_batch_size-10000_2024-04-21_20-50-44\n",
      "Model 2 c:\\Users\\josep\\Documents\\Coup-RL\\Coup\\coup\\ray_results\\PPO_decentralised\\PPO_Coup_1bd85_00000_0_clip_param-0.1000-gamma-0.9000-train_batch_size-10000_2024-04-21_20-26-53\n",
      "Model 1 c:\\Users\\josep\\Documents\\Coup-RL\\Coup\\coup\\ray_results\\PPO_decentralised\\PPO_Coup_1bd85_00001_1_clip_param-0.2000-gamma-0.9000-train_batch_size-10000_2024-04-21_20-50-44\n",
      "Model 2 c:\\Users\\josep\\Documents\\Coup-RL\\Coup\\coup\\ray_results\\PPO_decentralised\\PPO_Coup_1bd85_00001_1_clip_param-0.2000-gamma-0.9000-train_batch_size-10000_2024-04-21_20-50-44\n",
      "Model 1 c:\\Users\\josep\\Documents\\Coup-RL\\Coup\\coup\\ray_results\\PPO_decentralised\\PPO_Coup_1bd85_00001_1_clip_param-0.2000-gamma-0.9000-train_batch_size-10000_2024-04-21_20-50-44\n",
      "Model 2 c:\\Users\\josep\\Documents\\Coup-RL\\Coup\\coup\\ray_results\\PPO_decentralised\\PPO_Coup_1bd85_00002_2_clip_param-0.3000-gamma-0.9000-train_batch_size-10000_2024-04-21_21-28-22\n",
      ":actor_name:RolloutWorker\n",
      ":actor_name:RolloutWorker\n",
      ":actor_name:RolloutWorker\n"
     ]
    },
    {
     "name": "stderr",
     "output_type": "stream",
     "text": [
      "c:\\Users\\josep\\Documents\\Coup-RL\\env\\lib\\site-packages\\ray\\rllib\\algorithms\\algorithm.py:500: RayDeprecationWarning: This API is deprecated and may be removed in future Ray releases. You could suppress this warning by setting env variable PYTHONWARNINGS=\"ignore::DeprecationWarning\"\n",
      "`UnifiedLogger` will be removed in Ray 2.7.\n",
      "  return UnifiedLogger(config, logdir, loggers=None)\n",
      "c:\\Users\\josep\\Documents\\Coup-RL\\env\\lib\\site-packages\\ray\\tune\\logger\\unified.py:53: RayDeprecationWarning: This API is deprecated and may be removed in future Ray releases. You could suppress this warning by setting env variable PYTHONWARNINGS=\"ignore::DeprecationWarning\"\n",
      "The `JsonLogger interface is deprecated in favor of the `ray.tune.json.JsonLoggerCallback` interface and will be removed in Ray 2.7.\n",
      "  self._loggers.append(cls(self.config, self.logdir, self.trial))\n",
      "c:\\Users\\josep\\Documents\\Coup-RL\\env\\lib\\site-packages\\ray\\tune\\logger\\unified.py:53: RayDeprecationWarning: This API is deprecated and may be removed in future Ray releases. You could suppress this warning by setting env variable PYTHONWARNINGS=\"ignore::DeprecationWarning\"\n",
      "The `CSVLogger interface is deprecated in favor of the `ray.tune.csv.CSVLoggerCallback` interface and will be removed in Ray 2.7.\n",
      "  self._loggers.append(cls(self.config, self.logdir, self.trial))\n",
      "c:\\Users\\josep\\Documents\\Coup-RL\\env\\lib\\site-packages\\ray\\tune\\logger\\unified.py:53: RayDeprecationWarning: This API is deprecated and may be removed in future Ray releases. You could suppress this warning by setting env variable PYTHONWARNINGS=\"ignore::DeprecationWarning\"\n",
      "The `TBXLogger interface is deprecated in favor of the `ray.tune.tensorboardx.TBXLoggerCallback` interface and will be removed in Ray 2.7.\n",
      "  self._loggers.append(cls(self.config, self.logdir, self.trial))\n",
      ":actor_name:RolloutWorker\n",
      ":actor_name:RolloutWorker\n",
      ":actor_name:RolloutWorker\n",
      ":actor_name:RolloutWorker\n",
      "2024-04-22 19:23:35,324\tWARNING util.py:62 -- Install gputil for GPU system monitoring.\n"
     ]
    },
    {
     "name": "stdout",
     "output_type": "stream",
     "text": [
      ":actor_name:RolloutWorker\n"
     ]
    },
    {
     "name": "stderr",
     "output_type": "stream",
     "text": [
      "c:\\Users\\josep\\Documents\\Coup-RL\\env\\lib\\site-packages\\ray\\rllib\\algorithms\\algorithm.py:500: RayDeprecationWarning: This API is deprecated and may be removed in future Ray releases. You could suppress this warning by setting env variable PYTHONWARNINGS=\"ignore::DeprecationWarning\"\n",
      "`UnifiedLogger` will be removed in Ray 2.7.\n",
      "  return UnifiedLogger(config, logdir, loggers=None)\n",
      "c:\\Users\\josep\\Documents\\Coup-RL\\env\\lib\\site-packages\\ray\\tune\\logger\\unified.py:53: RayDeprecationWarning: This API is deprecated and may be removed in future Ray releases. You could suppress this warning by setting env variable PYTHONWARNINGS=\"ignore::DeprecationWarning\"\n",
      "The `JsonLogger interface is deprecated in favor of the `ray.tune.json.JsonLoggerCallback` interface and will be removed in Ray 2.7.\n",
      "  self._loggers.append(cls(self.config, self.logdir, self.trial))\n",
      "c:\\Users\\josep\\Documents\\Coup-RL\\env\\lib\\site-packages\\ray\\tune\\logger\\unified.py:53: RayDeprecationWarning: This API is deprecated and may be removed in future Ray releases. You could suppress this warning by setting env variable PYTHONWARNINGS=\"ignore::DeprecationWarning\"\n",
      "The `CSVLogger interface is deprecated in favor of the `ray.tune.csv.CSVLoggerCallback` interface and will be removed in Ray 2.7.\n",
      "  self._loggers.append(cls(self.config, self.logdir, self.trial))\n",
      "c:\\Users\\josep\\Documents\\Coup-RL\\env\\lib\\site-packages\\ray\\tune\\logger\\unified.py:53: RayDeprecationWarning: This API is deprecated and may be removed in future Ray releases. You could suppress this warning by setting env variable PYTHONWARNINGS=\"ignore::DeprecationWarning\"\n",
      "The `TBXLogger interface is deprecated in favor of the `ray.tune.tensorboardx.TBXLoggerCallback` interface and will be removed in Ray 2.7.\n",
      "  self._loggers.append(cls(self.config, self.logdir, self.trial))\n",
      ":actor_name:RolloutWorker\n",
      ":actor_name:RolloutWorker\n",
      ":actor_name:RolloutWorker\n"
     ]
    },
    {
     "name": "stdout",
     "output_type": "stream",
     "text": [
      ":actor_name:RolloutWorker\n",
      ":actor_name:RolloutWorker\n",
      ":actor_name:RolloutWorker\n"
     ]
    },
    {
     "name": "stderr",
     "output_type": "stream",
     "text": [
      ":actor_name:RolloutWorker\n",
      "2024-04-22 19:23:36,124\tWARNING util.py:62 -- Install gputil for GPU system monitoring.\n"
     ]
    },
    {
     "name": "stdout",
     "output_type": "stream",
     "text": [
      ":actor_name:RolloutWorker\n",
      "Game number:  0\n",
      "Game number:  1\n",
      "Game number:  2\n",
      "Game number:  3\n",
      "Game number:  4\n",
      "Game number:  5\n",
      "Game number:  6\n",
      "Game number:  7\n",
      "Game number:  8\n",
      "Game number:  9\n",
      "Game number:  10\n",
      "Game number:  11\n",
      "Game number:  12\n",
      "Game number:  13\n",
      "Game number:  14\n",
      "Game number:  15\n",
      "Game number:  16\n",
      "Game number:  17\n",
      "Game number:  18\n",
      "Game number:  19\n",
      "Game number:  20\n",
      "Game number:  21\n",
      "Game number:  22\n",
      "Game number:  23\n",
      "Game number:  24\n",
      "Game number:  25\n",
      "Game number:  26\n",
      "Game number:  27\n",
      "Game number:  28\n",
      "Game number:  29\n",
      "Game number:  30\n",
      "Game number:  31\n",
      "Game number:  32\n",
      "Game number:  33\n",
      "Game number:  34\n",
      "Game number:  35\n",
      "Game number:  36\n",
      "Game number:  37\n",
      "Game number:  38\n",
      "Game number:  39\n",
      "Game number:  40\n",
      "Game number:  41\n",
      "Game number:  42\n",
      "Game number:  43\n",
      "Game number:  44\n",
      "Game number:  45\n",
      "Game number:  46\n",
      "Game number:  47\n",
      "Game number:  48\n",
      "Game number:  49\n",
      "Game number:  50\n",
      "Game number:  51\n",
      "Game number:  52\n",
      "Game number:  53\n",
      "Game number:  54\n",
      "Game number:  55\n",
      "Game number:  56\n",
      "Game number:  57\n",
      "Game number:  58\n",
      "Game number:  59\n",
      "Game number:  60\n",
      "Game number:  61\n",
      "Game number:  62\n",
      "Game number:  63\n",
      "Game number:  64\n",
      "Game number:  65\n",
      "Game number:  66\n",
      "Game number:  67\n",
      "Game number:  68\n",
      "Game number:  69\n",
      "Game number:  70\n",
      "Game number:  71\n",
      "Game number:  72\n",
      "Game number:  73\n",
      "Game number:  74\n",
      "Game number:  75\n",
      "Game number:  76\n",
      "Game number:  77\n",
      "Game number:  78\n",
      "Game number:  79\n",
      "Game number:  80\n",
      "Game number:  81\n",
      "Game number:  82\n",
      "Game number:  83\n",
      "Game number:  84\n",
      "Game number:  85\n",
      "Game number:  86\n",
      "Game number:  87\n",
      "Game number:  88\n",
      "Game number:  89\n",
      "Game number:  90\n",
      "Game number:  91\n",
      "Game number:  92\n",
      "Game number:  93\n",
      "Game number:  94\n",
      "Game number:  95\n",
      "Game number:  96\n",
      "Game number:  97\n",
      "Game number:  98\n",
      "Game number:  99\n",
      "Scores:  {'player_1': 47, 'player_2': 53}\n",
      "Total rewards:  {'player_1': 0, 'player_2': 0}\n",
      "Model 1 c:\\Users\\josep\\Documents\\Coup-RL\\Coup\\coup\\ray_results\\PPO_decentralised\\PPO_Coup_1bd85_00001_1_clip_param-0.2000-gamma-0.9000-train_batch_size-10000_2024-04-21_20-50-44\n",
      "Model 2 c:\\Users\\josep\\Documents\\Coup-RL\\Coup\\coup\\ray_results\\PPO_decentralised\\PPO_Coup_1bd85_00003_3_clip_param-0.1000-gamma-0.9500-train_batch_size-10000_2024-04-21_21-54-16\n",
      ":actor_name:RolloutWorker\n",
      ":actor_name:RolloutWorker\n",
      ":actor_name:RolloutWorker\n"
     ]
    },
    {
     "name": "stderr",
     "output_type": "stream",
     "text": [
      "c:\\Users\\josep\\Documents\\Coup-RL\\env\\lib\\site-packages\\ray\\rllib\\algorithms\\algorithm.py:500: RayDeprecationWarning: This API is deprecated and may be removed in future Ray releases. You could suppress this warning by setting env variable PYTHONWARNINGS=\"ignore::DeprecationWarning\"\n",
      "`UnifiedLogger` will be removed in Ray 2.7.\n",
      "  return UnifiedLogger(config, logdir, loggers=None)\n",
      "c:\\Users\\josep\\Documents\\Coup-RL\\env\\lib\\site-packages\\ray\\tune\\logger\\unified.py:53: RayDeprecationWarning: This API is deprecated and may be removed in future Ray releases. You could suppress this warning by setting env variable PYTHONWARNINGS=\"ignore::DeprecationWarning\"\n",
      "The `JsonLogger interface is deprecated in favor of the `ray.tune.json.JsonLoggerCallback` interface and will be removed in Ray 2.7.\n",
      "  self._loggers.append(cls(self.config, self.logdir, self.trial))\n",
      "c:\\Users\\josep\\Documents\\Coup-RL\\env\\lib\\site-packages\\ray\\tune\\logger\\unified.py:53: RayDeprecationWarning: This API is deprecated and may be removed in future Ray releases. You could suppress this warning by setting env variable PYTHONWARNINGS=\"ignore::DeprecationWarning\"\n",
      "The `CSVLogger interface is deprecated in favor of the `ray.tune.csv.CSVLoggerCallback` interface and will be removed in Ray 2.7.\n",
      "  self._loggers.append(cls(self.config, self.logdir, self.trial))\n",
      "c:\\Users\\josep\\Documents\\Coup-RL\\env\\lib\\site-packages\\ray\\tune\\logger\\unified.py:53: RayDeprecationWarning: This API is deprecated and may be removed in future Ray releases. You could suppress this warning by setting env variable PYTHONWARNINGS=\"ignore::DeprecationWarning\"\n",
      "The `TBXLogger interface is deprecated in favor of the `ray.tune.tensorboardx.TBXLoggerCallback` interface and will be removed in Ray 2.7.\n",
      "  self._loggers.append(cls(self.config, self.logdir, self.trial))\n",
      ":actor_name:RolloutWorker\n",
      ":actor_name:RolloutWorker\n",
      ":actor_name:RolloutWorker\n",
      ":actor_name:RolloutWorker\n",
      "2024-04-22 19:23:42,731\tWARNING util.py:62 -- Install gputil for GPU system monitoring.\n"
     ]
    },
    {
     "name": "stdout",
     "output_type": "stream",
     "text": [
      ":actor_name:RolloutWorker\n"
     ]
    },
    {
     "name": "stderr",
     "output_type": "stream",
     "text": [
      "c:\\Users\\josep\\Documents\\Coup-RL\\env\\lib\\site-packages\\ray\\rllib\\algorithms\\algorithm.py:500: RayDeprecationWarning: This API is deprecated and may be removed in future Ray releases. You could suppress this warning by setting env variable PYTHONWARNINGS=\"ignore::DeprecationWarning\"\n",
      "`UnifiedLogger` will be removed in Ray 2.7.\n",
      "  return UnifiedLogger(config, logdir, loggers=None)\n",
      "c:\\Users\\josep\\Documents\\Coup-RL\\env\\lib\\site-packages\\ray\\tune\\logger\\unified.py:53: RayDeprecationWarning: This API is deprecated and may be removed in future Ray releases. You could suppress this warning by setting env variable PYTHONWARNINGS=\"ignore::DeprecationWarning\"\n",
      "The `JsonLogger interface is deprecated in favor of the `ray.tune.json.JsonLoggerCallback` interface and will be removed in Ray 2.7.\n",
      "  self._loggers.append(cls(self.config, self.logdir, self.trial))\n",
      "c:\\Users\\josep\\Documents\\Coup-RL\\env\\lib\\site-packages\\ray\\tune\\logger\\unified.py:53: RayDeprecationWarning: This API is deprecated and may be removed in future Ray releases. You could suppress this warning by setting env variable PYTHONWARNINGS=\"ignore::DeprecationWarning\"\n",
      "The `CSVLogger interface is deprecated in favor of the `ray.tune.csv.CSVLoggerCallback` interface and will be removed in Ray 2.7.\n",
      "  self._loggers.append(cls(self.config, self.logdir, self.trial))\n",
      "c:\\Users\\josep\\Documents\\Coup-RL\\env\\lib\\site-packages\\ray\\tune\\logger\\unified.py:53: RayDeprecationWarning: This API is deprecated and may be removed in future Ray releases. You could suppress this warning by setting env variable PYTHONWARNINGS=\"ignore::DeprecationWarning\"\n",
      "The `TBXLogger interface is deprecated in favor of the `ray.tune.tensorboardx.TBXLoggerCallback` interface and will be removed in Ray 2.7.\n",
      "  self._loggers.append(cls(self.config, self.logdir, self.trial))\n",
      ":actor_name:RolloutWorker\n",
      ":actor_name:RolloutWorker\n",
      ":actor_name:RolloutWorker\n"
     ]
    },
    {
     "name": "stdout",
     "output_type": "stream",
     "text": [
      ":actor_name:RolloutWorker\n",
      ":actor_name:RolloutWorker\n",
      ":actor_name:RolloutWorker\n",
      ":actor_name:RolloutWorker\n"
     ]
    },
    {
     "name": "stderr",
     "output_type": "stream",
     "text": [
      ":actor_name:RolloutWorker\n",
      "2024-04-22 19:23:43,220\tWARNING util.py:62 -- Install gputil for GPU system monitoring.\n"
     ]
    },
    {
     "name": "stdout",
     "output_type": "stream",
     "text": [
      "Game number:  0\n",
      "Game number:  1\n",
      "Game number:  2\n",
      "Game number:  3\n",
      "Game number:  4\n",
      "Game number:  5\n",
      "Game number:  6\n",
      "Game number:  7\n",
      "Game number:  8\n",
      "Game number:  9\n",
      "Game number:  10\n",
      "Game number:  11\n",
      "Game number:  12\n",
      "Game number:  13\n",
      "Game number:  14\n",
      "Game number:  15\n",
      "Game number:  16\n",
      "Game number:  17\n",
      "Game number:  18\n",
      "Game number:  19\n",
      "Game number:  20\n",
      "Game number:  21\n",
      "Game number:  22\n",
      "Game number:  23\n",
      "Game number:  24\n",
      "Game number:  25\n",
      "Game number:  26\n",
      "Game number:  27\n",
      "Game number:  28\n",
      "Game number:  29\n",
      "Game number:  30\n",
      "Game number:  31\n",
      "Game number:  32\n",
      "Game number:  33\n",
      "Game number:  34\n",
      "Game number:  35\n",
      "Game number:  36\n",
      "Game number:  37\n",
      "Game number:  38\n",
      "Game number:  39\n",
      "Game number:  40\n",
      "Game number:  41\n",
      "Game number:  42\n",
      "Game number:  43\n",
      "Game number:  44\n",
      "Game number:  45\n",
      "Game number:  46\n",
      "Game number:  47\n",
      "Game number:  48\n",
      "Game number:  49\n",
      "Game number:  50\n",
      "Game number:  51\n",
      "Game number:  52\n",
      "Game number:  53\n",
      "Game number:  54\n",
      "Game number:  55\n",
      "Game number:  56\n",
      "Game number:  57\n",
      "Game number:  58\n",
      "Game number:  59\n",
      "Game number:  60\n",
      "Game number:  61\n",
      "Game number:  62\n",
      "Game number:  63\n",
      "Game number:  64\n",
      "Game number:  65\n",
      "Game number:  66\n",
      "Game number:  67\n",
      "Game number:  68\n",
      "Game number:  69\n",
      "Game number:  70\n",
      "Game number:  71\n",
      "Game number:  72\n",
      "Game number:  73\n",
      "Game number:  74\n",
      "Game number:  75\n",
      "Game number:  76\n",
      "Game number:  77\n",
      "Game number:  78\n",
      "Game number:  79\n",
      "Game number:  80\n",
      "Game number:  81\n",
      "Game number:  82\n",
      "Game number:  83\n",
      "Game number:  84\n",
      "Game number:  85\n",
      "Game number:  86\n",
      "Game number:  87\n",
      "Game number:  88\n",
      "Game number:  89\n",
      "Game number:  90\n",
      "Game number:  91\n",
      "Game number:  92\n",
      "Game number:  93\n",
      "Game number:  94\n",
      "Game number:  95\n",
      "Game number:  96\n",
      "Game number:  97\n",
      "Game number:  98\n",
      "Game number:  99\n",
      "Scores:  {'player_1': 55, 'player_2': 45}\n",
      "Total rewards:  {'player_1': 15, 'player_2': -15}\n",
      "Model 1 c:\\Users\\josep\\Documents\\Coup-RL\\Coup\\coup\\ray_results\\PPO_decentralised\\PPO_Coup_1bd85_00001_1_clip_param-0.2000-gamma-0.9000-train_batch_size-10000_2024-04-21_20-50-44\n",
      "Model 2 c:\\Users\\josep\\Documents\\Coup-RL\\Coup\\coup\\ray_results\\PPO_decentralised\\PPO_Coup_1bd85_00004_4_clip_param-0.2000-gamma-0.9500-train_batch_size-10000_2024-04-21_22-20-05\n",
      ":actor_name:RolloutWorker\n",
      ":actor_name:RolloutWorker\n",
      ":actor_name:RolloutWorker\n"
     ]
    },
    {
     "name": "stderr",
     "output_type": "stream",
     "text": [
      "c:\\Users\\josep\\Documents\\Coup-RL\\env\\lib\\site-packages\\ray\\rllib\\algorithms\\algorithm.py:500: RayDeprecationWarning: This API is deprecated and may be removed in future Ray releases. You could suppress this warning by setting env variable PYTHONWARNINGS=\"ignore::DeprecationWarning\"\n",
      "`UnifiedLogger` will be removed in Ray 2.7.\n",
      "  return UnifiedLogger(config, logdir, loggers=None)\n",
      "c:\\Users\\josep\\Documents\\Coup-RL\\env\\lib\\site-packages\\ray\\tune\\logger\\unified.py:53: RayDeprecationWarning: This API is deprecated and may be removed in future Ray releases. You could suppress this warning by setting env variable PYTHONWARNINGS=\"ignore::DeprecationWarning\"\n",
      "The `JsonLogger interface is deprecated in favor of the `ray.tune.json.JsonLoggerCallback` interface and will be removed in Ray 2.7.\n",
      "  self._loggers.append(cls(self.config, self.logdir, self.trial))\n",
      "c:\\Users\\josep\\Documents\\Coup-RL\\env\\lib\\site-packages\\ray\\tune\\logger\\unified.py:53: RayDeprecationWarning: This API is deprecated and may be removed in future Ray releases. You could suppress this warning by setting env variable PYTHONWARNINGS=\"ignore::DeprecationWarning\"\n",
      "The `CSVLogger interface is deprecated in favor of the `ray.tune.csv.CSVLoggerCallback` interface and will be removed in Ray 2.7.\n",
      "  self._loggers.append(cls(self.config, self.logdir, self.trial))\n",
      "c:\\Users\\josep\\Documents\\Coup-RL\\env\\lib\\site-packages\\ray\\tune\\logger\\unified.py:53: RayDeprecationWarning: This API is deprecated and may be removed in future Ray releases. You could suppress this warning by setting env variable PYTHONWARNINGS=\"ignore::DeprecationWarning\"\n",
      "The `TBXLogger interface is deprecated in favor of the `ray.tune.tensorboardx.TBXLoggerCallback` interface and will be removed in Ray 2.7.\n",
      "  self._loggers.append(cls(self.config, self.logdir, self.trial))\n",
      ":actor_name:RolloutWorker\n",
      ":actor_name:RolloutWorker\n",
      ":actor_name:RolloutWorker\n",
      ":actor_name:RolloutWorker\n",
      "2024-04-22 19:23:52,149\tWARNING util.py:62 -- Install gputil for GPU system monitoring.\n"
     ]
    },
    {
     "name": "stdout",
     "output_type": "stream",
     "text": [
      ":actor_name:RolloutWorker\n"
     ]
    },
    {
     "name": "stderr",
     "output_type": "stream",
     "text": [
      "c:\\Users\\josep\\Documents\\Coup-RL\\env\\lib\\site-packages\\ray\\rllib\\algorithms\\algorithm.py:500: RayDeprecationWarning: This API is deprecated and may be removed in future Ray releases. You could suppress this warning by setting env variable PYTHONWARNINGS=\"ignore::DeprecationWarning\"\n",
      "`UnifiedLogger` will be removed in Ray 2.7.\n",
      "  return UnifiedLogger(config, logdir, loggers=None)\n",
      "c:\\Users\\josep\\Documents\\Coup-RL\\env\\lib\\site-packages\\ray\\tune\\logger\\unified.py:53: RayDeprecationWarning: This API is deprecated and may be removed in future Ray releases. You could suppress this warning by setting env variable PYTHONWARNINGS=\"ignore::DeprecationWarning\"\n",
      "The `JsonLogger interface is deprecated in favor of the `ray.tune.json.JsonLoggerCallback` interface and will be removed in Ray 2.7.\n",
      "  self._loggers.append(cls(self.config, self.logdir, self.trial))\n",
      "c:\\Users\\josep\\Documents\\Coup-RL\\env\\lib\\site-packages\\ray\\tune\\logger\\unified.py:53: RayDeprecationWarning: This API is deprecated and may be removed in future Ray releases. You could suppress this warning by setting env variable PYTHONWARNINGS=\"ignore::DeprecationWarning\"\n",
      "The `CSVLogger interface is deprecated in favor of the `ray.tune.csv.CSVLoggerCallback` interface and will be removed in Ray 2.7.\n",
      "  self._loggers.append(cls(self.config, self.logdir, self.trial))\n",
      "c:\\Users\\josep\\Documents\\Coup-RL\\env\\lib\\site-packages\\ray\\tune\\logger\\unified.py:53: RayDeprecationWarning: This API is deprecated and may be removed in future Ray releases. You could suppress this warning by setting env variable PYTHONWARNINGS=\"ignore::DeprecationWarning\"\n",
      "The `TBXLogger interface is deprecated in favor of the `ray.tune.tensorboardx.TBXLoggerCallback` interface and will be removed in Ray 2.7.\n",
      "  self._loggers.append(cls(self.config, self.logdir, self.trial))\n",
      ":actor_name:RolloutWorker\n",
      ":actor_name:RolloutWorker\n",
      ":actor_name:RolloutWorker\n"
     ]
    },
    {
     "name": "stdout",
     "output_type": "stream",
     "text": [
      ":actor_name:RolloutWorker\n",
      ":actor_name:RolloutWorker\n",
      ":actor_name:RolloutWorker\n"
     ]
    },
    {
     "name": "stderr",
     "output_type": "stream",
     "text": [
      ":actor_name:RolloutWorker\n",
      "2024-04-22 19:23:52,787\tWARNING util.py:62 -- Install gputil for GPU system monitoring.\n"
     ]
    },
    {
     "name": "stdout",
     "output_type": "stream",
     "text": [
      ":actor_name:RolloutWorker\n"
     ]
    },
    {
     "name": "stderr",
     "output_type": "stream",
     "text": [
      "c:\\Users\\josep\\Documents\\Coup-RL\\env\\lib\\site-packages\\ray\\rllib\\algorithms\\algorithm.py:500: RayDeprecationWarning: This API is deprecated and may be removed in future Ray releases. You could suppress this warning by setting env variable PYTHONWARNINGS=\"ignore::DeprecationWarning\"\n",
      "`UnifiedLogger` will be removed in Ray 2.7.\n",
      "  return UnifiedLogger(config, logdir, loggers=None)\n",
      "c:\\Users\\josep\\Documents\\Coup-RL\\env\\lib\\site-packages\\ray\\tune\\logger\\unified.py:53: RayDeprecationWarning: This API is deprecated and may be removed in future Ray releases. You could suppress this warning by setting env variable PYTHONWARNINGS=\"ignore::DeprecationWarning\"\n",
      "The `JsonLogger interface is deprecated in favor of the `ray.tune.json.JsonLoggerCallback` interface and will be removed in Ray 2.7.\n",
      "  self._loggers.append(cls(self.config, self.logdir, self.trial))\n",
      "c:\\Users\\josep\\Documents\\Coup-RL\\env\\lib\\site-packages\\ray\\tune\\logger\\unified.py:53: RayDeprecationWarning: This API is deprecated and may be removed in future Ray releases. You could suppress this warning by setting env variable PYTHONWARNINGS=\"ignore::DeprecationWarning\"\n",
      "The `CSVLogger interface is deprecated in favor of the `ray.tune.csv.CSVLoggerCallback` interface and will be removed in Ray 2.7.\n",
      "  self._loggers.append(cls(self.config, self.logdir, self.trial))\n",
      "c:\\Users\\josep\\Documents\\Coup-RL\\env\\lib\\site-packages\\ray\\tune\\logger\\unified.py:53: RayDeprecationWarning: This API is deprecated and may be removed in future Ray releases. You could suppress this warning by setting env variable PYTHONWARNINGS=\"ignore::DeprecationWarning\"\n",
      "The `TBXLogger interface is deprecated in favor of the `ray.tune.tensorboardx.TBXLoggerCallback` interface and will be removed in Ray 2.7.\n",
      "  self._loggers.append(cls(self.config, self.logdir, self.trial))\n",
      ":actor_name:RolloutWorker\n",
      ":actor_name:RolloutWorker\n",
      ":actor_name:RolloutWorker\n",
      "2024-04-22 19:23:54,423\tERROR actor_manager.py:517 -- Ray error, taking actor 1 out of service. System error: Unknown error\n"
     ]
    },
    {
     "name": "stdout",
     "output_type": "stream",
     "text": [
      "System error: Unknown error\n",
      "Model 1 c:\\Users\\josep\\Documents\\Coup-RL\\Coup\\coup\\ray_results\\PPO_decentralised\\PPO_Coup_1bd85_00001_1_clip_param-0.2000-gamma-0.9000-train_batch_size-10000_2024-04-21_20-50-44\n",
      "Model 2 c:\\Users\\josep\\Documents\\Coup-RL\\Coup\\coup\\ray_results\\PPO_decentralised\\PPO_Coup_1bd85_00005_5_clip_param-0.3000-gamma-0.9500-train_batch_size-10000_2024-04-21_22-44-47\n",
      ":actor_name:RolloutWorker\n",
      ":actor_name:RolloutWorker\n",
      ":actor_name:RolloutWorker\n"
     ]
    },
    {
     "name": "stderr",
     "output_type": "stream",
     "text": [
      "2024-04-22 19:23:54,424\tERROR actor_manager.py:517 -- Ray error, taking actor 2 out of service. System error: Unknown error\n",
      "2024-04-22 19:23:54,425\tERROR actor_manager.py:517 -- Ray error, taking actor 3 out of service. System error: Unknown error\n",
      ":actor_name:RolloutWorker\n"
     ]
    },
    {
     "name": "stdout",
     "output_type": "stream",
     "text": [
      "System error: Unknown error\n",
      "Model 1 c:\\Users\\josep\\Documents\\Coup-RL\\Coup\\coup\\ray_results\\PPO_decentralised\\PPO_Coup_1bd85_00001_1_clip_param-0.2000-gamma-0.9000-train_batch_size-10000_2024-04-21_20-50-44\n",
      "Model 2 c:\\Users\\josep\\Documents\\Coup-RL\\Coup\\coup\\ray_results\\PPO_decentralised\\PPO_Coup_1bd85_00006_6_clip_param-0.1000-gamma-0.9900-train_batch_size-10000_2024-04-21_23-10-35\n",
      ":actor_name:RolloutWorker\n"
     ]
    },
    {
     "name": "stderr",
     "output_type": "stream",
     "text": [
      ":actor_name:RolloutWorker\n",
      ":actor_name:RolloutWorker\n",
      "2024-04-22 19:23:54,806\tERROR actor_manager.py:517 -- Ray error, taking actor 1 out of service. System error: Unknown error\n",
      "2024-04-22 19:23:54,808\tERROR actor_manager.py:517 -- Ray error, taking actor 2 out of service. System error: Unknown error\n",
      "2024-04-22 19:23:54,820\tERROR actor_manager.py:517 -- Ray error, taking actor 3 out of service. System error: Unknown error\n"
     ]
    },
    {
     "name": "stdout",
     "output_type": "stream",
     "text": [
      ":actor_name:RolloutWorker\n",
      ":actor_name:RolloutWorker\n",
      "System error: Unknown error\n",
      "Model 1 c:\\Users\\josep\\Documents\\Coup-RL\\Coup\\coup\\ray_results\\PPO_decentralised\\PPO_Coup_1bd85_00001_1_clip_param-0.2000-gamma-0.9000-train_batch_size-10000_2024-04-21_20-50-44\n",
      "Model 2 c:\\Users\\josep\\Documents\\Coup-RL\\Coup\\coup\\ray_results\\PPO_decentralised\\PPO_Coup_1bd85_00007_7_clip_param-0.2000-gamma-0.9900-train_batch_size-10000_2024-04-21_23-37-22\n"
     ]
    },
    {
     "name": "stderr",
     "output_type": "stream",
     "text": [
      ":actor_name:RolloutWorker\n",
      ":actor_name:RolloutWorker\n",
      ":actor_name:RolloutWorker\n",
      "2024-04-22 19:23:55,155\tERROR actor_manager.py:517 -- Ray error, taking actor 1 out of service. System error: Unknown error\n",
      "2024-04-22 19:23:55,157\tERROR actor_manager.py:517 -- Ray error, taking actor 2 out of service. System error: Unknown error\n",
      "2024-04-22 19:23:55,160\tERROR actor_manager.py:517 -- Ray error, taking actor 3 out of service. System error: Unknown error\n"
     ]
    },
    {
     "name": "stdout",
     "output_type": "stream",
     "text": [
      ":actor_name:RolloutWorker\n",
      ":actor_name:RolloutWorker\n",
      ":actor_name:RolloutWorker\n",
      "System error: Unknown error\n",
      "Model 1 c:\\Users\\josep\\Documents\\Coup-RL\\Coup\\coup\\ray_results\\PPO_decentralised\\PPO_Coup_1bd85_00001_1_clip_param-0.2000-gamma-0.9000-train_batch_size-10000_2024-04-21_20-50-44\n",
      "Model 2 c:\\Users\\josep\\Documents\\Coup-RL\\Coup\\coup\\ray_results\\PPO_decentralised\\PPO_Coup_1bd85_00008_8_clip_param-0.3000-gamma-0.9900-train_batch_size-10000_2024-04-22_00-04-34\n"
     ]
    },
    {
     "name": "stderr",
     "output_type": "stream",
     "text": [
      ":actor_name:RolloutWorker\n",
      ":actor_name:RolloutWorker\n",
      ":actor_name:RolloutWorker\n",
      "2024-04-22 19:23:55,548\tERROR actor_manager.py:517 -- Ray error, taking actor 1 out of service. System error: Unknown error\n",
      "2024-04-22 19:23:55,549\tERROR actor_manager.py:517 -- Ray error, taking actor 2 out of service. System error: Unknown error\n",
      "2024-04-22 19:23:55,550\tERROR actor_manager.py:517 -- Ray error, taking actor 3 out of service. System error: Unknown error\n"
     ]
    },
    {
     "name": "stdout",
     "output_type": "stream",
     "text": [
      ":actor_name:RolloutWorker\n",
      ":actor_name:RolloutWorker\n",
      ":actor_name:RolloutWorker\n",
      "System error: Unknown error\n",
      "Model 1 c:\\Users\\josep\\Documents\\Coup-RL\\Coup\\coup\\ray_results\\PPO_decentralised\\PPO_Coup_1bd85_00001_1_clip_param-0.2000-gamma-0.9000-train_batch_size-10000_2024-04-21_20-50-44\n",
      "Model 2 c:\\Users\\josep\\Documents\\Coup-RL\\Coup\\coup\\ray_results\\PPO_decentralised\\PPO_Coup_1bd85_00009_9_clip_param-0.1000-gamma-0.9000-train_batch_size-20000_2024-04-22_00-31-33\n"
     ]
    },
    {
     "name": "stderr",
     "output_type": "stream",
     "text": [
      ":actor_name:RolloutWorker\n",
      ":actor_name:RolloutWorker\n",
      ":actor_name:RolloutWorker\n",
      "2024-04-22 19:23:55,802\tERROR actor_manager.py:517 -- Ray error, taking actor 1 out of service. System error: Unknown error\n",
      "2024-04-22 19:23:55,805\tERROR actor_manager.py:517 -- Ray error, taking actor 2 out of service. System error: Unknown error\n",
      "2024-04-22 19:23:55,809\tERROR actor_manager.py:517 -- Ray error, taking actor 3 out of service. System error: Unknown error\n"
     ]
    },
    {
     "name": "stdout",
     "output_type": "stream",
     "text": [
      ":actor_name:RolloutWorker\n",
      ":actor_name:RolloutWorker\n",
      ":actor_name:RolloutWorker\n",
      "System error: Unknown error\n",
      "Model 1 c:\\Users\\josep\\Documents\\Coup-RL\\Coup\\coup\\ray_results\\PPO_decentralised\\PPO_Coup_1bd85_00002_2_clip_param-0.3000-gamma-0.9000-train_batch_size-10000_2024-04-21_21-28-22\n",
      "Model 2 c:\\Users\\josep\\Documents\\Coup-RL\\Coup\\coup\\ray_results\\PPO_decentralised\\PPO_Coup_1bd85_00000_0_clip_param-0.1000-gamma-0.9000-train_batch_size-10000_2024-04-21_20-26-53\n",
      "Model 1 c:\\Users\\josep\\Documents\\Coup-RL\\Coup\\coup\\ray_results\\PPO_decentralised\\PPO_Coup_1bd85_00002_2_clip_param-0.3000-gamma-0.9000-train_batch_size-10000_2024-04-21_21-28-22\n",
      "Model 2 c:\\Users\\josep\\Documents\\Coup-RL\\Coup\\coup\\ray_results\\PPO_decentralised\\PPO_Coup_1bd85_00001_1_clip_param-0.2000-gamma-0.9000-train_batch_size-10000_2024-04-21_20-50-44\n",
      "Model 1 c:\\Users\\josep\\Documents\\Coup-RL\\Coup\\coup\\ray_results\\PPO_decentralised\\PPO_Coup_1bd85_00002_2_clip_param-0.3000-gamma-0.9000-train_batch_size-10000_2024-04-21_21-28-22\n",
      "Model 2 c:\\Users\\josep\\Documents\\Coup-RL\\Coup\\coup\\ray_results\\PPO_decentralised\\PPO_Coup_1bd85_00002_2_clip_param-0.3000-gamma-0.9000-train_batch_size-10000_2024-04-21_21-28-22\n",
      "Model 1 c:\\Users\\josep\\Documents\\Coup-RL\\Coup\\coup\\ray_results\\PPO_decentralised\\PPO_Coup_1bd85_00002_2_clip_param-0.3000-gamma-0.9000-train_batch_size-10000_2024-04-21_21-28-22\n",
      "Model 2 c:\\Users\\josep\\Documents\\Coup-RL\\Coup\\coup\\ray_results\\PPO_decentralised\\PPO_Coup_1bd85_00003_3_clip_param-0.1000-gamma-0.9500-train_batch_size-10000_2024-04-21_21-54-16\n"
     ]
    },
    {
     "name": "stderr",
     "output_type": "stream",
     "text": [
      ":actor_name:RolloutWorker\n",
      ":actor_name:RolloutWorker\n",
      ":actor_name:RolloutWorker\n",
      "2024-04-22 19:23:56,072\tERROR actor_manager.py:517 -- Ray error, taking actor 1 out of service. System error: Unknown error\n",
      "2024-04-22 19:23:56,072\tERROR actor_manager.py:517 -- Ray error, taking actor 2 out of service. System error: Unknown error\n",
      "2024-04-22 19:23:56,075\tERROR actor_manager.py:517 -- Ray error, taking actor 3 out of service. System error: Unknown error\n"
     ]
    },
    {
     "name": "stdout",
     "output_type": "stream",
     "text": [
      ":actor_name:RolloutWorker\n",
      ":actor_name:RolloutWorker\n",
      ":actor_name:RolloutWorker\n",
      "System error: Unknown error\n",
      "Model 1 c:\\Users\\josep\\Documents\\Coup-RL\\Coup\\coup\\ray_results\\PPO_decentralised\\PPO_Coup_1bd85_00002_2_clip_param-0.3000-gamma-0.9000-train_batch_size-10000_2024-04-21_21-28-22\n",
      "Model 2 c:\\Users\\josep\\Documents\\Coup-RL\\Coup\\coup\\ray_results\\PPO_decentralised\\PPO_Coup_1bd85_00004_4_clip_param-0.2000-gamma-0.9500-train_batch_size-10000_2024-04-21_22-20-05\n"
     ]
    },
    {
     "name": "stderr",
     "output_type": "stream",
     "text": [
      ":actor_name:RolloutWorker\n",
      ":actor_name:RolloutWorker\n",
      ":actor_name:RolloutWorker\n",
      "2024-04-22 19:23:56,365\tERROR actor_manager.py:517 -- Ray error, taking actor 1 out of service. System error: Unknown error\n",
      "2024-04-22 19:23:56,365\tERROR actor_manager.py:517 -- Ray error, taking actor 2 out of service. System error: Unknown error\n",
      "2024-04-22 19:23:56,365\tERROR actor_manager.py:517 -- Ray error, taking actor 3 out of service. System error: Unknown error\n",
      ":actor_name:RolloutWorker\n"
     ]
    },
    {
     "name": "stdout",
     "output_type": "stream",
     "text": [
      ":actor_name:RolloutWorker\n",
      ":actor_name:RolloutWorker\n",
      ":actor_name:RolloutWorker\n",
      "System error: Unknown error\n",
      "Model 1 c:\\Users\\josep\\Documents\\Coup-RL\\Coup\\coup\\ray_results\\PPO_decentralised\\PPO_Coup_1bd85_00002_2_clip_param-0.3000-gamma-0.9000-train_batch_size-10000_2024-04-21_21-28-22\n",
      "Model 2 c:\\Users\\josep\\Documents\\Coup-RL\\Coup\\coup\\ray_results\\PPO_decentralised\\PPO_Coup_1bd85_00005_5_clip_param-0.3000-gamma-0.9500-train_batch_size-10000_2024-04-21_22-44-47\n",
      ":actor_name:RolloutWorker\n"
     ]
    },
    {
     "name": "stderr",
     "output_type": "stream",
     "text": [
      ":actor_name:RolloutWorker\n",
      ":actor_name:RolloutWorker\n",
      "2024-04-22 19:23:56,547\tERROR actor_manager.py:517 -- Ray error, taking actor 1 out of service. System error: Unknown error\n",
      "2024-04-22 19:23:56,547\tERROR actor_manager.py:517 -- Ray error, taking actor 2 out of service. System error: Unknown error\n",
      "2024-04-22 19:23:56,547\tERROR actor_manager.py:517 -- Ray error, taking actor 3 out of service. System error: Unknown error\n",
      ":actor_name:RolloutWorker\n"
     ]
    },
    {
     "name": "stdout",
     "output_type": "stream",
     "text": [
      ":actor_name:RolloutWorker\n",
      ":actor_name:RolloutWorker\n",
      "System error: Unknown error\n",
      "Model 1 c:\\Users\\josep\\Documents\\Coup-RL\\Coup\\coup\\ray_results\\PPO_decentralised\\PPO_Coup_1bd85_00002_2_clip_param-0.3000-gamma-0.9000-train_batch_size-10000_2024-04-21_21-28-22\n",
      "Model 2 c:\\Users\\josep\\Documents\\Coup-RL\\Coup\\coup\\ray_results\\PPO_decentralised\\PPO_Coup_1bd85_00006_6_clip_param-0.1000-gamma-0.9900-train_batch_size-10000_2024-04-21_23-10-35\n",
      ":actor_name:RolloutWorker\n"
     ]
    },
    {
     "name": "stderr",
     "output_type": "stream",
     "text": [
      ":actor_name:RolloutWorker\n",
      ":actor_name:RolloutWorker\n",
      "2024-04-22 19:23:56,875\tERROR actor_manager.py:517 -- Ray error, taking actor 1 out of service. System error: Unknown error\n"
     ]
    },
    {
     "name": "stdout",
     "output_type": "stream",
     "text": [
      ":actor_name:RolloutWorker\n",
      ":actor_name:RolloutWorker\n"
     ]
    },
    {
     "name": "stderr",
     "output_type": "stream",
     "text": [
      "2024-04-22 19:23:56,879\tERROR actor_manager.py:517 -- Ray error, taking actor 2 out of service. System error: Unknown error\n",
      "2024-04-22 19:23:56,881\tERROR actor_manager.py:517 -- Ray error, taking actor 3 out of service. System error: Unknown error\n",
      ":actor_name:RolloutWorker\n",
      ":actor_name:RolloutWorker\n"
     ]
    },
    {
     "name": "stdout",
     "output_type": "stream",
     "text": [
      "System error: Unknown error\n",
      "Model 1 c:\\Users\\josep\\Documents\\Coup-RL\\Coup\\coup\\ray_results\\PPO_decentralised\\PPO_Coup_1bd85_00002_2_clip_param-0.3000-gamma-0.9000-train_batch_size-10000_2024-04-21_21-28-22\n",
      "Model 2 c:\\Users\\josep\\Documents\\Coup-RL\\Coup\\coup\\ray_results\\PPO_decentralised\\PPO_Coup_1bd85_00007_7_clip_param-0.2000-gamma-0.9900-train_batch_size-10000_2024-04-21_23-37-22\n",
      ":actor_name:RolloutWorker\n",
      ":actor_name:RolloutWorker\n"
     ]
    },
    {
     "name": "stderr",
     "output_type": "stream",
     "text": [
      ":actor_name:RolloutWorker\n",
      "2024-04-22 19:23:57,116\tERROR actor_manager.py:517 -- Ray error, taking actor 1 out of service. System error: Unknown error\n",
      "2024-04-22 19:23:57,131\tERROR actor_manager.py:517 -- Ray error, taking actor 2 out of service. System error: Unknown error\n",
      "2024-04-22 19:23:57,131\tERROR actor_manager.py:517 -- Ray error, taking actor 3 out of service. System error: Unknown error\n",
      ":actor_name:RolloutWorker\n",
      ":actor_name:RolloutWorker\n",
      ":actor_name:RolloutWorker\n",
      "2024-04-22 19:23:57,289\tERROR actor_manager.py:517 -- Ray error, taking actor 1 out of service. System error: Unknown error\n"
     ]
    },
    {
     "name": "stdout",
     "output_type": "stream",
     "text": [
      ":actor_name:RolloutWorker\n",
      "System error: Unknown error\n",
      "Model 1 c:\\Users\\josep\\Documents\\Coup-RL\\Coup\\coup\\ray_results\\PPO_decentralised\\PPO_Coup_1bd85_00002_2_clip_param-0.3000-gamma-0.9000-train_batch_size-10000_2024-04-21_21-28-22\n",
      "Model 2 c:\\Users\\josep\\Documents\\Coup-RL\\Coup\\coup\\ray_results\\PPO_decentralised\\PPO_Coup_1bd85_00008_8_clip_param-0.3000-gamma-0.9900-train_batch_size-10000_2024-04-22_00-04-34\n",
      ":actor_name:RolloutWorker\n",
      ":actor_name:RolloutWorker\n",
      ":actor_name:RolloutWorker\n"
     ]
    },
    {
     "name": "stderr",
     "output_type": "stream",
     "text": [
      "2024-04-22 19:23:57,289\tERROR actor_manager.py:517 -- Ray error, taking actor 2 out of service. System error: Unknown error\n",
      "2024-04-22 19:23:57,289\tERROR actor_manager.py:517 -- Ray error, taking actor 3 out of service. System error: Unknown error\n",
      ":actor_name:RolloutWorker\n",
      ":actor_name:RolloutWorker\n"
     ]
    },
    {
     "name": "stdout",
     "output_type": "stream",
     "text": [
      "System error: Unknown error\n",
      "Model 1 c:\\Users\\josep\\Documents\\Coup-RL\\Coup\\coup\\ray_results\\PPO_decentralised\\PPO_Coup_1bd85_00002_2_clip_param-0.3000-gamma-0.9000-train_batch_size-10000_2024-04-21_21-28-22\n",
      "Model 2 c:\\Users\\josep\\Documents\\Coup-RL\\Coup\\coup\\ray_results\\PPO_decentralised\\PPO_Coup_1bd85_00009_9_clip_param-0.1000-gamma-0.9000-train_batch_size-20000_2024-04-22_00-31-33\n",
      ":actor_name:RolloutWorker\n",
      ":actor_name:RolloutWorker\n"
     ]
    },
    {
     "name": "stderr",
     "output_type": "stream",
     "text": [
      ":actor_name:RolloutWorker\n",
      "2024-04-22 19:23:57,583\tERROR actor_manager.py:517 -- Ray error, taking actor 1 out of service. System error: Unknown error\n",
      "2024-04-22 19:23:57,585\tERROR actor_manager.py:517 -- Ray error, taking actor 2 out of service. System error: Unknown error\n",
      "2024-04-22 19:23:57,585\tERROR actor_manager.py:517 -- Ray error, taking actor 3 out of service. System error: Unknown error\n"
     ]
    },
    {
     "name": "stdout",
     "output_type": "stream",
     "text": [
      ":actor_name:RolloutWorker\n",
      "System error: Unknown error\n",
      "Model 1 c:\\Users\\josep\\Documents\\Coup-RL\\Coup\\coup\\ray_results\\PPO_decentralised\\PPO_Coup_1bd85_00003_3_clip_param-0.1000-gamma-0.9500-train_batch_size-10000_2024-04-21_21-54-16\n",
      "Model 2 c:\\Users\\josep\\Documents\\Coup-RL\\Coup\\coup\\ray_results\\PPO_decentralised\\PPO_Coup_1bd85_00000_0_clip_param-0.1000-gamma-0.9000-train_batch_size-10000_2024-04-21_20-26-53\n",
      "Model 1 c:\\Users\\josep\\Documents\\Coup-RL\\Coup\\coup\\ray_results\\PPO_decentralised\\PPO_Coup_1bd85_00003_3_clip_param-0.1000-gamma-0.9500-train_batch_size-10000_2024-04-21_21-54-16\n",
      "Model 2 c:\\Users\\josep\\Documents\\Coup-RL\\Coup\\coup\\ray_results\\PPO_decentralised\\PPO_Coup_1bd85_00001_1_clip_param-0.2000-gamma-0.9000-train_batch_size-10000_2024-04-21_20-50-44\n",
      "Model 1 c:\\Users\\josep\\Documents\\Coup-RL\\Coup\\coup\\ray_results\\PPO_decentralised\\PPO_Coup_1bd85_00003_3_clip_param-0.1000-gamma-0.9500-train_batch_size-10000_2024-04-21_21-54-16\n",
      "Model 2 c:\\Users\\josep\\Documents\\Coup-RL\\Coup\\coup\\ray_results\\PPO_decentralised\\PPO_Coup_1bd85_00002_2_clip_param-0.3000-gamma-0.9000-train_batch_size-10000_2024-04-21_21-28-22\n",
      "Model 1 c:\\Users\\josep\\Documents\\Coup-RL\\Coup\\coup\\ray_results\\PPO_decentralised\\PPO_Coup_1bd85_00003_3_clip_param-0.1000-gamma-0.9500-train_batch_size-10000_2024-04-21_21-54-16\n",
      "Model 2 c:\\Users\\josep\\Documents\\Coup-RL\\Coup\\coup\\ray_results\\PPO_decentralised\\PPO_Coup_1bd85_00003_3_clip_param-0.1000-gamma-0.9500-train_batch_size-10000_2024-04-21_21-54-16\n",
      "Model 1 c:\\Users\\josep\\Documents\\Coup-RL\\Coup\\coup\\ray_results\\PPO_decentralised\\PPO_Coup_1bd85_00003_3_clip_param-0.1000-gamma-0.9500-train_batch_size-10000_2024-04-21_21-54-16\n",
      "Model 2 c:\\Users\\josep\\Documents\\Coup-RL\\Coup\\coup\\ray_results\\PPO_decentralised\\PPO_Coup_1bd85_00004_4_clip_param-0.2000-gamma-0.9500-train_batch_size-10000_2024-04-21_22-20-05\n"
     ]
    },
    {
     "name": "stderr",
     "output_type": "stream",
     "text": [
      ":actor_name:RolloutWorker\n",
      ":actor_name:RolloutWorker\n",
      ":actor_name:RolloutWorker\n",
      "2024-04-22 19:23:57,898\tERROR actor_manager.py:517 -- Ray error, taking actor 1 out of service. System error: Unknown error\n",
      "2024-04-22 19:23:57,912\tERROR actor_manager.py:517 -- Ray error, taking actor 2 out of service. System error: Unknown error\n",
      "2024-04-22 19:23:57,912\tERROR actor_manager.py:517 -- Ray error, taking actor 3 out of service. System error: Unknown error\n"
     ]
    },
    {
     "name": "stdout",
     "output_type": "stream",
     "text": [
      ":actor_name:RolloutWorker\n",
      ":actor_name:RolloutWorker\n",
      ":actor_name:RolloutWorker\n",
      "System error: Unknown error\n",
      "Model 1 c:\\Users\\josep\\Documents\\Coup-RL\\Coup\\coup\\ray_results\\PPO_decentralised\\PPO_Coup_1bd85_00003_3_clip_param-0.1000-gamma-0.9500-train_batch_size-10000_2024-04-21_21-54-16\n",
      "Model 2 c:\\Users\\josep\\Documents\\Coup-RL\\Coup\\coup\\ray_results\\PPO_decentralised\\PPO_Coup_1bd85_00005_5_clip_param-0.3000-gamma-0.9500-train_batch_size-10000_2024-04-21_22-44-47\n",
      ":actor_name:RolloutWorker\n"
     ]
    },
    {
     "name": "stderr",
     "output_type": "stream",
     "text": [
      ":actor_name:RolloutWorker\n",
      ":actor_name:RolloutWorker\n",
      ":actor_name:RolloutWorker\n",
      "2024-04-22 19:23:58,086\tERROR actor_manager.py:517 -- Ray error, taking actor 1 out of service. System error: Unknown error\n",
      "2024-04-22 19:23:58,087\tERROR actor_manager.py:517 -- Ray error, taking actor 2 out of service. System error: Unknown error\n",
      "2024-04-22 19:23:58,088\tERROR actor_manager.py:517 -- Ray error, taking actor 3 out of service. System error: Unknown error\n",
      ":actor_name:RolloutWorker\n"
     ]
    },
    {
     "name": "stdout",
     "output_type": "stream",
     "text": [
      ":actor_name:RolloutWorker\n",
      ":actor_name:RolloutWorker\n",
      "System error: Unknown error\n",
      "Model 1 c:\\Users\\josep\\Documents\\Coup-RL\\Coup\\coup\\ray_results\\PPO_decentralised\\PPO_Coup_1bd85_00003_3_clip_param-0.1000-gamma-0.9500-train_batch_size-10000_2024-04-21_21-54-16\n",
      "Model 2 c:\\Users\\josep\\Documents\\Coup-RL\\Coup\\coup\\ray_results\\PPO_decentralised\\PPO_Coup_1bd85_00006_6_clip_param-0.1000-gamma-0.9900-train_batch_size-10000_2024-04-21_23-10-35\n",
      ":actor_name:RolloutWorker\n"
     ]
    },
    {
     "name": "stderr",
     "output_type": "stream",
     "text": [
      ":actor_name:RolloutWorker\n",
      ":actor_name:RolloutWorker\n",
      "2024-04-22 19:23:58,364\tERROR actor_manager.py:517 -- Ray error, taking actor 1 out of service. System error: Unknown error\n",
      "2024-04-22 19:23:58,365\tERROR actor_manager.py:517 -- Ray error, taking actor 2 out of service. System error: Unknown error\n",
      "2024-04-22 19:23:58,366\tERROR actor_manager.py:517 -- Ray error, taking actor 3 out of service. System error: Unknown error\n"
     ]
    },
    {
     "name": "stdout",
     "output_type": "stream",
     "text": [
      ":actor_name:RolloutWorker\n",
      ":actor_name:RolloutWorker\n",
      "System error: Unknown error\n",
      "Model 1 c:\\Users\\josep\\Documents\\Coup-RL\\Coup\\coup\\ray_results\\PPO_decentralised\\PPO_Coup_1bd85_00003_3_clip_param-0.1000-gamma-0.9500-train_batch_size-10000_2024-04-21_21-54-16\n",
      "Model 2 c:\\Users\\josep\\Documents\\Coup-RL\\Coup\\coup\\ray_results\\PPO_decentralised\\PPO_Coup_1bd85_00007_7_clip_param-0.2000-gamma-0.9900-train_batch_size-10000_2024-04-21_23-37-22\n"
     ]
    },
    {
     "name": "stderr",
     "output_type": "stream",
     "text": [
      ":actor_name:RolloutWorker\n",
      ":actor_name:RolloutWorker\n",
      ":actor_name:RolloutWorker\n",
      "2024-04-22 19:23:58,603\tERROR actor_manager.py:517 -- Ray error, taking actor 1 out of service. System error: Unknown error\n",
      "2024-04-22 19:23:58,604\tERROR actor_manager.py:517 -- Ray error, taking actor 2 out of service. System error: Unknown error\n",
      "2024-04-22 19:23:58,606\tERROR actor_manager.py:517 -- Ray error, taking actor 3 out of service. System error: Unknown error\n"
     ]
    },
    {
     "name": "stdout",
     "output_type": "stream",
     "text": [
      ":actor_name:RolloutWorker\n",
      ":actor_name:RolloutWorker\n",
      ":actor_name:RolloutWorker\n",
      "System error: Unknown error\n",
      "Model 1 c:\\Users\\josep\\Documents\\Coup-RL\\Coup\\coup\\ray_results\\PPO_decentralised\\PPO_Coup_1bd85_00003_3_clip_param-0.1000-gamma-0.9500-train_batch_size-10000_2024-04-21_21-54-16\n",
      "Model 2 c:\\Users\\josep\\Documents\\Coup-RL\\Coup\\coup\\ray_results\\PPO_decentralised\\PPO_Coup_1bd85_00008_8_clip_param-0.3000-gamma-0.9900-train_batch_size-10000_2024-04-22_00-04-34\n",
      ":actor_name:RolloutWorker\n"
     ]
    },
    {
     "name": "stderr",
     "output_type": "stream",
     "text": [
      ":actor_name:RolloutWorker\n",
      ":actor_name:RolloutWorker\n",
      ":actor_name:RolloutWorker\n",
      "2024-04-22 19:23:58,782\tERROR actor_manager.py:517 -- Ray error, taking actor 1 out of service. System error: Unknown error\n",
      "2024-04-22 19:23:58,784\tERROR actor_manager.py:517 -- Ray error, taking actor 2 out of service. System error: Unknown error\n",
      "2024-04-22 19:23:58,785\tERROR actor_manager.py:517 -- Ray error, taking actor 3 out of service. System error: Unknown error\n",
      ":actor_name:RolloutWorker\n"
     ]
    },
    {
     "name": "stdout",
     "output_type": "stream",
     "text": [
      ":actor_name:RolloutWorker\n",
      ":actor_name:RolloutWorker\n",
      "System error: Unknown error\n",
      "Model 1 c:\\Users\\josep\\Documents\\Coup-RL\\Coup\\coup\\ray_results\\PPO_decentralised\\PPO_Coup_1bd85_00003_3_clip_param-0.1000-gamma-0.9500-train_batch_size-10000_2024-04-21_21-54-16\n",
      "Model 2 c:\\Users\\josep\\Documents\\Coup-RL\\Coup\\coup\\ray_results\\PPO_decentralised\\PPO_Coup_1bd85_00009_9_clip_param-0.1000-gamma-0.9000-train_batch_size-20000_2024-04-22_00-31-33\n",
      ":actor_name:RolloutWorker\n"
     ]
    },
    {
     "name": "stderr",
     "output_type": "stream",
     "text": [
      ":actor_name:RolloutWorker\n",
      ":actor_name:RolloutWorker\n",
      "2024-04-22 19:23:59,064\tERROR actor_manager.py:517 -- Ray error, taking actor 1 out of service. System error: Unknown error\n",
      "2024-04-22 19:23:59,065\tERROR actor_manager.py:517 -- Ray error, taking actor 2 out of service. System error: Unknown error\n",
      "2024-04-22 19:23:59,067\tERROR actor_manager.py:517 -- Ray error, taking actor 3 out of service. System error: Unknown error\n"
     ]
    },
    {
     "name": "stdout",
     "output_type": "stream",
     "text": [
      ":actor_name:RolloutWorker\n",
      ":actor_name:RolloutWorker\n",
      "System error: Unknown error\n",
      "Model 1 c:\\Users\\josep\\Documents\\Coup-RL\\Coup\\coup\\ray_results\\PPO_decentralised\\PPO_Coup_1bd85_00004_4_clip_param-0.2000-gamma-0.9500-train_batch_size-10000_2024-04-21_22-20-05\n",
      "Model 2 c:\\Users\\josep\\Documents\\Coup-RL\\Coup\\coup\\ray_results\\PPO_decentralised\\PPO_Coup_1bd85_00000_0_clip_param-0.1000-gamma-0.9000-train_batch_size-10000_2024-04-21_20-26-53\n",
      "Model 1 c:\\Users\\josep\\Documents\\Coup-RL\\Coup\\coup\\ray_results\\PPO_decentralised\\PPO_Coup_1bd85_00004_4_clip_param-0.2000-gamma-0.9500-train_batch_size-10000_2024-04-21_22-20-05\n",
      "Model 2 c:\\Users\\josep\\Documents\\Coup-RL\\Coup\\coup\\ray_results\\PPO_decentralised\\PPO_Coup_1bd85_00001_1_clip_param-0.2000-gamma-0.9000-train_batch_size-10000_2024-04-21_20-50-44\n",
      "Model 1 c:\\Users\\josep\\Documents\\Coup-RL\\Coup\\coup\\ray_results\\PPO_decentralised\\PPO_Coup_1bd85_00004_4_clip_param-0.2000-gamma-0.9500-train_batch_size-10000_2024-04-21_22-20-05\n",
      "Model 2 c:\\Users\\josep\\Documents\\Coup-RL\\Coup\\coup\\ray_results\\PPO_decentralised\\PPO_Coup_1bd85_00002_2_clip_param-0.3000-gamma-0.9000-train_batch_size-10000_2024-04-21_21-28-22\n",
      "Model 1 c:\\Users\\josep\\Documents\\Coup-RL\\Coup\\coup\\ray_results\\PPO_decentralised\\PPO_Coup_1bd85_00004_4_clip_param-0.2000-gamma-0.9500-train_batch_size-10000_2024-04-21_22-20-05\n",
      "Model 2 c:\\Users\\josep\\Documents\\Coup-RL\\Coup\\coup\\ray_results\\PPO_decentralised\\PPO_Coup_1bd85_00003_3_clip_param-0.1000-gamma-0.9500-train_batch_size-10000_2024-04-21_21-54-16\n",
      "Model 1 c:\\Users\\josep\\Documents\\Coup-RL\\Coup\\coup\\ray_results\\PPO_decentralised\\PPO_Coup_1bd85_00004_4_clip_param-0.2000-gamma-0.9500-train_batch_size-10000_2024-04-21_22-20-05\n",
      "Model 2 c:\\Users\\josep\\Documents\\Coup-RL\\Coup\\coup\\ray_results\\PPO_decentralised\\PPO_Coup_1bd85_00004_4_clip_param-0.2000-gamma-0.9500-train_batch_size-10000_2024-04-21_22-20-05\n",
      "Model 1 c:\\Users\\josep\\Documents\\Coup-RL\\Coup\\coup\\ray_results\\PPO_decentralised\\PPO_Coup_1bd85_00004_4_clip_param-0.2000-gamma-0.9500-train_batch_size-10000_2024-04-21_22-20-05\n",
      "Model 2 c:\\Users\\josep\\Documents\\Coup-RL\\Coup\\coup\\ray_results\\PPO_decentralised\\PPO_Coup_1bd85_00005_5_clip_param-0.3000-gamma-0.9500-train_batch_size-10000_2024-04-21_22-44-47\n",
      ":actor_name:RolloutWorker\n",
      ":actor_name:RolloutWorker\n"
     ]
    },
    {
     "name": "stderr",
     "output_type": "stream",
     "text": [
      ":actor_name:RolloutWorker\n",
      ":actor_name:RolloutWorker\n",
      ":actor_name:RolloutWorker\n",
      "2024-04-22 19:23:59,272\tERROR actor_manager.py:517 -- Ray error, taking actor 1 out of service. System error: Unknown error\n",
      "2024-04-22 19:23:59,273\tERROR actor_manager.py:517 -- Ray error, taking actor 2 out of service. System error: Unknown error\n",
      "2024-04-22 19:23:59,274\tERROR actor_manager.py:517 -- Ray error, taking actor 3 out of service. System error: Unknown error\n",
      ":actor_name:RolloutWorker\n",
      ":actor_name:RolloutWorker\n",
      ":actor_name:RolloutWorker\n"
     ]
    },
    {
     "name": "stdout",
     "output_type": "stream",
     "text": [
      ":actor_name:RolloutWorker\n",
      "System error: Unknown error\n",
      "Model 1 c:\\Users\\josep\\Documents\\Coup-RL\\Coup\\coup\\ray_results\\PPO_decentralised\\PPO_Coup_1bd85_00004_4_clip_param-0.2000-gamma-0.9500-train_batch_size-10000_2024-04-21_22-20-05\n",
      "Model 2 c:\\Users\\josep\\Documents\\Coup-RL\\Coup\\coup\\ray_results\\PPO_decentralised\\PPO_Coup_1bd85_00006_6_clip_param-0.1000-gamma-0.9900-train_batch_size-10000_2024-04-21_23-10-35\n",
      ":actor_name:RolloutWorker\n",
      ":actor_name:RolloutWorker\n",
      ":actor_name:RolloutWorker\n"
     ]
    },
    {
     "name": "stderr",
     "output_type": "stream",
     "text": [
      "2024-04-22 19:23:59,456\tERROR actor_manager.py:517 -- Ray error, taking actor 1 out of service. System error: Unknown error\n",
      "2024-04-22 19:23:59,458\tERROR actor_manager.py:517 -- Ray error, taking actor 2 out of service. System error: Unknown error\n",
      "2024-04-22 19:23:59,460\tERROR actor_manager.py:517 -- Ray error, taking actor 3 out of service. System error: Unknown error\n",
      ":actor_name:RolloutWorker\n",
      ":actor_name:RolloutWorker\n"
     ]
    },
    {
     "name": "stdout",
     "output_type": "stream",
     "text": [
      "System error: Unknown error\n",
      "Model 1 c:\\Users\\josep\\Documents\\Coup-RL\\Coup\\coup\\ray_results\\PPO_decentralised\\PPO_Coup_1bd85_00004_4_clip_param-0.2000-gamma-0.9500-train_batch_size-10000_2024-04-21_22-20-05\n",
      "Model 2 c:\\Users\\josep\\Documents\\Coup-RL\\Coup\\coup\\ray_results\\PPO_decentralised\\PPO_Coup_1bd85_00007_7_clip_param-0.2000-gamma-0.9900-train_batch_size-10000_2024-04-21_23-37-22\n",
      ":actor_name:RolloutWorker\n",
      ":actor_name:RolloutWorker\n"
     ]
    },
    {
     "name": "stderr",
     "output_type": "stream",
     "text": [
      ":actor_name:RolloutWorker\n",
      "2024-04-22 19:23:59,779\tERROR actor_manager.py:517 -- Ray error, taking actor 1 out of service. System error: Unknown error\n",
      "2024-04-22 19:23:59,780\tERROR actor_manager.py:517 -- Ray error, taking actor 2 out of service. System error: Unknown error\n",
      "2024-04-22 19:23:59,781\tERROR actor_manager.py:517 -- Ray error, taking actor 3 out of service. System error: Unknown error\n"
     ]
    },
    {
     "name": "stdout",
     "output_type": "stream",
     "text": [
      ":actor_name:RolloutWorker\n",
      "System error: Unknown error\n",
      "Model 1 c:\\Users\\josep\\Documents\\Coup-RL\\Coup\\coup\\ray_results\\PPO_decentralised\\PPO_Coup_1bd85_00004_4_clip_param-0.2000-gamma-0.9500-train_batch_size-10000_2024-04-21_22-20-05\n",
      "Model 2 c:\\Users\\josep\\Documents\\Coup-RL\\Coup\\coup\\ray_results\\PPO_decentralised\\PPO_Coup_1bd85_00008_8_clip_param-0.3000-gamma-0.9900-train_batch_size-10000_2024-04-22_00-04-34\n",
      ":actor_name:RolloutWorker\n",
      ":actor_name:RolloutWorker\n"
     ]
    },
    {
     "name": "stderr",
     "output_type": "stream",
     "text": [
      ":actor_name:RolloutWorker\n",
      ":actor_name:RolloutWorker\n",
      ":actor_name:RolloutWorker\n",
      "2024-04-22 19:24:00,025\tERROR actor_manager.py:517 -- Ray error, taking actor 1 out of service. System error: Unknown error\n",
      "2024-04-22 19:24:00,026\tERROR actor_manager.py:517 -- Ray error, taking actor 2 out of service. System error: Unknown error\n",
      "2024-04-22 19:24:00,026\tERROR actor_manager.py:517 -- Ray error, taking actor 3 out of service. System error: Unknown error\n",
      ":actor_name:RolloutWorker\n"
     ]
    },
    {
     "name": "stdout",
     "output_type": "stream",
     "text": [
      ":actor_name:RolloutWorker\n",
      "System error: Unknown error\n",
      "Model 1 c:\\Users\\josep\\Documents\\Coup-RL\\Coup\\coup\\ray_results\\PPO_decentralised\\PPO_Coup_1bd85_00004_4_clip_param-0.2000-gamma-0.9500-train_batch_size-10000_2024-04-21_22-20-05\n",
      "Model 2 c:\\Users\\josep\\Documents\\Coup-RL\\Coup\\coup\\ray_results\\PPO_decentralised\\PPO_Coup_1bd85_00009_9_clip_param-0.1000-gamma-0.9000-train_batch_size-20000_2024-04-22_00-31-33\n",
      ":actor_name:RolloutWorker\n",
      ":actor_name:RolloutWorker\n",
      ":actor_name:RolloutWorker\n"
     ]
    },
    {
     "name": "stderr",
     "output_type": "stream",
     "text": [
      ":actor_name:RolloutWorker\n",
      ":actor_name:RolloutWorker\n",
      "2024-04-22 19:24:00,258\tERROR actor_manager.py:517 -- Ray error, taking actor 1 out of service. System error: Unknown error\n",
      "2024-04-22 19:24:00,259\tERROR actor_manager.py:517 -- Ray error, taking actor 2 out of service. System error: Unknown error\n",
      "2024-04-22 19:24:00,260\tERROR actor_manager.py:517 -- Ray error, taking actor 3 out of service. System error: Unknown error\n"
     ]
    },
    {
     "name": "stdout",
     "output_type": "stream",
     "text": [
      "System error: Unknown error\n",
      "Model 1 c:\\Users\\josep\\Documents\\Coup-RL\\Coup\\coup\\ray_results\\PPO_decentralised\\PPO_Coup_1bd85_00005_5_clip_param-0.3000-gamma-0.9500-train_batch_size-10000_2024-04-21_22-44-47\n",
      "Model 2 c:\\Users\\josep\\Documents\\Coup-RL\\Coup\\coup\\ray_results\\PPO_decentralised\\PPO_Coup_1bd85_00000_0_clip_param-0.1000-gamma-0.9000-train_batch_size-10000_2024-04-21_20-26-53\n",
      "Model 1 c:\\Users\\josep\\Documents\\Coup-RL\\Coup\\coup\\ray_results\\PPO_decentralised\\PPO_Coup_1bd85_00005_5_clip_param-0.3000-gamma-0.9500-train_batch_size-10000_2024-04-21_22-44-47\n",
      "Model 2 c:\\Users\\josep\\Documents\\Coup-RL\\Coup\\coup\\ray_results\\PPO_decentralised\\PPO_Coup_1bd85_00001_1_clip_param-0.2000-gamma-0.9000-train_batch_size-10000_2024-04-21_20-50-44\n",
      "Model 1 c:\\Users\\josep\\Documents\\Coup-RL\\Coup\\coup\\ray_results\\PPO_decentralised\\PPO_Coup_1bd85_00005_5_clip_param-0.3000-gamma-0.9500-train_batch_size-10000_2024-04-21_22-44-47\n",
      "Model 2 c:\\Users\\josep\\Documents\\Coup-RL\\Coup\\coup\\ray_results\\PPO_decentralised\\PPO_Coup_1bd85_00002_2_clip_param-0.3000-gamma-0.9000-train_batch_size-10000_2024-04-21_21-28-22\n",
      "Model 1 c:\\Users\\josep\\Documents\\Coup-RL\\Coup\\coup\\ray_results\\PPO_decentralised\\PPO_Coup_1bd85_00005_5_clip_param-0.3000-gamma-0.9500-train_batch_size-10000_2024-04-21_22-44-47\n",
      "Model 2 c:\\Users\\josep\\Documents\\Coup-RL\\Coup\\coup\\ray_results\\PPO_decentralised\\PPO_Coup_1bd85_00003_3_clip_param-0.1000-gamma-0.9500-train_batch_size-10000_2024-04-21_21-54-16\n",
      "Model 1 c:\\Users\\josep\\Documents\\Coup-RL\\Coup\\coup\\ray_results\\PPO_decentralised\\PPO_Coup_1bd85_00005_5_clip_param-0.3000-gamma-0.9500-train_batch_size-10000_2024-04-21_22-44-47\n",
      "Model 2 c:\\Users\\josep\\Documents\\Coup-RL\\Coup\\coup\\ray_results\\PPO_decentralised\\PPO_Coup_1bd85_00004_4_clip_param-0.2000-gamma-0.9500-train_batch_size-10000_2024-04-21_22-20-05\n",
      "Model 1 c:\\Users\\josep\\Documents\\Coup-RL\\Coup\\coup\\ray_results\\PPO_decentralised\\PPO_Coup_1bd85_00005_5_clip_param-0.3000-gamma-0.9500-train_batch_size-10000_2024-04-21_22-44-47\n",
      "Model 2 c:\\Users\\josep\\Documents\\Coup-RL\\Coup\\coup\\ray_results\\PPO_decentralised\\PPO_Coup_1bd85_00005_5_clip_param-0.3000-gamma-0.9500-train_batch_size-10000_2024-04-21_22-44-47\n",
      "Model 1 c:\\Users\\josep\\Documents\\Coup-RL\\Coup\\coup\\ray_results\\PPO_decentralised\\PPO_Coup_1bd85_00005_5_clip_param-0.3000-gamma-0.9500-train_batch_size-10000_2024-04-21_22-44-47\n",
      "Model 2 c:\\Users\\josep\\Documents\\Coup-RL\\Coup\\coup\\ray_results\\PPO_decentralised\\PPO_Coup_1bd85_00006_6_clip_param-0.1000-gamma-0.9900-train_batch_size-10000_2024-04-21_23-10-35\n",
      ":actor_name:RolloutWorker\n",
      ":actor_name:RolloutWorker\n",
      ":actor_name:RolloutWorker\n"
     ]
    },
    {
     "name": "stderr",
     "output_type": "stream",
     "text": [
      ":actor_name:RolloutWorker\n",
      ":actor_name:RolloutWorker\n",
      ":actor_name:RolloutWorker\n",
      "2024-04-22 19:24:00,868\tERROR actor_manager.py:517 -- Ray error, taking actor 1 out of service. System error: Unknown error\n",
      "2024-04-22 19:24:00,871\tERROR actor_manager.py:517 -- Ray error, taking actor 2 out of service. System error: Unknown error\n",
      "2024-04-22 19:24:00,873\tERROR actor_manager.py:517 -- Ray error, taking actor 3 out of service. System error: Unknown error\n",
      ":actor_name:RolloutWorker\n",
      ":actor_name:RolloutWorker\n"
     ]
    },
    {
     "name": "stdout",
     "output_type": "stream",
     "text": [
      "System error: Unknown error\n",
      "Model 1 c:\\Users\\josep\\Documents\\Coup-RL\\Coup\\coup\\ray_results\\PPO_decentralised\\PPO_Coup_1bd85_00005_5_clip_param-0.3000-gamma-0.9500-train_batch_size-10000_2024-04-21_22-44-47\n",
      "Model 2 c:\\Users\\josep\\Documents\\Coup-RL\\Coup\\coup\\ray_results\\PPO_decentralised\\PPO_Coup_1bd85_00007_7_clip_param-0.2000-gamma-0.9900-train_batch_size-10000_2024-04-21_23-37-22\n",
      ":actor_name:RolloutWorker\n",
      ":actor_name:RolloutWorker\n"
     ]
    },
    {
     "name": "stderr",
     "output_type": "stream",
     "text": [
      ":actor_name:RolloutWorker\n",
      "2024-04-22 19:24:01,247\tERROR actor_manager.py:517 -- Ray error, taking actor 1 out of service. System error: Unknown error\n",
      "2024-04-22 19:24:01,248\tERROR actor_manager.py:517 -- Ray error, taking actor 2 out of service. System error: Unknown error\n",
      "2024-04-22 19:24:01,249\tERROR actor_manager.py:517 -- Ray error, taking actor 3 out of service. System error: Unknown error\n"
     ]
    },
    {
     "name": "stdout",
     "output_type": "stream",
     "text": [
      ":actor_name:RolloutWorker\n",
      "System error: Unknown error\n",
      "Model 1 c:\\Users\\josep\\Documents\\Coup-RL\\Coup\\coup\\ray_results\\PPO_decentralised\\PPO_Coup_1bd85_00005_5_clip_param-0.3000-gamma-0.9500-train_batch_size-10000_2024-04-21_22-44-47\n",
      "Model 2 c:\\Users\\josep\\Documents\\Coup-RL\\Coup\\coup\\ray_results\\PPO_decentralised\\PPO_Coup_1bd85_00008_8_clip_param-0.3000-gamma-0.9900-train_batch_size-10000_2024-04-22_00-04-34\n",
      ":actor_name:RolloutWorker\n",
      ":actor_name:RolloutWorker\n",
      ":actor_name:RolloutWorker\n"
     ]
    },
    {
     "name": "stderr",
     "output_type": "stream",
     "text": [
      ":actor_name:RolloutWorker\n",
      ":actor_name:RolloutWorker\n",
      ":actor_name:RolloutWorker\n",
      "2024-04-22 19:24:01,435\tERROR actor_manager.py:517 -- Ray error, taking actor 1 out of service. System error: Unknown error\n",
      "2024-04-22 19:24:01,449\tERROR actor_manager.py:517 -- Ray error, taking actor 2 out of service. System error: Unknown error\n",
      "2024-04-22 19:24:01,451\tERROR actor_manager.py:517 -- Ray error, taking actor 3 out of service. System error: Unknown error\n",
      ":actor_name:RolloutWorker\n",
      ":actor_name:RolloutWorker\n",
      ":actor_name:RolloutWorker\n"
     ]
    },
    {
     "name": "stdout",
     "output_type": "stream",
     "text": [
      "System error: Unknown error\n",
      "Model 1 c:\\Users\\josep\\Documents\\Coup-RL\\Coup\\coup\\ray_results\\PPO_decentralised\\PPO_Coup_1bd85_00005_5_clip_param-0.3000-gamma-0.9500-train_batch_size-10000_2024-04-21_22-44-47\n",
      "Model 2 c:\\Users\\josep\\Documents\\Coup-RL\\Coup\\coup\\ray_results\\PPO_decentralised\\PPO_Coup_1bd85_00009_9_clip_param-0.1000-gamma-0.9000-train_batch_size-20000_2024-04-22_00-31-33\n",
      ":actor_name:RolloutWorker\n",
      ":actor_name:RolloutWorker\n",
      ":actor_name:RolloutWorker\n"
     ]
    },
    {
     "name": "stderr",
     "output_type": "stream",
     "text": [
      "2024-04-22 19:24:01,660\tERROR actor_manager.py:517 -- Ray error, taking actor 1 out of service. System error: Unknown error\n",
      "2024-04-22 19:24:01,671\tERROR actor_manager.py:517 -- Ray error, taking actor 2 out of service. System error: Unknown error\n",
      "2024-04-22 19:24:01,671\tERROR actor_manager.py:517 -- Ray error, taking actor 3 out of service. System error: Unknown error\n",
      ":actor_name:RolloutWorker\n"
     ]
    },
    {
     "name": "stdout",
     "output_type": "stream",
     "text": [
      "System error: Unknown error\n",
      "Model 1 c:\\Users\\josep\\Documents\\Coup-RL\\Coup\\coup\\ray_results\\PPO_decentralised\\PPO_Coup_1bd85_00006_6_clip_param-0.1000-gamma-0.9900-train_batch_size-10000_2024-04-21_23-10-35\n",
      "Model 2 c:\\Users\\josep\\Documents\\Coup-RL\\Coup\\coup\\ray_results\\PPO_decentralised\\PPO_Coup_1bd85_00000_0_clip_param-0.1000-gamma-0.9000-train_batch_size-10000_2024-04-21_20-26-53\n",
      "Model 1 c:\\Users\\josep\\Documents\\Coup-RL\\Coup\\coup\\ray_results\\PPO_decentralised\\PPO_Coup_1bd85_00006_6_clip_param-0.1000-gamma-0.9900-train_batch_size-10000_2024-04-21_23-10-35\n",
      "Model 2 c:\\Users\\josep\\Documents\\Coup-RL\\Coup\\coup\\ray_results\\PPO_decentralised\\PPO_Coup_1bd85_00001_1_clip_param-0.2000-gamma-0.9000-train_batch_size-10000_2024-04-21_20-50-44\n",
      "Model 1 c:\\Users\\josep\\Documents\\Coup-RL\\Coup\\coup\\ray_results\\PPO_decentralised\\PPO_Coup_1bd85_00006_6_clip_param-0.1000-gamma-0.9900-train_batch_size-10000_2024-04-21_23-10-35\n",
      "Model 2 c:\\Users\\josep\\Documents\\Coup-RL\\Coup\\coup\\ray_results\\PPO_decentralised\\PPO_Coup_1bd85_00002_2_clip_param-0.3000-gamma-0.9000-train_batch_size-10000_2024-04-21_21-28-22\n",
      "Model 1 c:\\Users\\josep\\Documents\\Coup-RL\\Coup\\coup\\ray_results\\PPO_decentralised\\PPO_Coup_1bd85_00006_6_clip_param-0.1000-gamma-0.9900-train_batch_size-10000_2024-04-21_23-10-35\n",
      "Model 2 c:\\Users\\josep\\Documents\\Coup-RL\\Coup\\coup\\ray_results\\PPO_decentralised\\PPO_Coup_1bd85_00003_3_clip_param-0.1000-gamma-0.9500-train_batch_size-10000_2024-04-21_21-54-16\n",
      "Model 1 c:\\Users\\josep\\Documents\\Coup-RL\\Coup\\coup\\ray_results\\PPO_decentralised\\PPO_Coup_1bd85_00006_6_clip_param-0.1000-gamma-0.9900-train_batch_size-10000_2024-04-21_23-10-35\n",
      "Model 2 c:\\Users\\josep\\Documents\\Coup-RL\\Coup\\coup\\ray_results\\PPO_decentralised\\PPO_Coup_1bd85_00004_4_clip_param-0.2000-gamma-0.9500-train_batch_size-10000_2024-04-21_22-20-05\n",
      "Model 1 c:\\Users\\josep\\Documents\\Coup-RL\\Coup\\coup\\ray_results\\PPO_decentralised\\PPO_Coup_1bd85_00006_6_clip_param-0.1000-gamma-0.9900-train_batch_size-10000_2024-04-21_23-10-35\n",
      "Model 2 c:\\Users\\josep\\Documents\\Coup-RL\\Coup\\coup\\ray_results\\PPO_decentralised\\PPO_Coup_1bd85_00005_5_clip_param-0.3000-gamma-0.9500-train_batch_size-10000_2024-04-21_22-44-47\n",
      "Model 1 c:\\Users\\josep\\Documents\\Coup-RL\\Coup\\coup\\ray_results\\PPO_decentralised\\PPO_Coup_1bd85_00006_6_clip_param-0.1000-gamma-0.9900-train_batch_size-10000_2024-04-21_23-10-35\n",
      "Model 2 c:\\Users\\josep\\Documents\\Coup-RL\\Coup\\coup\\ray_results\\PPO_decentralised\\PPO_Coup_1bd85_00006_6_clip_param-0.1000-gamma-0.9900-train_batch_size-10000_2024-04-21_23-10-35\n",
      "Model 1 c:\\Users\\josep\\Documents\\Coup-RL\\Coup\\coup\\ray_results\\PPO_decentralised\\PPO_Coup_1bd85_00006_6_clip_param-0.1000-gamma-0.9900-train_batch_size-10000_2024-04-21_23-10-35\n",
      "Model 2 c:\\Users\\josep\\Documents\\Coup-RL\\Coup\\coup\\ray_results\\PPO_decentralised\\PPO_Coup_1bd85_00007_7_clip_param-0.2000-gamma-0.9900-train_batch_size-10000_2024-04-21_23-37-22\n",
      ":actor_name:RolloutWorker\n"
     ]
    },
    {
     "name": "stderr",
     "output_type": "stream",
     "text": [
      ":actor_name:RolloutWorker\n",
      ":actor_name:RolloutWorker\n",
      "2024-04-22 19:24:02,006\tERROR actor_manager.py:517 -- Ray error, taking actor 1 out of service. System error: Unknown error\n",
      "2024-04-22 19:24:02,007\tERROR actor_manager.py:517 -- Ray error, taking actor 2 out of service. System error: Unknown error\n",
      "2024-04-22 19:24:02,008\tERROR actor_manager.py:517 -- Ray error, taking actor 3 out of service. System error: Unknown error\n"
     ]
    },
    {
     "name": "stdout",
     "output_type": "stream",
     "text": [
      ":actor_name:RolloutWorker\n",
      ":actor_name:RolloutWorker\n",
      "System error: Unknown error\n",
      "Model 1 c:\\Users\\josep\\Documents\\Coup-RL\\Coup\\coup\\ray_results\\PPO_decentralised\\PPO_Coup_1bd85_00006_6_clip_param-0.1000-gamma-0.9900-train_batch_size-10000_2024-04-21_23-10-35\n",
      "Model 2 c:\\Users\\josep\\Documents\\Coup-RL\\Coup\\coup\\ray_results\\PPO_decentralised\\PPO_Coup_1bd85_00008_8_clip_param-0.3000-gamma-0.9900-train_batch_size-10000_2024-04-22_00-04-34\n",
      ":actor_name:RolloutWorker\n",
      ":actor_name:RolloutWorker\n"
     ]
    },
    {
     "name": "stderr",
     "output_type": "stream",
     "text": [
      ":actor_name:RolloutWorker\n",
      ":actor_name:RolloutWorker\n",
      ":actor_name:RolloutWorker\n",
      "2024-04-22 19:24:02,190\tERROR actor_manager.py:517 -- Ray error, taking actor 1 out of service. System error: Unknown error\n",
      "2024-04-22 19:24:02,191\tERROR actor_manager.py:517 -- Ray error, taking actor 2 out of service. System error: Unknown error\n",
      "2024-04-22 19:24:02,193\tERROR actor_manager.py:517 -- Ray error, taking actor 3 out of service. System error: Unknown error\n",
      ":actor_name:RolloutWorker\n"
     ]
    },
    {
     "name": "stdout",
     "output_type": "stream",
     "text": [
      ":actor_name:RolloutWorker\n",
      "System error: Unknown error\n",
      "Model 1 c:\\Users\\josep\\Documents\\Coup-RL\\Coup\\coup\\ray_results\\PPO_decentralised\\PPO_Coup_1bd85_00006_6_clip_param-0.1000-gamma-0.9900-train_batch_size-10000_2024-04-21_23-10-35\n",
      "Model 2 c:\\Users\\josep\\Documents\\Coup-RL\\Coup\\coup\\ray_results\\PPO_decentralised\\PPO_Coup_1bd85_00009_9_clip_param-0.1000-gamma-0.9000-train_batch_size-20000_2024-04-22_00-31-33\n",
      ":actor_name:RolloutWorker\n",
      ":actor_name:RolloutWorker\n"
     ]
    },
    {
     "name": "stderr",
     "output_type": "stream",
     "text": [
      ":actor_name:RolloutWorker\n",
      ":actor_name:RolloutWorker\n",
      "2024-04-22 19:24:02,418\tERROR actor_manager.py:517 -- Ray error, taking actor 1 out of service. System error: Unknown error\n",
      "2024-04-22 19:24:02,420\tERROR actor_manager.py:517 -- Ray error, taking actor 2 out of service. System error: Unknown error\n",
      "2024-04-22 19:24:02,423\tERROR actor_manager.py:517 -- Ray error, taking actor 3 out of service. System error: Unknown error\n"
     ]
    },
    {
     "name": "stdout",
     "output_type": "stream",
     "text": [
      ":actor_name:RolloutWorker\n",
      "System error: Unknown error\n",
      "Model 1 c:\\Users\\josep\\Documents\\Coup-RL\\Coup\\coup\\ray_results\\PPO_decentralised\\PPO_Coup_1bd85_00007_7_clip_param-0.2000-gamma-0.9900-train_batch_size-10000_2024-04-21_23-37-22\n",
      "Model 2 c:\\Users\\josep\\Documents\\Coup-RL\\Coup\\coup\\ray_results\\PPO_decentralised\\PPO_Coup_1bd85_00000_0_clip_param-0.1000-gamma-0.9000-train_batch_size-10000_2024-04-21_20-26-53\n",
      "Model 1 c:\\Users\\josep\\Documents\\Coup-RL\\Coup\\coup\\ray_results\\PPO_decentralised\\PPO_Coup_1bd85_00007_7_clip_param-0.2000-gamma-0.9900-train_batch_size-10000_2024-04-21_23-37-22\n",
      "Model 2 c:\\Users\\josep\\Documents\\Coup-RL\\Coup\\coup\\ray_results\\PPO_decentralised\\PPO_Coup_1bd85_00001_1_clip_param-0.2000-gamma-0.9000-train_batch_size-10000_2024-04-21_20-50-44\n",
      "Model 1 c:\\Users\\josep\\Documents\\Coup-RL\\Coup\\coup\\ray_results\\PPO_decentralised\\PPO_Coup_1bd85_00007_7_clip_param-0.2000-gamma-0.9900-train_batch_size-10000_2024-04-21_23-37-22\n",
      "Model 2 c:\\Users\\josep\\Documents\\Coup-RL\\Coup\\coup\\ray_results\\PPO_decentralised\\PPO_Coup_1bd85_00002_2_clip_param-0.3000-gamma-0.9000-train_batch_size-10000_2024-04-21_21-28-22\n",
      "Model 1 c:\\Users\\josep\\Documents\\Coup-RL\\Coup\\coup\\ray_results\\PPO_decentralised\\PPO_Coup_1bd85_00007_7_clip_param-0.2000-gamma-0.9900-train_batch_size-10000_2024-04-21_23-37-22\n",
      "Model 2 c:\\Users\\josep\\Documents\\Coup-RL\\Coup\\coup\\ray_results\\PPO_decentralised\\PPO_Coup_1bd85_00003_3_clip_param-0.1000-gamma-0.9500-train_batch_size-10000_2024-04-21_21-54-16\n",
      "Model 1 c:\\Users\\josep\\Documents\\Coup-RL\\Coup\\coup\\ray_results\\PPO_decentralised\\PPO_Coup_1bd85_00007_7_clip_param-0.2000-gamma-0.9900-train_batch_size-10000_2024-04-21_23-37-22\n",
      "Model 2 c:\\Users\\josep\\Documents\\Coup-RL\\Coup\\coup\\ray_results\\PPO_decentralised\\PPO_Coup_1bd85_00004_4_clip_param-0.2000-gamma-0.9500-train_batch_size-10000_2024-04-21_22-20-05\n",
      "Model 1 c:\\Users\\josep\\Documents\\Coup-RL\\Coup\\coup\\ray_results\\PPO_decentralised\\PPO_Coup_1bd85_00007_7_clip_param-0.2000-gamma-0.9900-train_batch_size-10000_2024-04-21_23-37-22\n",
      "Model 2 c:\\Users\\josep\\Documents\\Coup-RL\\Coup\\coup\\ray_results\\PPO_decentralised\\PPO_Coup_1bd85_00005_5_clip_param-0.3000-gamma-0.9500-train_batch_size-10000_2024-04-21_22-44-47\n",
      "Model 1 c:\\Users\\josep\\Documents\\Coup-RL\\Coup\\coup\\ray_results\\PPO_decentralised\\PPO_Coup_1bd85_00007_7_clip_param-0.2000-gamma-0.9900-train_batch_size-10000_2024-04-21_23-37-22\n",
      "Model 2 c:\\Users\\josep\\Documents\\Coup-RL\\Coup\\coup\\ray_results\\PPO_decentralised\\PPO_Coup_1bd85_00006_6_clip_param-0.1000-gamma-0.9900-train_batch_size-10000_2024-04-21_23-10-35\n",
      "Model 1 c:\\Users\\josep\\Documents\\Coup-RL\\Coup\\coup\\ray_results\\PPO_decentralised\\PPO_Coup_1bd85_00007_7_clip_param-0.2000-gamma-0.9900-train_batch_size-10000_2024-04-21_23-37-22\n",
      "Model 2 c:\\Users\\josep\\Documents\\Coup-RL\\Coup\\coup\\ray_results\\PPO_decentralised\\PPO_Coup_1bd85_00007_7_clip_param-0.2000-gamma-0.9900-train_batch_size-10000_2024-04-21_23-37-22\n",
      "Model 1 c:\\Users\\josep\\Documents\\Coup-RL\\Coup\\coup\\ray_results\\PPO_decentralised\\PPO_Coup_1bd85_00007_7_clip_param-0.2000-gamma-0.9900-train_batch_size-10000_2024-04-21_23-37-22\n",
      "Model 2 c:\\Users\\josep\\Documents\\Coup-RL\\Coup\\coup\\ray_results\\PPO_decentralised\\PPO_Coup_1bd85_00008_8_clip_param-0.3000-gamma-0.9900-train_batch_size-10000_2024-04-22_00-04-34\n"
     ]
    },
    {
     "name": "stderr",
     "output_type": "stream",
     "text": [
      ":actor_name:RolloutWorker\n",
      ":actor_name:RolloutWorker\n",
      ":actor_name:RolloutWorker\n",
      "2024-04-22 19:24:02,768\tERROR actor_manager.py:517 -- Ray error, taking actor 1 out of service. System error: Unknown error\n",
      "2024-04-22 19:24:02,770\tERROR actor_manager.py:517 -- Ray error, taking actor 2 out of service. System error: Unknown error\n",
      "2024-04-22 19:24:02,771\tERROR actor_manager.py:517 -- Ray error, taking actor 3 out of service. System error: Unknown error\n"
     ]
    },
    {
     "name": "stdout",
     "output_type": "stream",
     "text": [
      ":actor_name:RolloutWorker\n",
      ":actor_name:RolloutWorker\n",
      ":actor_name:RolloutWorker\n",
      "System error: Unknown error\n",
      "Model 1 c:\\Users\\josep\\Documents\\Coup-RL\\Coup\\coup\\ray_results\\PPO_decentralised\\PPO_Coup_1bd85_00007_7_clip_param-0.2000-gamma-0.9900-train_batch_size-10000_2024-04-21_23-37-22\n",
      "Model 2 c:\\Users\\josep\\Documents\\Coup-RL\\Coup\\coup\\ray_results\\PPO_decentralised\\PPO_Coup_1bd85_00009_9_clip_param-0.1000-gamma-0.9000-train_batch_size-20000_2024-04-22_00-31-33\n"
     ]
    },
    {
     "name": "stderr",
     "output_type": "stream",
     "text": [
      ":actor_name:RolloutWorker\n",
      ":actor_name:RolloutWorker\n",
      ":actor_name:RolloutWorker\n",
      "2024-04-22 19:24:03,032\tERROR actor_manager.py:517 -- Ray error, taking actor 1 out of service. System error: Unknown error\n",
      "2024-04-22 19:24:03,034\tERROR actor_manager.py:517 -- Ray error, taking actor 2 out of service. System error: Unknown error\n",
      "2024-04-22 19:24:03,035\tERROR actor_manager.py:517 -- Ray error, taking actor 3 out of service. System error: Unknown error\n"
     ]
    },
    {
     "name": "stdout",
     "output_type": "stream",
     "text": [
      ":actor_name:RolloutWorker\n",
      ":actor_name:RolloutWorker\n",
      ":actor_name:RolloutWorker\n",
      "System error: Unknown error\n",
      "Model 1 c:\\Users\\josep\\Documents\\Coup-RL\\Coup\\coup\\ray_results\\PPO_decentralised\\PPO_Coup_1bd85_00008_8_clip_param-0.3000-gamma-0.9900-train_batch_size-10000_2024-04-22_00-04-34\n",
      "Model 2 c:\\Users\\josep\\Documents\\Coup-RL\\Coup\\coup\\ray_results\\PPO_decentralised\\PPO_Coup_1bd85_00000_0_clip_param-0.1000-gamma-0.9000-train_batch_size-10000_2024-04-21_20-26-53\n",
      "Model 1 c:\\Users\\josep\\Documents\\Coup-RL\\Coup\\coup\\ray_results\\PPO_decentralised\\PPO_Coup_1bd85_00008_8_clip_param-0.3000-gamma-0.9900-train_batch_size-10000_2024-04-22_00-04-34\n",
      "Model 2 c:\\Users\\josep\\Documents\\Coup-RL\\Coup\\coup\\ray_results\\PPO_decentralised\\PPO_Coup_1bd85_00001_1_clip_param-0.2000-gamma-0.9000-train_batch_size-10000_2024-04-21_20-50-44\n",
      "Model 1 c:\\Users\\josep\\Documents\\Coup-RL\\Coup\\coup\\ray_results\\PPO_decentralised\\PPO_Coup_1bd85_00008_8_clip_param-0.3000-gamma-0.9900-train_batch_size-10000_2024-04-22_00-04-34\n",
      "Model 2 c:\\Users\\josep\\Documents\\Coup-RL\\Coup\\coup\\ray_results\\PPO_decentralised\\PPO_Coup_1bd85_00002_2_clip_param-0.3000-gamma-0.9000-train_batch_size-10000_2024-04-21_21-28-22\n",
      "Model 1 c:\\Users\\josep\\Documents\\Coup-RL\\Coup\\coup\\ray_results\\PPO_decentralised\\PPO_Coup_1bd85_00008_8_clip_param-0.3000-gamma-0.9900-train_batch_size-10000_2024-04-22_00-04-34\n",
      "Model 2 c:\\Users\\josep\\Documents\\Coup-RL\\Coup\\coup\\ray_results\\PPO_decentralised\\PPO_Coup_1bd85_00003_3_clip_param-0.1000-gamma-0.9500-train_batch_size-10000_2024-04-21_21-54-16\n",
      "Model 1 c:\\Users\\josep\\Documents\\Coup-RL\\Coup\\coup\\ray_results\\PPO_decentralised\\PPO_Coup_1bd85_00008_8_clip_param-0.3000-gamma-0.9900-train_batch_size-10000_2024-04-22_00-04-34\n",
      "Model 2 c:\\Users\\josep\\Documents\\Coup-RL\\Coup\\coup\\ray_results\\PPO_decentralised\\PPO_Coup_1bd85_00004_4_clip_param-0.2000-gamma-0.9500-train_batch_size-10000_2024-04-21_22-20-05\n",
      "Model 1 c:\\Users\\josep\\Documents\\Coup-RL\\Coup\\coup\\ray_results\\PPO_decentralised\\PPO_Coup_1bd85_00008_8_clip_param-0.3000-gamma-0.9900-train_batch_size-10000_2024-04-22_00-04-34\n",
      "Model 2 c:\\Users\\josep\\Documents\\Coup-RL\\Coup\\coup\\ray_results\\PPO_decentralised\\PPO_Coup_1bd85_00005_5_clip_param-0.3000-gamma-0.9500-train_batch_size-10000_2024-04-21_22-44-47\n",
      "Model 1 c:\\Users\\josep\\Documents\\Coup-RL\\Coup\\coup\\ray_results\\PPO_decentralised\\PPO_Coup_1bd85_00008_8_clip_param-0.3000-gamma-0.9900-train_batch_size-10000_2024-04-22_00-04-34\n",
      "Model 2 c:\\Users\\josep\\Documents\\Coup-RL\\Coup\\coup\\ray_results\\PPO_decentralised\\PPO_Coup_1bd85_00006_6_clip_param-0.1000-gamma-0.9900-train_batch_size-10000_2024-04-21_23-10-35\n",
      "Model 1 c:\\Users\\josep\\Documents\\Coup-RL\\Coup\\coup\\ray_results\\PPO_decentralised\\PPO_Coup_1bd85_00008_8_clip_param-0.3000-gamma-0.9900-train_batch_size-10000_2024-04-22_00-04-34\n",
      "Model 2 c:\\Users\\josep\\Documents\\Coup-RL\\Coup\\coup\\ray_results\\PPO_decentralised\\PPO_Coup_1bd85_00007_7_clip_param-0.2000-gamma-0.9900-train_batch_size-10000_2024-04-21_23-37-22\n",
      "Model 1 c:\\Users\\josep\\Documents\\Coup-RL\\Coup\\coup\\ray_results\\PPO_decentralised\\PPO_Coup_1bd85_00008_8_clip_param-0.3000-gamma-0.9900-train_batch_size-10000_2024-04-22_00-04-34\n",
      "Model 2 c:\\Users\\josep\\Documents\\Coup-RL\\Coup\\coup\\ray_results\\PPO_decentralised\\PPO_Coup_1bd85_00008_8_clip_param-0.3000-gamma-0.9900-train_batch_size-10000_2024-04-22_00-04-34\n",
      "Model 1 c:\\Users\\josep\\Documents\\Coup-RL\\Coup\\coup\\ray_results\\PPO_decentralised\\PPO_Coup_1bd85_00008_8_clip_param-0.3000-gamma-0.9900-train_batch_size-10000_2024-04-22_00-04-34\n",
      "Model 2 c:\\Users\\josep\\Documents\\Coup-RL\\Coup\\coup\\ray_results\\PPO_decentralised\\PPO_Coup_1bd85_00009_9_clip_param-0.1000-gamma-0.9000-train_batch_size-20000_2024-04-22_00-31-33\n"
     ]
    },
    {
     "name": "stderr",
     "output_type": "stream",
     "text": [
      ":actor_name:RolloutWorker\n",
      ":actor_name:RolloutWorker\n",
      ":actor_name:RolloutWorker\n"
     ]
    },
    {
     "name": "stdout",
     "output_type": "stream",
     "text": [
      ":actor_name:RolloutWorker\n",
      ":actor_name:RolloutWorker\n",
      ":actor_name:RolloutWorker\n"
     ]
    },
    {
     "name": "stderr",
     "output_type": "stream",
     "text": [
      "2024-04-22 19:24:03,362\tERROR actor_manager.py:517 -- Ray error, taking actor 1 out of service. System error: Unknown error\n",
      "2024-04-22 19:24:03,365\tERROR actor_manager.py:517 -- Ray error, taking actor 2 out of service. System error: Unknown error\n",
      "2024-04-22 19:24:03,366\tERROR actor_manager.py:517 -- Ray error, taking actor 3 out of service. System error: Unknown error\n"
     ]
    },
    {
     "name": "stdout",
     "output_type": "stream",
     "text": [
      "System error: Unknown error\n",
      "Model 1 c:\\Users\\josep\\Documents\\Coup-RL\\Coup\\coup\\ray_results\\PPO_decentralised\\PPO_Coup_1bd85_00009_9_clip_param-0.1000-gamma-0.9000-train_batch_size-20000_2024-04-22_00-31-33\n",
      "Model 2 c:\\Users\\josep\\Documents\\Coup-RL\\Coup\\coup\\ray_results\\PPO_decentralised\\PPO_Coup_1bd85_00000_0_clip_param-0.1000-gamma-0.9000-train_batch_size-10000_2024-04-21_20-26-53\n",
      "Model 1 c:\\Users\\josep\\Documents\\Coup-RL\\Coup\\coup\\ray_results\\PPO_decentralised\\PPO_Coup_1bd85_00009_9_clip_param-0.1000-gamma-0.9000-train_batch_size-20000_2024-04-22_00-31-33\n",
      "Model 2 c:\\Users\\josep\\Documents\\Coup-RL\\Coup\\coup\\ray_results\\PPO_decentralised\\PPO_Coup_1bd85_00001_1_clip_param-0.2000-gamma-0.9000-train_batch_size-10000_2024-04-21_20-50-44\n",
      "Model 1 c:\\Users\\josep\\Documents\\Coup-RL\\Coup\\coup\\ray_results\\PPO_decentralised\\PPO_Coup_1bd85_00009_9_clip_param-0.1000-gamma-0.9000-train_batch_size-20000_2024-04-22_00-31-33\n",
      "Model 2 c:\\Users\\josep\\Documents\\Coup-RL\\Coup\\coup\\ray_results\\PPO_decentralised\\PPO_Coup_1bd85_00002_2_clip_param-0.3000-gamma-0.9000-train_batch_size-10000_2024-04-21_21-28-22\n",
      "Model 1 c:\\Users\\josep\\Documents\\Coup-RL\\Coup\\coup\\ray_results\\PPO_decentralised\\PPO_Coup_1bd85_00009_9_clip_param-0.1000-gamma-0.9000-train_batch_size-20000_2024-04-22_00-31-33\n",
      "Model 2 c:\\Users\\josep\\Documents\\Coup-RL\\Coup\\coup\\ray_results\\PPO_decentralised\\PPO_Coup_1bd85_00003_3_clip_param-0.1000-gamma-0.9500-train_batch_size-10000_2024-04-21_21-54-16\n",
      "Model 1 c:\\Users\\josep\\Documents\\Coup-RL\\Coup\\coup\\ray_results\\PPO_decentralised\\PPO_Coup_1bd85_00009_9_clip_param-0.1000-gamma-0.9000-train_batch_size-20000_2024-04-22_00-31-33\n",
      "Model 2 c:\\Users\\josep\\Documents\\Coup-RL\\Coup\\coup\\ray_results\\PPO_decentralised\\PPO_Coup_1bd85_00004_4_clip_param-0.2000-gamma-0.9500-train_batch_size-10000_2024-04-21_22-20-05\n",
      "Model 1 c:\\Users\\josep\\Documents\\Coup-RL\\Coup\\coup\\ray_results\\PPO_decentralised\\PPO_Coup_1bd85_00009_9_clip_param-0.1000-gamma-0.9000-train_batch_size-20000_2024-04-22_00-31-33\n",
      "Model 2 c:\\Users\\josep\\Documents\\Coup-RL\\Coup\\coup\\ray_results\\PPO_decentralised\\PPO_Coup_1bd85_00005_5_clip_param-0.3000-gamma-0.9500-train_batch_size-10000_2024-04-21_22-44-47\n",
      "Model 1 c:\\Users\\josep\\Documents\\Coup-RL\\Coup\\coup\\ray_results\\PPO_decentralised\\PPO_Coup_1bd85_00009_9_clip_param-0.1000-gamma-0.9000-train_batch_size-20000_2024-04-22_00-31-33\n",
      "Model 2 c:\\Users\\josep\\Documents\\Coup-RL\\Coup\\coup\\ray_results\\PPO_decentralised\\PPO_Coup_1bd85_00006_6_clip_param-0.1000-gamma-0.9900-train_batch_size-10000_2024-04-21_23-10-35\n",
      "Model 1 c:\\Users\\josep\\Documents\\Coup-RL\\Coup\\coup\\ray_results\\PPO_decentralised\\PPO_Coup_1bd85_00009_9_clip_param-0.1000-gamma-0.9000-train_batch_size-20000_2024-04-22_00-31-33\n",
      "Model 2 c:\\Users\\josep\\Documents\\Coup-RL\\Coup\\coup\\ray_results\\PPO_decentralised\\PPO_Coup_1bd85_00007_7_clip_param-0.2000-gamma-0.9900-train_batch_size-10000_2024-04-21_23-37-22\n",
      "Model 1 c:\\Users\\josep\\Documents\\Coup-RL\\Coup\\coup\\ray_results\\PPO_decentralised\\PPO_Coup_1bd85_00009_9_clip_param-0.1000-gamma-0.9000-train_batch_size-20000_2024-04-22_00-31-33\n",
      "Model 2 c:\\Users\\josep\\Documents\\Coup-RL\\Coup\\coup\\ray_results\\PPO_decentralised\\PPO_Coup_1bd85_00008_8_clip_param-0.3000-gamma-0.9900-train_batch_size-10000_2024-04-22_00-04-34\n",
      "Model 1 c:\\Users\\josep\\Documents\\Coup-RL\\Coup\\coup\\ray_results\\PPO_decentralised\\PPO_Coup_1bd85_00009_9_clip_param-0.1000-gamma-0.9000-train_batch_size-20000_2024-04-22_00-31-33\n",
      "Model 2 c:\\Users\\josep\\Documents\\Coup-RL\\Coup\\coup\\ray_results\\PPO_decentralised\\PPO_Coup_1bd85_00009_9_clip_param-0.1000-gamma-0.9000-train_batch_size-20000_2024-04-22_00-31-33\n"
     ]
    }
   ],
   "source": [
    "\"\"\"Scripts to play all policies in a folder pairwise against each and and record the results in\n",
    "a pandas dataframe. The results should then be displayed as a heatmap.\n",
    "\"\"\"\n",
    "\n",
    "import coup_v2\n",
    "from ray.rllib.algorithms.algorithm import Algorithm\n",
    "from ray.rllib.env.wrappers.pettingzoo_env import PettingZooEnv\n",
    "from ray.tune.registry import register_env\n",
    "from ray.rllib.models import ModelCatalog\n",
    "from ray.rllib.examples.models.action_mask_model import TorchActionMaskModel as ActionMaskModel\n",
    "from models import ActionMaskCentralisedCritic\n",
    "import ray\n",
    "from utils import get_experiment_folders, get_checkpoints_folder, get_sorted_checkpoints\n",
    "import argparse\n",
    "import pandas as pd\n",
    "import os\n",
    "from remove_equals import fix_dir_names\n",
    "import time\n",
    "\n",
    "scores_df = pd.DataFrame(columns=[\"model_1\", \"model_2\", \"winrate\"])\n",
    "rewards_df = pd.DataFrame(columns=[\"model_1\", \"model_2\", \"avg_rewards\"])\n",
    "\n",
    "\n",
    "num_games = 100\n",
    "# use arg parsing to get the local directory to the folder containing the models\n",
    "#argparser = argparse.ArgumentParser()\n",
    "#argparser.add_argument(\"--models_dir\", type=str, default=\"./ray_results/PPO_decentralised\", help=\"Directory containing the models\")\n",
    "main_folder = os.path.abspath(\"./ray_results/PPO_decentralised\")\n",
    "\n",
    "model_paths = get_experiment_folders(main_folder)\n",
    "print(\"model_names\")\n",
    "\n",
    "ray.shutdown()\n",
    "ray.init(local_mode=True, num_cpus=8, )\n",
    "ModelCatalog.register_custom_model(\"am_model\", ActionMaskModel)\n",
    "register_env(\"Coup\", lambda config: PettingZooEnv(env_creator()))\n",
    "env = coup_v2.env()\n",
    "\n",
    "for model_1 in range(len(model_paths[:10])):\n",
    "    for model_2 in range(len(model_paths[:10])):\n",
    "        \n",
    "        print(f\"Model 1 {model_paths[model_1]}\")\n",
    "        print(f\"Model 2 {model_paths[model_2]}\")\n",
    "        # dont want to play the games twice\n",
    "        if model_1 < model_2 and os.path.exists(model_paths[model_1]) and os.path.exists(model_paths[model_2]):\n",
    "            \n",
    "            # load both models using the respective model path\n",
    "            try:\n",
    "                model_1_path = get_sorted_checkpoints(get_checkpoints_folder(model_paths[model_1]))[-1]\n",
    "                model_2_path = get_sorted_checkpoints(get_checkpoints_folder(model_paths[model_2]))[-1]\n",
    "                \n",
    "\n",
    "                policy_1 = Algorithm.from_checkpoint(model_1_path).get_policy(policy_id=\"policy\")\n",
    "                policy_2 = Algorithm.from_checkpoint(model_2_path).get_policy(policy_id=\"policy\")      \n",
    "\n",
    "\n",
    "\n",
    "                scores, round_reward = play_games(policy_1, policy_2, env, num_games)\n",
    "                \n",
    "                del policy_1, policy_2\n",
    "\n",
    "                temp_scores = pd.DataFrame(columns=[\"model_1\", \"model_2\", \"winrate\"])\n",
    "                temp_scores[\"model_1\"] = [model_paths[model_1]]\n",
    "                temp_scores[\"model_2\"] = [model_paths[model_2]]\n",
    "                temp_scores[\"winrate\"] = [scores[\"player_1\"]/num_games]\n",
    "                scores_df = pd.concat([scores_df, temp_scores], ignore_index=True)\n",
    "                \n",
    "                time.sleep(1)\n",
    "                \n",
    "            except Exception as e:\n",
    "                print(e)\n",
    "                pass\n",
    "ray.shutdown()\n",
    "        #print(scores_df)"
   ]
  },
  {
   "cell_type": "code",
   "execution_count": null,
   "metadata": {},
   "outputs": [],
   "source": []
  },
  {
   "cell_type": "code",
   "execution_count": 11,
   "metadata": {},
   "outputs": [
    {
     "name": "stdout",
     "output_type": "stream",
     "text": [
      "hello\n"
     ]
    }
   ],
   "source": [
    "print(\"hello\")"
   ]
  },
  {
   "cell_type": "code",
   "execution_count": null,
   "metadata": {},
   "outputs": [
    {
     "data": {
      "text/plain": [
       "'c:\\\\Users\\\\josep\\\\Documents\\\\Coup-RL\\\\Coup\\\\coup\\\\ray_results\\\\PPO_decentralised'"
      ]
     },
     "execution_count": 6,
     "metadata": {},
     "output_type": "execute_result"
    }
   ],
   "source": [
    "main_folder"
   ]
  },
  {
   "cell_type": "code",
   "execution_count": null,
   "metadata": {},
   "outputs": [
    {
     "name": "stdout",
     "output_type": "stream",
     "text": [
      "['c:\\\\Users\\\\josep\\\\Documents\\\\Coup-RL\\\\Coup\\\\coup\\\\ray_results\\\\PPO_decentralised\\\\PPO_Coup_1bd85_00000_0_clip_param-0.1000-gamma-0.9000-train_batch_size-10000_2024-04-21_20-26-53', 'c:\\\\Users\\\\josep\\\\Documents\\\\Coup-RL\\\\Coup\\\\coup\\\\ray_results\\\\PPO_decentralised\\\\PPO_Coup_1bd85_00001_1_clip_param-0.2000-gamma-0.9000-train_batch_size-10000_2024-04-21_20-50-44', 'c:\\\\Users\\\\josep\\\\Documents\\\\Coup-RL\\\\Coup\\\\coup\\\\ray_results\\\\PPO_decentralised\\\\PPO_Coup_1bd85_00002_2_clip_param-0.3000-gamma-0.9000-train_batch_size-10000_2024-04-21_21-28-22', 'c:\\\\Users\\\\josep\\\\Documents\\\\Coup-RL\\\\Coup\\\\coup\\\\ray_results\\\\PPO_decentralised\\\\PPO_Coup_1bd85_00003_3_clip_param-0.1000-gamma-0.9500-train_batch_size-10000_2024-04-21_21-54-16', 'c:\\\\Users\\\\josep\\\\Documents\\\\Coup-RL\\\\Coup\\\\coup\\\\ray_results\\\\PPO_decentralised\\\\PPO_Coup_1bd85_00004_4_clip_param-0.2000-gamma-0.9500-train_batch_size-10000_2024-04-21_22-20-05', 'c:\\\\Users\\\\josep\\\\Documents\\\\Coup-RL\\\\Coup\\\\coup\\\\ray_results\\\\PPO_decentralised\\\\PPO_Coup_1bd85_00005_5_clip_param-0.3000-gamma-0.9500-train_batch_size-10000_2024-04-21_22-44-47', 'c:\\\\Users\\\\josep\\\\Documents\\\\Coup-RL\\\\Coup\\\\coup\\\\ray_results\\\\PPO_decentralised\\\\PPO_Coup_1bd85_00006_6_clip_param-0.1000-gamma-0.9900-train_batch_size-10000_2024-04-21_23-10-35', 'c:\\\\Users\\\\josep\\\\Documents\\\\Coup-RL\\\\Coup\\\\coup\\\\ray_results\\\\PPO_decentralised\\\\PPO_Coup_1bd85_00007_7_clip_param-0.2000-gamma-0.9900-train_batch_size-10000_2024-04-21_23-37-22', 'c:\\\\Users\\\\josep\\\\Documents\\\\Coup-RL\\\\Coup\\\\coup\\\\ray_results\\\\PPO_decentralised\\\\PPO_Coup_1bd85_00008_8_clip_param-0.3000-gamma-0.9900-train_batch_size-10000_2024-04-22_00-04-34', 'c:\\\\Users\\\\josep\\\\Documents\\\\Coup-RL\\\\Coup\\\\coup\\\\ray_results\\\\PPO_decentralised\\\\PPO_Coup_1bd85_00009_9_clip_param-0.1000-gamma-0.9000-train_batch_size-20000_2024-04-22_00-31-33', 'c:\\\\Users\\\\josep\\\\Documents\\\\Coup-RL\\\\Coup\\\\coup\\\\ray_results\\\\PPO_decentralised\\\\PPO_Coup_1bd85_00010_10_clip_param-0.2000-gamma-0.9000-train_batch_size-20000_2024-04-22_01-21-03', 'c:\\\\Users\\\\josep\\\\Documents\\\\Coup-RL\\\\Coup\\\\coup\\\\ray_results\\\\PPO_decentralised\\\\PPO_Coup_1bd85_00011_11_clip_param-0.3000-gamma-0.9000-train_batch_size-20000_2024-04-22_02-06-24', 'c:\\\\Users\\\\josep\\\\Documents\\\\Coup-RL\\\\Coup\\\\coup\\\\ray_results\\\\PPO_decentralised\\\\PPO_Coup_1bd85_00012_12_clip_param-0.1000-gamma-0.9500-train_batch_size-20000_2024-04-22_02-49-36', 'c:\\\\Users\\\\josep\\\\Documents\\\\Coup-RL\\\\Coup\\\\coup\\\\ray_results\\\\PPO_decentralised\\\\PPO_Coup_4b296_00000_0_clip_param-0.1000-gamma-0.9000-train_batch_size-20000_2024-04-22_11-37-18', 'c:\\\\Users\\\\josep\\\\Documents\\\\Coup-RL\\\\Coup\\\\coup\\\\ray_results\\\\PPO_decentralised\\\\PPO_Coup_4b296_00001_1_clip_param-0.2000-gamma-0.9000-train_batch_size-20000_2024-04-22_12-31-04', 'c:\\\\Users\\\\josep\\\\Documents\\\\Coup-RL\\\\Coup\\\\coup\\\\ray_results\\\\PPO_decentralised\\\\PPO_Coup_75303_00000_0_clip_param-0.1000-gamma-0.9000-train_batch_size-10000_2024-04-21_20-15-04']\n"
     ]
    },
    {
     "ename": "ValueError",
     "evalue": "Given checkpoint does not seem to be valid! No file with the name `algorithm_state.[pkl|msgpck]` (or `checkpoint-[0-9]+`) found.",
     "output_type": "error",
     "traceback": [
      "\u001b[1;31m---------------------------------------------------------------------------\u001b[0m",
      "\u001b[1;31mValueError\u001b[0m                                Traceback (most recent call last)",
      "Cell \u001b[1;32mIn[7], line 7\u001b[0m\n\u001b[0;32m      4\u001b[0m \u001b[38;5;66;03m#Algorithm.from_checkpoint(model_paths[-6]).get_policy(policy_id=\"policy\")\u001b[39;00m\n\u001b[0;32m      5\u001b[0m \u001b[38;5;66;03m#model_paths[-30]\u001b[39;00m\n\u001b[0;32m      6\u001b[0m ModelCatalog\u001b[38;5;241m.\u001b[39mregister_custom_model(\u001b[38;5;124m\"\u001b[39m\u001b[38;5;124mam_model\u001b[39m\u001b[38;5;124m\"\u001b[39m, ActionMaskModel)\n\u001b[1;32m----> 7\u001b[0m \u001b[43mAlgorithm\u001b[49m\u001b[38;5;241;43m.\u001b[39;49m\u001b[43mfrom_checkpoint\u001b[49m\u001b[43m(\u001b[49m\u001b[38;5;28;43mmax\u001b[39;49m\u001b[43m(\u001b[49m\u001b[43mmodel_paths\u001b[49m\u001b[43m,\u001b[49m\u001b[43m \u001b[49m\u001b[43mkey\u001b[49m\u001b[38;5;241;43m=\u001b[39;49m\u001b[43mos\u001b[49m\u001b[38;5;241;43m.\u001b[39;49m\u001b[43mpath\u001b[49m\u001b[38;5;241;43m.\u001b[39;49m\u001b[43mgetmtime\u001b[49m\u001b[43m)\u001b[49m\u001b[43m)\u001b[49m\u001b[38;5;241m.\u001b[39mget_policy(policy_id\u001b[38;5;241m=\u001b[39m\u001b[38;5;124m\"\u001b[39m\u001b[38;5;124mpolicy\u001b[39m\u001b[38;5;124m\"\u001b[39m)\n",
      "File \u001b[1;32mc:\\Users\\josep\\Documents\\Coup-RL\\env\\lib\\site-packages\\ray\\rllib\\algorithms\\algorithm.py:308\u001b[0m, in \u001b[0;36mAlgorithm.from_checkpoint\u001b[1;34m(checkpoint, policy_ids, policy_mapping_fn, policies_to_train)\u001b[0m\n\u001b[0;32m    274\u001b[0m \u001b[38;5;129m@staticmethod\u001b[39m\n\u001b[0;32m    275\u001b[0m \u001b[38;5;28;01mdef\u001b[39;00m \u001b[38;5;21mfrom_checkpoint\u001b[39m(\n\u001b[0;32m    276\u001b[0m     checkpoint: Union[\u001b[38;5;28mstr\u001b[39m, Checkpoint],\n\u001b[1;32m   (...)\u001b[0m\n\u001b[0;32m    284\u001b[0m     ] \u001b[38;5;241m=\u001b[39m \u001b[38;5;28;01mNone\u001b[39;00m,\n\u001b[0;32m    285\u001b[0m ) \u001b[38;5;241m-\u001b[39m\u001b[38;5;241m>\u001b[39m \u001b[38;5;124m\"\u001b[39m\u001b[38;5;124mAlgorithm\u001b[39m\u001b[38;5;124m\"\u001b[39m:\n\u001b[0;32m    286\u001b[0m \u001b[38;5;250m    \u001b[39m\u001b[38;5;124;03m\"\"\"Creates a new algorithm instance from a given checkpoint.\u001b[39;00m\n\u001b[0;32m    287\u001b[0m \n\u001b[0;32m    288\u001b[0m \u001b[38;5;124;03m    Note: This method must remain backward compatible from 2.0.0 on.\u001b[39;00m\n\u001b[1;32m   (...)\u001b[0m\n\u001b[0;32m    306\u001b[0m \u001b[38;5;124;03m        The instantiated Algorithm.\u001b[39;00m\n\u001b[0;32m    307\u001b[0m \u001b[38;5;124;03m    \"\"\"\u001b[39;00m\n\u001b[1;32m--> 308\u001b[0m     checkpoint_info \u001b[38;5;241m=\u001b[39m \u001b[43mget_checkpoint_info\u001b[49m\u001b[43m(\u001b[49m\u001b[43mcheckpoint\u001b[49m\u001b[43m)\u001b[49m\n\u001b[0;32m    310\u001b[0m     \u001b[38;5;66;03m# Not possible for (v0.1) (algo class and config information missing\u001b[39;00m\n\u001b[0;32m    311\u001b[0m     \u001b[38;5;66;03m# or very hard to retrieve).\u001b[39;00m\n\u001b[0;32m    312\u001b[0m     \u001b[38;5;28;01mif\u001b[39;00m checkpoint_info[\u001b[38;5;124m\"\u001b[39m\u001b[38;5;124mcheckpoint_version\u001b[39m\u001b[38;5;124m\"\u001b[39m] \u001b[38;5;241m==\u001b[39m version\u001b[38;5;241m.\u001b[39mVersion(\u001b[38;5;124m\"\u001b[39m\u001b[38;5;124m0.1\u001b[39m\u001b[38;5;124m\"\u001b[39m):\n",
      "File \u001b[1;32mc:\\Users\\josep\\Documents\\Coup-RL\\env\\lib\\site-packages\\ray\\rllib\\utils\\checkpoints.py:139\u001b[0m, in \u001b[0;36mget_checkpoint_info\u001b[1;34m(checkpoint)\u001b[0m\n\u001b[0;32m    137\u001b[0m         \u001b[38;5;28;01mbreak\u001b[39;00m\n\u001b[0;32m    138\u001b[0m \u001b[38;5;28;01mif\u001b[39;00m \u001b[38;5;28mformat\u001b[39m \u001b[38;5;129;01mis\u001b[39;00m \u001b[38;5;28;01mNone\u001b[39;00m:\n\u001b[1;32m--> 139\u001b[0m     \u001b[38;5;28;01mraise\u001b[39;00m \u001b[38;5;167;01mValueError\u001b[39;00m(\n\u001b[0;32m    140\u001b[0m         \u001b[38;5;124m\"\u001b[39m\u001b[38;5;124mGiven checkpoint does not seem to be valid! No file with the name \u001b[39m\u001b[38;5;124m\"\u001b[39m\n\u001b[0;32m    141\u001b[0m         \u001b[38;5;124m\"\u001b[39m\u001b[38;5;124m`algorithm_state.[pkl|msgpck]` (or `checkpoint-[0-9]+`) found.\u001b[39m\u001b[38;5;124m\"\u001b[39m\n\u001b[0;32m    142\u001b[0m     )\n\u001b[0;32m    144\u001b[0m info\u001b[38;5;241m.\u001b[39mupdate(\n\u001b[0;32m    145\u001b[0m     {\n\u001b[0;32m    146\u001b[0m         \u001b[38;5;124m\"\u001b[39m\u001b[38;5;124mformat\u001b[39m\u001b[38;5;124m\"\u001b[39m: \u001b[38;5;28mformat\u001b[39m,\n\u001b[0;32m    147\u001b[0m         \u001b[38;5;124m\"\u001b[39m\u001b[38;5;124mstate_file\u001b[39m\u001b[38;5;124m\"\u001b[39m: state_file,\n\u001b[0;32m    148\u001b[0m     }\n\u001b[0;32m    149\u001b[0m )\n\u001b[0;32m    151\u001b[0m \u001b[38;5;66;03m# Collect all policy IDs in the sub-dir \"policies/\".\u001b[39;00m\n",
      "\u001b[1;31mValueError\u001b[0m: Given checkpoint does not seem to be valid! No file with the name `algorithm_state.[pkl|msgpck]` (or `checkpoint-[0-9]+`) found."
     ]
    }
   ],
   "source": [
    "#from utils import get_last_agent_path\n",
    "print(model_paths)\n",
    "\n",
    "#Algorithm.from_checkpoint(model_paths[-6]).get_policy(policy_id=\"policy\")\n",
    "#model_paths[-30]\n",
    "ModelCatalog.register_custom_model(\"am_model\", ActionMaskModel)\n",
    "Algorithm.from_checkpoint(max(model_paths, key=os.path.getmtime)).get_policy(policy_id=\"policy\")"
   ]
  },
  {
   "cell_type": "code",
   "execution_count": null,
   "metadata": {},
   "outputs": [
    {
     "ename": "ValueError",
     "evalue": "Given checkpoint (./ray_results/PPO_decentralised/PPO_decentralised_0_2021-08-02_14-00-00q1v1q1v1/checkpoint_000001/checkpoint-1) not found! Must be a checkpoint directory (or a file for older checkpoint versions).",
     "output_type": "error",
     "traceback": [
      "\u001b[1;31m---------------------------------------------------------------------------\u001b[0m",
      "\u001b[1;31mValueError\u001b[0m                                Traceback (most recent call last)",
      "Cell \u001b[1;32mIn[6], line 1\u001b[0m\n\u001b[1;32m----> 1\u001b[0m \u001b[43mAlgorithm\u001b[49m\u001b[38;5;241;43m.\u001b[39;49m\u001b[43mfrom_checkpoint\u001b[49m\u001b[43m(\u001b[49m\u001b[38;5;124;43m\"\u001b[39;49m\u001b[38;5;124;43m./ray_results/PPO_decentralised/PPO_decentralised_0_2021-08-02_14-00-00q1v1q1v1/checkpoint_000001/checkpoint-1\u001b[39;49m\u001b[38;5;124;43m\"\u001b[39;49m\u001b[43m)\u001b[49m\u001b[38;5;241m.\u001b[39mget_policy(policy_id\u001b[38;5;241m=\u001b[39m\u001b[38;5;124m\"\u001b[39m\u001b[38;5;124mpolicy\u001b[39m\u001b[38;5;124m\"\u001b[39m)\n",
      "File \u001b[1;32mc:\\Users\\josep\\Documents\\Coup-RL\\env\\lib\\site-packages\\ray\\rllib\\algorithms\\algorithm.py:308\u001b[0m, in \u001b[0;36mAlgorithm.from_checkpoint\u001b[1;34m(checkpoint, policy_ids, policy_mapping_fn, policies_to_train)\u001b[0m\n\u001b[0;32m    274\u001b[0m \u001b[38;5;129m@staticmethod\u001b[39m\n\u001b[0;32m    275\u001b[0m \u001b[38;5;28;01mdef\u001b[39;00m \u001b[38;5;21mfrom_checkpoint\u001b[39m(\n\u001b[0;32m    276\u001b[0m     checkpoint: Union[\u001b[38;5;28mstr\u001b[39m, Checkpoint],\n\u001b[1;32m   (...)\u001b[0m\n\u001b[0;32m    284\u001b[0m     ] \u001b[38;5;241m=\u001b[39m \u001b[38;5;28;01mNone\u001b[39;00m,\n\u001b[0;32m    285\u001b[0m ) \u001b[38;5;241m-\u001b[39m\u001b[38;5;241m>\u001b[39m \u001b[38;5;124m\"\u001b[39m\u001b[38;5;124mAlgorithm\u001b[39m\u001b[38;5;124m\"\u001b[39m:\n\u001b[0;32m    286\u001b[0m \u001b[38;5;250m    \u001b[39m\u001b[38;5;124;03m\"\"\"Creates a new algorithm instance from a given checkpoint.\u001b[39;00m\n\u001b[0;32m    287\u001b[0m \n\u001b[0;32m    288\u001b[0m \u001b[38;5;124;03m    Note: This method must remain backward compatible from 2.0.0 on.\u001b[39;00m\n\u001b[1;32m   (...)\u001b[0m\n\u001b[0;32m    306\u001b[0m \u001b[38;5;124;03m        The instantiated Algorithm.\u001b[39;00m\n\u001b[0;32m    307\u001b[0m \u001b[38;5;124;03m    \"\"\"\u001b[39;00m\n\u001b[1;32m--> 308\u001b[0m     checkpoint_info \u001b[38;5;241m=\u001b[39m \u001b[43mget_checkpoint_info\u001b[49m\u001b[43m(\u001b[49m\u001b[43mcheckpoint\u001b[49m\u001b[43m)\u001b[49m\n\u001b[0;32m    310\u001b[0m     \u001b[38;5;66;03m# Not possible for (v0.1) (algo class and config information missing\u001b[39;00m\n\u001b[0;32m    311\u001b[0m     \u001b[38;5;66;03m# or very hard to retrieve).\u001b[39;00m\n\u001b[0;32m    312\u001b[0m     \u001b[38;5;28;01mif\u001b[39;00m checkpoint_info[\u001b[38;5;124m\"\u001b[39m\u001b[38;5;124mcheckpoint_version\u001b[39m\u001b[38;5;124m\"\u001b[39m] \u001b[38;5;241m==\u001b[39m version\u001b[38;5;241m.\u001b[39mVersion(\u001b[38;5;124m\"\u001b[39m\u001b[38;5;124m0.1\u001b[39m\u001b[38;5;124m\"\u001b[39m):\n",
      "File \u001b[1;32mc:\\Users\\josep\\Documents\\Coup-RL\\env\\lib\\site-packages\\ray\\rllib\\utils\\checkpoints.py:171\u001b[0m, in \u001b[0;36mget_checkpoint_info\u001b[1;34m(checkpoint)\u001b[0m\n\u001b[0;32m    162\u001b[0m     info\u001b[38;5;241m.\u001b[39mupdate(\n\u001b[0;32m    163\u001b[0m         {\n\u001b[0;32m    164\u001b[0m             \u001b[38;5;124m\"\u001b[39m\u001b[38;5;124mcheckpoint_version\u001b[39m\u001b[38;5;124m\"\u001b[39m: version\u001b[38;5;241m.\u001b[39mVersion(\u001b[38;5;124m\"\u001b[39m\u001b[38;5;124m0.1\u001b[39m\u001b[38;5;124m\"\u001b[39m),\n\u001b[1;32m   (...)\u001b[0m\n\u001b[0;32m    167\u001b[0m         }\n\u001b[0;32m    168\u001b[0m     )\n\u001b[0;32m    170\u001b[0m \u001b[38;5;28;01melse\u001b[39;00m:\n\u001b[1;32m--> 171\u001b[0m     \u001b[38;5;28;01mraise\u001b[39;00m \u001b[38;5;167;01mValueError\u001b[39;00m(\n\u001b[0;32m    172\u001b[0m         \u001b[38;5;124mf\u001b[39m\u001b[38;5;124m\"\u001b[39m\u001b[38;5;124mGiven checkpoint (\u001b[39m\u001b[38;5;132;01m{\u001b[39;00mcheckpoint\u001b[38;5;132;01m}\u001b[39;00m\u001b[38;5;124m) not found! Must be a \u001b[39m\u001b[38;5;124m\"\u001b[39m\n\u001b[0;32m    173\u001b[0m         \u001b[38;5;124m\"\u001b[39m\u001b[38;5;124mcheckpoint directory (or a file for older checkpoint versions).\u001b[39m\u001b[38;5;124m\"\u001b[39m\n\u001b[0;32m    174\u001b[0m     )\n\u001b[0;32m    176\u001b[0m \u001b[38;5;28;01mreturn\u001b[39;00m info\n",
      "\u001b[1;31mValueError\u001b[0m: Given checkpoint (./ray_results/PPO_decentralised/PPO_decentralised_0_2021-08-02_14-00-00q1v1q1v1/checkpoint_000001/checkpoint-1) not found! Must be a checkpoint directory (or a file for older checkpoint versions)."
     ]
    }
   ],
   "source": [
    "Algorithm.from_checkpoint(\"./ray_results/PPO_decentralised/PPO_decentralised_0_2021-08-02_14-00-00q1v1q1v1/checkpoint_000001/checkpoint-1\").get_policy(policy_id=\"policy\")"
   ]
  }
 ],
 "metadata": {
  "kernelspec": {
   "display_name": "env",
   "language": "python",
   "name": "python3"
  },
  "language_info": {
   "codemirror_mode": {
    "name": "ipython",
    "version": 3
   },
   "file_extension": ".py",
   "mimetype": "text/x-python",
   "name": "python",
   "nbconvert_exporter": "python",
   "pygments_lexer": "ipython3",
   "version": "3.10.0"
  }
 },
 "nbformat": 4,
 "nbformat_minor": 2
}
